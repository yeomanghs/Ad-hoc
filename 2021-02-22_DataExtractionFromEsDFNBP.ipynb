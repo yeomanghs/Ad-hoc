{
 "cells": [
  {
   "cell_type": "code",
   "execution_count": 4,
   "metadata": {},
   "outputs": [],
   "source": [
    "from io import StringIO\n",
    "from elasticsearch import Elasticsearch, helpers\n",
    "from datetime import datetime\n",
    "import re\n",
    "import pandas as pd\n",
    "import openpyxl \n",
    "import numpy as np\n",
    "import os\n",
    "\n",
    "pd.set_option('display.max_columns', 100)"
   ]
  },
  {
   "cell_type": "code",
   "execution_count": 5,
   "metadata": {},
   "outputs": [],
   "source": [
    "#connect es\n",
    "es = Elasticsearch([{'host': 'localhost', 'port':9200}])"
   ]
  },
  {
   "cell_type": "code",
   "execution_count": 6,
   "metadata": {},
   "outputs": [
    {
     "data": {
      "text/plain": [
       "['.apm-agent-configuration',\n",
       " '.kibana_1',\n",
       " '.kibana_task_manager_1',\n",
       " '.security-7',\n",
       " 'account_db',\n",
       " 'assignedreadonly',\n",
       " 'audit_trail',\n",
       " 'contact_db',\n",
       " 'detail_ctr_2013',\n",
       " 'detail_ctr_2014',\n",
       " 'detail_ctr_2015',\n",
       " 'detail_ctr_2016',\n",
       " 'detail_ctr_2017',\n",
       " 'detail_ctr_2018',\n",
       " 'detail_ctr_2019',\n",
       " 'detail_ctr_2020',\n",
       " 'detail_itis',\n",
       " 'detail_str',\n",
       " 'distdates',\n",
       " 'distratio2020',\n",
       " 'distrecords',\n",
       " 'entity_db',\n",
       " 'itis_db',\n",
       " 'leave',\n",
       " 'removedrecord',\n",
       " 'report_db',\n",
       " 'tax']"
      ]
     },
     "execution_count": 6,
     "metadata": {},
     "output_type": "execute_result"
    }
   ],
   "source": [
    "#get all indices in es\n",
    "sorted(list(es.indices.get_alias('*').keys()))"
   ]
  },
  {
   "cell_type": "markdown",
   "metadata": {},
   "source": [
    "### STR"
   ]
  },
  {
   "cell_type": "markdown",
   "metadata": {},
   "source": [
    "### 22/01"
   ]
  },
  {
   "cell_type": "code",
   "execution_count": 20,
   "metadata": {},
   "outputs": [],
   "source": [
    "#query example\n",
    "indexName = 'detail_str'\n",
    "\n",
    "startDate = \"01/01/2017\"\n",
    "endDate = \"31/12/2019\"\n",
    "queryStr = {\"bool\":{\"must\":[{\"range\":{\"reported_date\":{\"gte\":startDate, \"lte\":endDate}}}]}}\n",
    "# queryStr = {'match_all':{}}\n",
    "results = helpers.scan(es, index = indexName, query = {'query':queryStr})\n",
    "\n",
    "temp = []\n",
    "for i in results:\n",
    "    temp.append(i['_source'])"
   ]
  },
  {
   "cell_type": "code",
   "execution_count": 21,
   "metadata": {},
   "outputs": [
    {
     "data": {
      "text/plain": [
       "263867"
      ]
     },
     "execution_count": 21,
     "metadata": {},
     "output_type": "execute_result"
    }
   ],
   "source": [
    "len(temp)"
   ]
  },
  {
   "cell_type": "code",
   "execution_count": 147,
   "metadata": {
    "scrolled": true
   },
   "outputs": [
    {
     "data": {
      "text/plain": [
       "dict_keys(['record_id', 'name_list', 'id_list', 'contact_list', 'summary', 'detail', 'reported_date', 'trx_date', 'suspicion_desc', 'reactive', 'uid'])"
      ]
     },
     "execution_count": 147,
     "metadata": {},
     "output_type": "execute_result"
    }
   ],
   "source": [
    "1) same + description contains ['order', 'perintah'] -  number\n",
    "2) reactive = \"yes\" - number"
   ]
  },
  {
   "cell_type": "markdown",
   "metadata": {},
   "source": [
    "### Details of all STRs reported by DNFBP industry players relating to investigation orders issued by LEAs to them or their customers."
   ]
  },
  {
   "cell_type": "code",
   "execution_count": 22,
   "metadata": {},
   "outputs": [],
   "source": [
    "infoList = []\n",
    "for i in temp:\n",
    "    tempDict = i['detail']['report']\n",
    "    tempDict.update({'suspicion_desc':i['suspicion_desc']})\n",
    "    tempDict.update({'reactive':i['reactive']})\n",
    "    infoList.append(tempDict)"
   ]
  },
  {
   "cell_type": "code",
   "execution_count": 23,
   "metadata": {},
   "outputs": [
    {
     "data": {
      "text/plain": [
       "263867"
      ]
     },
     "execution_count": 23,
     "metadata": {},
     "output_type": "execute_result"
    }
   ],
   "source": [
    "len(infoList)"
   ]
  },
  {
   "cell_type": "code",
   "execution_count": 197,
   "metadata": {},
   "outputs": [
    {
     "data": {
      "text/plain": [
       "263428"
      ]
     },
     "execution_count": 197,
     "metadata": {},
     "output_type": "execute_result"
    }
   ],
   "source": [
    "#not all str has ground_suspicion\n",
    "sum([True for i in infoList if \"GROUND_SUSPICION\" in i])"
   ]
  },
  {
   "cell_type": "code",
   "execution_count": 87,
   "metadata": {},
   "outputs": [],
   "source": [
    "gsTypeList = [i[\"GROUND_SUSPICION\"] for i in infoList if \"GROUND_SUSPICION\" in i]\n",
    "\n",
    "#just get str that has ground_suspicion in its field\n",
    "groundList2 = [i for i in infoList if \"GROUND_SUSPICION\" in i]\n",
    "\n",
    "#ground suspicion that contains order\n",
    "groundList3 = [i for i in groundList2 if re.search(\"order\", i['GROUND_SUSPICION'], flags = re.I)]"
   ]
  },
  {
   "cell_type": "code",
   "execution_count": 200,
   "metadata": {},
   "outputs": [
    {
     "data": {
      "text/plain": [
       "14753"
      ]
     },
     "execution_count": 200,
     "metadata": {},
     "output_type": "execute_result"
    }
   ],
   "source": [
    "len(groundList3)"
   ]
  },
  {
   "cell_type": "code",
   "execution_count": 185,
   "metadata": {},
   "outputs": [],
   "source": [
    "df = pd.DataFrame(groundList3)\n",
    "\n",
    "df['ORG_ID2'] = df['RECORD_ID'].map(lambda x:x.split('/')[0] + '/' + x.split('/')[1])"
   ]
  },
  {
   "cell_type": "code",
   "execution_count": 25,
   "metadata": {},
   "outputs": [],
   "source": [
    "#read org list to get org list categorized under dfnbp\n",
    "excelFile = 'org.csv'\n",
    "dfOrg = pd.read_csv(excelFile)"
   ]
  },
  {
   "cell_type": "code",
   "execution_count": 186,
   "metadata": {},
   "outputs": [],
   "source": [
    "#sectors under dnfbp\n",
    "sectorList = [\"Casino\", \"Gaming Outlet Operator\", \"Jewellers & Precious Stones/Metals Dealers\",\n",
    "             \"Building Credit Business\", \"Trust Company\", \"Company Secretary\",\n",
    "             \"Lawyer\", \"Accountant\", \"Moneylender and Pawnbroker\",\n",
    "             \"Real Estate Agent\", \"Leasing and Factoring\"]\n",
    "#add takaful - DA/003\n",
    "orgIDList = list(dfOrg.query(\"ORG_GROUP_NAME in @sectorList\")['ORG_ID'].values) + ['DA/003']\n",
    "\n",
    "#filter ground_suspicion contains order\n",
    "df_DFNBP = df[df['ORG_ID2'].map(lambda x:x in orgIDList)].copy()"
   ]
  },
  {
   "cell_type": "code",
   "execution_count": 187,
   "metadata": {},
   "outputs": [
    {
     "data": {
      "text/plain": [
       "(112, 38)"
      ]
     },
     "execution_count": 187,
     "metadata": {},
     "output_type": "execute_result"
    }
   ],
   "source": [
    "df_DFNBP.shape"
   ]
  },
  {
   "cell_type": "code",
   "execution_count": 225,
   "metadata": {},
   "outputs": [],
   "source": [
    "a = df_DFNBP['RECORD_ID'].unique()"
   ]
  },
  {
   "cell_type": "code",
   "execution_count": 212,
   "metadata": {},
   "outputs": [],
   "source": [
    "#just get str that has ground_suspicion in its field or description contains ['order', 'perintah']\n",
    "filterList = [i for i in infoList if \"GROUND_SUSPICION\" in i or \n",
    "               re.search(\"order|perintah\", i['suspicion_desc'], flags = re.I)]"
   ]
  },
  {
   "cell_type": "code",
   "execution_count": 214,
   "metadata": {},
   "outputs": [
    {
     "data": {
      "text/plain": [
       "(263479, 43)"
      ]
     },
     "execution_count": 214,
     "metadata": {},
     "output_type": "execute_result"
    }
   ],
   "source": [
    "dfFilter = pd.DataFrame(filterList)"
   ]
  },
  {
   "cell_type": "code",
   "execution_count": 215,
   "metadata": {},
   "outputs": [],
   "source": [
    "dfFilter['ORG_ID2'] = dfFilter['RECORD_ID'].map(lambda x:x.split('/')[0] + '/' + x.split('/')[1])"
   ]
  },
  {
   "cell_type": "code",
   "execution_count": 219,
   "metadata": {},
   "outputs": [],
   "source": [
    "#sectors under dnfbp\n",
    "sectorList = [\"Casino\", \"Gaming Outlet Operator\", \"Jewellers & Precious Stones/Metals Dealers\",\n",
    "             \"Building Credit Business\", \"Trust Company\", \"Company Secretary\",\n",
    "             \"Lawyer\", \"Accountant\", \"Moneylender and Pawnbroker\",\n",
    "             \"Real Estate Agent\", \"Leasing and Factoring\"]\n",
    "#add takaful - DA/003\n",
    "orgIDList = list(dfOrg.query(\"ORG_GROUP_NAME in @sectorList\")['ORG_ID'].values) + ['DA/003']\n",
    "\n",
    "#filter ground_suspicion contains order\n",
    "dfFilterFinal = dfFilter[dfFilter['ORG_ID2'].map(lambda x:x in orgIDList)].copy()"
   ]
  },
  {
   "cell_type": "code",
   "execution_count": 220,
   "metadata": {},
   "outputs": [
    {
     "data": {
      "text/plain": [
       "(22853, 44)"
      ]
     },
     "execution_count": 220,
     "metadata": {},
     "output_type": "execute_result"
    }
   ],
   "source": [
    "dfFilterFinal.shape"
   ]
  },
  {
   "cell_type": "code",
   "execution_count": 27,
   "metadata": {},
   "outputs": [
    {
     "data": {
      "text/plain": [
       "42646"
      ]
     },
     "execution_count": 27,
     "metadata": {},
     "output_type": "execute_result"
    }
   ],
   "source": [
    "#just get str that reactive = yes\n",
    "filterList2 = [i for i in infoList if i['reactive'] == 'Yes']\n",
    "len(filterList2)"
   ]
  },
  {
   "cell_type": "code",
   "execution_count": 28,
   "metadata": {},
   "outputs": [],
   "source": [
    "dfFilter2 = pd.DataFrame(filterList2)\n",
    "dfFilter2['ORG_ID2'] = dfFilter2['RECORD_ID'].map(lambda x:x.split('/')[0] + '/' + x.split('/')[1])"
   ]
  },
  {
   "cell_type": "code",
   "execution_count": 29,
   "metadata": {},
   "outputs": [],
   "source": [
    "#sectors under dnfbp\n",
    "sectorList = [\"Casino\", \"Gaming Outlet Operator\", \"Jewellers & Precious Stones/Metals Dealers\",\n",
    "             \"Building Credit Business\", \"Trust Company\", \"Company Secretary\",\n",
    "             \"Lawyer\", \"Accountant\", \"Moneylender and Pawnbroker\",\n",
    "             \"Real Estate Agent\", \"Leasing and Factoring\"]\n",
    "#add takaful - DA/003\n",
    "orgIDList = list(dfOrg.query(\"ORG_GROUP_NAME in @sectorList\")['ORG_ID'].values) + ['DA/003']\n",
    "\n",
    "#filter ground_suspicion contains order\n",
    "dfFilterFinal2 = dfFilter2[dfFilter2['ORG_ID2'].map(lambda x:x in orgIDList)].copy()"
   ]
  },
  {
   "cell_type": "code",
   "execution_count": 33,
   "metadata": {},
   "outputs": [
    {
     "data": {
      "text/html": [
       "<div>\n",
       "<style scoped>\n",
       "    .dataframe tbody tr th:only-of-type {\n",
       "        vertical-align: middle;\n",
       "    }\n",
       "\n",
       "    .dataframe tbody tr th {\n",
       "        vertical-align: top;\n",
       "    }\n",
       "\n",
       "    .dataframe thead th {\n",
       "        text-align: right;\n",
       "    }\n",
       "</style>\n",
       "<table border=\"1\" class=\"dataframe\">\n",
       "  <thead>\n",
       "    <tr style=\"text-align: right;\">\n",
       "      <th></th>\n",
       "      <th>ORG_ID</th>\n",
       "      <th>RECORD_ID</th>\n",
       "      <th>RECORD_TYPE_ID</th>\n",
       "      <th>ATTEMPTED_FLAG</th>\n",
       "      <th>STATE_ID</th>\n",
       "      <th>BRANCH_ID</th>\n",
       "      <th>ACCOUNT_TYPE_ID</th>\n",
       "      <th>FROM_TRX_DATE</th>\n",
       "      <th>TO_TRX_DATE</th>\n",
       "      <th>TRX_AMOUNT</th>\n",
       "      <th>CURRENCY_ID1</th>\n",
       "      <th>CURRENCY_ID2</th>\n",
       "      <th>REPORTED_DATE</th>\n",
       "      <th>GROUND_SUSPICION</th>\n",
       "      <th>OFFENCE_TYPE_ID</th>\n",
       "      <th>OTHER_SUSPICION</th>\n",
       "      <th>suspicion_desc</th>\n",
       "      <th>reactive</th>\n",
       "      <th>ACCOUNT_NO</th>\n",
       "      <th>ACCOUNT_STATUS_ID</th>\n",
       "      <th>TRX_TYPE_ID</th>\n",
       "      <th>ACCOUNT_OPEN_DATE</th>\n",
       "      <th>ACCOUNT_BALANCE</th>\n",
       "      <th>AMOUNT_FOREIGN1</th>\n",
       "      <th>CDS_NO</th>\n",
       "      <th>PRODUCT_CODE</th>\n",
       "      <th>COUNTER_CODE</th>\n",
       "      <th>TOTAL_FUND</th>\n",
       "      <th>POLICY_NO</th>\n",
       "      <th>POLICY_TYPE</th>\n",
       "      <th>INSURANCE_TYPE_ID</th>\n",
       "      <th>BUSINESS_CLASS_ID</th>\n",
       "      <th>POLICY_COMM_DATE</th>\n",
       "      <th>SUM_INSURED</th>\n",
       "      <th>PREMIUM_AMOUNT</th>\n",
       "      <th>CLAIM_NO</th>\n",
       "      <th>MEMBER_NO</th>\n",
       "      <th>MEMBER_TYPE</th>\n",
       "      <th>JOINED_DATE</th>\n",
       "      <th>ORG_ID2</th>\n",
       "    </tr>\n",
       "  </thead>\n",
       "  <tbody>\n",
       "    <tr>\n",
       "      <th>41653</th>\n",
       "      <td>Orix Leasing Malaysia</td>\n",
       "      <td>AO/005/S/2018/000001F</td>\n",
       "      <td>STR Leasing and Factoring</td>\n",
       "      <td>N</td>\n",
       "      <td>UNKNOWN</td>\n",
       "      <td>UNKNOWN</td>\n",
       "      <td>UNKNOWN</td>\n",
       "      <td>01/11/2018</td>\n",
       "      <td>13/11/2018</td>\n",
       "      <td>28292.0</td>\n",
       "      <td>NaN</td>\n",
       "      <td>NaN</td>\n",
       "      <td>23/11/2018</td>\n",
       "      <td>Others (Please specify)</td>\n",
       "      <td>Money Laundering</td>\n",
       "      <td>SETTLEMENT OF CONTRACTS BY 3RD PARTY AS CUSTOM...</td>\n",
       "      <td>REFER TO ANNEXURE</td>\n",
       "      <td>Yes</td>\n",
       "      <td>NaN</td>\n",
       "      <td>NaN</td>\n",
       "      <td>NaN</td>\n",
       "      <td>NaN</td>\n",
       "      <td>NaN</td>\n",
       "      <td>NaN</td>\n",
       "      <td>NaN</td>\n",
       "      <td>NaN</td>\n",
       "      <td>NaN</td>\n",
       "      <td>NaN</td>\n",
       "      <td>NaN</td>\n",
       "      <td>NaN</td>\n",
       "      <td>NaN</td>\n",
       "      <td>NaN</td>\n",
       "      <td>NaN</td>\n",
       "      <td>NaN</td>\n",
       "      <td>NaN</td>\n",
       "      <td>NaN</td>\n",
       "      <td>NaN</td>\n",
       "      <td>NaN</td>\n",
       "      <td>NaN</td>\n",
       "      <td>AO/005</td>\n",
       "    </tr>\n",
       "    <tr>\n",
       "      <th>41691</th>\n",
       "      <td>MY Bullion Trade</td>\n",
       "      <td>AQ/006/S/2019/000001F</td>\n",
       "      <td>STR Jewellers &amp; Precious Stones/Metals Dealers</td>\n",
       "      <td>N</td>\n",
       "      <td>UNKNOWN</td>\n",
       "      <td>UNKNOWN</td>\n",
       "      <td>UNKNOWN</td>\n",
       "      <td>10/04/2019</td>\n",
       "      <td>15/04/2019</td>\n",
       "      <td>436000.0</td>\n",
       "      <td>NaN</td>\n",
       "      <td>NaN</td>\n",
       "      <td>16/04/2019</td>\n",
       "      <td>Unwillingness of buyer to disclose identity</td>\n",
       "      <td>Fraud</td>\n",
       "      <td>PURCHASER LOOKS SUSPICIOUS, SHIFTY EYES AND DO...</td>\n",
       "      <td>AS PER ATTACHED POLICE REPORT.</td>\n",
       "      <td>Yes</td>\n",
       "      <td>NaN</td>\n",
       "      <td>NaN</td>\n",
       "      <td>NaN</td>\n",
       "      <td>NaN</td>\n",
       "      <td>NaN</td>\n",
       "      <td>NaN</td>\n",
       "      <td>NaN</td>\n",
       "      <td>NaN</td>\n",
       "      <td>NaN</td>\n",
       "      <td>NaN</td>\n",
       "      <td>NaN</td>\n",
       "      <td>NaN</td>\n",
       "      <td>NaN</td>\n",
       "      <td>NaN</td>\n",
       "      <td>NaN</td>\n",
       "      <td>NaN</td>\n",
       "      <td>NaN</td>\n",
       "      <td>NaN</td>\n",
       "      <td>NaN</td>\n",
       "      <td>NaN</td>\n",
       "      <td>NaN</td>\n",
       "      <td>AQ/006</td>\n",
       "    </tr>\n",
       "    <tr>\n",
       "      <th>41692</th>\n",
       "      <td>Perpetual Trustees Berhad</td>\n",
       "      <td>AS/004/S/2017/000001F</td>\n",
       "      <td>STR Trust Companies</td>\n",
       "      <td>N</td>\n",
       "      <td>NON-MALAYSIAN STATE</td>\n",
       "      <td>UNKNOWN</td>\n",
       "      <td>OTHERS</td>\n",
       "      <td>04/05/2017</td>\n",
       "      <td>NaN</td>\n",
       "      <td>0.0</td>\n",
       "      <td>NaN</td>\n",
       "      <td>NaN</td>\n",
       "      <td>04/05/2017</td>\n",
       "      <td>Counterfeit/ fraud/ unauthorised transaction, ...</td>\n",
       "      <td>Unknown</td>\n",
       "      <td>AS PER POLICE REPORT ATTACHED</td>\n",
       "      <td>DETAILS IN ATTACHED POLICE REPORT</td>\n",
       "      <td>Yes</td>\n",
       "      <td>NaN</td>\n",
       "      <td>NaN</td>\n",
       "      <td>NaN</td>\n",
       "      <td>NaN</td>\n",
       "      <td>NaN</td>\n",
       "      <td>NaN</td>\n",
       "      <td>NaN</td>\n",
       "      <td>NaN</td>\n",
       "      <td>NaN</td>\n",
       "      <td>0.0</td>\n",
       "      <td>NaN</td>\n",
       "      <td>NaN</td>\n",
       "      <td>NaN</td>\n",
       "      <td>NaN</td>\n",
       "      <td>NaN</td>\n",
       "      <td>NaN</td>\n",
       "      <td>NaN</td>\n",
       "      <td>NaN</td>\n",
       "      <td>NaN</td>\n",
       "      <td>NaN</td>\n",
       "      <td>NaN</td>\n",
       "      <td>AS/004</td>\n",
       "    </tr>\n",
       "    <tr>\n",
       "      <th>41693</th>\n",
       "      <td>Kenanga Capital Sdn Bhd.</td>\n",
       "      <td>AT/001/S/2019/000001</td>\n",
       "      <td>STR Moneylender and Pawnbroker</td>\n",
       "      <td>N</td>\n",
       "      <td>UNKNOWN</td>\n",
       "      <td>UNKNOWN</td>\n",
       "      <td>UNKNOWN</td>\n",
       "      <td>18/02/2019</td>\n",
       "      <td>18/02/2019</td>\n",
       "      <td>0.0</td>\n",
       "      <td>NaN</td>\n",
       "      <td>NaN</td>\n",
       "      <td>21/02/2019</td>\n",
       "      <td>Investigation Order - MACC, Investigation Orde...</td>\n",
       "      <td>Money Laundering</td>\n",
       "      <td>PREVIOUSLY REPRIMANDED BY MACC</td>\n",
       "      <td>A) CLIENT'S INFORMATION\\r\\r\\n\\r\\r\\n 1. THE CLI...</td>\n",
       "      <td>Yes</td>\n",
       "      <td>NaN</td>\n",
       "      <td>NaN</td>\n",
       "      <td>NaN</td>\n",
       "      <td>NaN</td>\n",
       "      <td>NaN</td>\n",
       "      <td>NaN</td>\n",
       "      <td>NaN</td>\n",
       "      <td>NaN</td>\n",
       "      <td>NaN</td>\n",
       "      <td>NaN</td>\n",
       "      <td>NaN</td>\n",
       "      <td>NaN</td>\n",
       "      <td>NaN</td>\n",
       "      <td>NaN</td>\n",
       "      <td>NaN</td>\n",
       "      <td>NaN</td>\n",
       "      <td>NaN</td>\n",
       "      <td>NaN</td>\n",
       "      <td>NaN</td>\n",
       "      <td>NaN</td>\n",
       "      <td>NaN</td>\n",
       "      <td>AT/001</td>\n",
       "    </tr>\n",
       "    <tr>\n",
       "      <th>41804</th>\n",
       "      <td>Resorts World Bhd.</td>\n",
       "      <td>DA/002/S/2017/000281</td>\n",
       "      <td>STR Casino</td>\n",
       "      <td>N</td>\n",
       "      <td>UNKNOWN</td>\n",
       "      <td>UNKNOWN</td>\n",
       "      <td>UNKNOWN</td>\n",
       "      <td>02/11/2016</td>\n",
       "      <td>02/11/2016</td>\n",
       "      <td>0.0</td>\n",
       "      <td>NaN</td>\n",
       "      <td>NaN</td>\n",
       "      <td>10/01/2017</td>\n",
       "      <td>Investigation Order - Others</td>\n",
       "      <td>Tax Offences</td>\n",
       "      <td>SEKSYEN 114 AKTA CUKAI PENDAPATAN 1967</td>\n",
       "      <td>ON 02 NOVEMBER 2016, GENTING MALAYSIA BERHAD (...</td>\n",
       "      <td>Yes</td>\n",
       "      <td>NaN</td>\n",
       "      <td>NaN</td>\n",
       "      <td>NaN</td>\n",
       "      <td>NaN</td>\n",
       "      <td>NaN</td>\n",
       "      <td>0.0</td>\n",
       "      <td>NaN</td>\n",
       "      <td>NaN</td>\n",
       "      <td>NaN</td>\n",
       "      <td>NaN</td>\n",
       "      <td>NaN</td>\n",
       "      <td>NaN</td>\n",
       "      <td>NaN</td>\n",
       "      <td>NaN</td>\n",
       "      <td>NaN</td>\n",
       "      <td>NaN</td>\n",
       "      <td>NaN</td>\n",
       "      <td>NaN</td>\n",
       "      <td>88085024</td>\n",
       "      <td>Platinum Principal</td>\n",
       "      <td>11/08/1999</td>\n",
       "      <td>DA/002</td>\n",
       "    </tr>\n",
       "  </tbody>\n",
       "</table>\n",
       "</div>"
      ],
      "text/plain": [
       "                          ORG_ID              RECORD_ID  \\\n",
       "41653      Orix Leasing Malaysia  AO/005/S/2018/000001F   \n",
       "41691           MY Bullion Trade  AQ/006/S/2019/000001F   \n",
       "41692  Perpetual Trustees Berhad  AS/004/S/2017/000001F   \n",
       "41693   Kenanga Capital Sdn Bhd.   AT/001/S/2019/000001   \n",
       "41804         Resorts World Bhd.   DA/002/S/2017/000281   \n",
       "\n",
       "                                       RECORD_TYPE_ID ATTEMPTED_FLAG  \\\n",
       "41653                       STR Leasing and Factoring              N   \n",
       "41691  STR Jewellers & Precious Stones/Metals Dealers              N   \n",
       "41692                             STR Trust Companies              N   \n",
       "41693                  STR Moneylender and Pawnbroker              N   \n",
       "41804                                      STR Casino              N   \n",
       "\n",
       "                  STATE_ID BRANCH_ID ACCOUNT_TYPE_ID FROM_TRX_DATE  \\\n",
       "41653              UNKNOWN   UNKNOWN         UNKNOWN    01/11/2018   \n",
       "41691              UNKNOWN   UNKNOWN         UNKNOWN    10/04/2019   \n",
       "41692  NON-MALAYSIAN STATE   UNKNOWN          OTHERS    04/05/2017   \n",
       "41693              UNKNOWN   UNKNOWN         UNKNOWN    18/02/2019   \n",
       "41804              UNKNOWN   UNKNOWN         UNKNOWN    02/11/2016   \n",
       "\n",
       "      TO_TRX_DATE TRX_AMOUNT CURRENCY_ID1 CURRENCY_ID2 REPORTED_DATE  \\\n",
       "41653  13/11/2018    28292.0          NaN          NaN    23/11/2018   \n",
       "41691  15/04/2019   436000.0          NaN          NaN    16/04/2019   \n",
       "41692         NaN        0.0          NaN          NaN    04/05/2017   \n",
       "41693  18/02/2019        0.0          NaN          NaN    21/02/2019   \n",
       "41804  02/11/2016        0.0          NaN          NaN    10/01/2017   \n",
       "\n",
       "                                        GROUND_SUSPICION   OFFENCE_TYPE_ID  \\\n",
       "41653                            Others (Please specify)  Money Laundering   \n",
       "41691        Unwillingness of buyer to disclose identity             Fraud   \n",
       "41692  Counterfeit/ fraud/ unauthorised transaction, ...           Unknown   \n",
       "41693  Investigation Order - MACC, Investigation Orde...  Money Laundering   \n",
       "41804                       Investigation Order - Others      Tax Offences   \n",
       "\n",
       "                                         OTHER_SUSPICION  \\\n",
       "41653  SETTLEMENT OF CONTRACTS BY 3RD PARTY AS CUSTOM...   \n",
       "41691  PURCHASER LOOKS SUSPICIOUS, SHIFTY EYES AND DO...   \n",
       "41692                      AS PER POLICE REPORT ATTACHED   \n",
       "41693                     PREVIOUSLY REPRIMANDED BY MACC   \n",
       "41804             SEKSYEN 114 AKTA CUKAI PENDAPATAN 1967   \n",
       "\n",
       "                                          suspicion_desc reactive ACCOUNT_NO  \\\n",
       "41653                                  REFER TO ANNEXURE      Yes        NaN   \n",
       "41691                     AS PER ATTACHED POLICE REPORT.      Yes        NaN   \n",
       "41692                  DETAILS IN ATTACHED POLICE REPORT      Yes        NaN   \n",
       "41693  A) CLIENT'S INFORMATION\\r\\r\\n\\r\\r\\n 1. THE CLI...      Yes        NaN   \n",
       "41804  ON 02 NOVEMBER 2016, GENTING MALAYSIA BERHAD (...      Yes        NaN   \n",
       "\n",
       "      ACCOUNT_STATUS_ID TRX_TYPE_ID ACCOUNT_OPEN_DATE ACCOUNT_BALANCE  \\\n",
       "41653               NaN         NaN               NaN             NaN   \n",
       "41691               NaN         NaN               NaN             NaN   \n",
       "41692               NaN         NaN               NaN             NaN   \n",
       "41693               NaN         NaN               NaN             NaN   \n",
       "41804               NaN         NaN               NaN             NaN   \n",
       "\n",
       "      AMOUNT_FOREIGN1 CDS_NO PRODUCT_CODE COUNTER_CODE TOTAL_FUND POLICY_NO  \\\n",
       "41653             NaN    NaN          NaN          NaN        NaN       NaN   \n",
       "41691             NaN    NaN          NaN          NaN        NaN       NaN   \n",
       "41692             NaN    NaN          NaN          NaN        0.0       NaN   \n",
       "41693             NaN    NaN          NaN          NaN        NaN       NaN   \n",
       "41804             0.0    NaN          NaN          NaN        NaN       NaN   \n",
       "\n",
       "      POLICY_TYPE INSURANCE_TYPE_ID BUSINESS_CLASS_ID POLICY_COMM_DATE  \\\n",
       "41653         NaN               NaN               NaN              NaN   \n",
       "41691         NaN               NaN               NaN              NaN   \n",
       "41692         NaN               NaN               NaN              NaN   \n",
       "41693         NaN               NaN               NaN              NaN   \n",
       "41804         NaN               NaN               NaN              NaN   \n",
       "\n",
       "      SUM_INSURED PREMIUM_AMOUNT CLAIM_NO MEMBER_NO         MEMBER_TYPE  \\\n",
       "41653         NaN            NaN      NaN       NaN                 NaN   \n",
       "41691         NaN            NaN      NaN       NaN                 NaN   \n",
       "41692         NaN            NaN      NaN       NaN                 NaN   \n",
       "41693         NaN            NaN      NaN       NaN                 NaN   \n",
       "41804         NaN            NaN      NaN  88085024  Platinum Principal   \n",
       "\n",
       "      JOINED_DATE ORG_ID2  \n",
       "41653         NaN  AO/005  \n",
       "41691         NaN  AQ/006  \n",
       "41692         NaN  AS/004  \n",
       "41693         NaN  AT/001  \n",
       "41804  11/08/1999  DA/002  "
      ]
     },
     "execution_count": 33,
     "metadata": {},
     "output_type": "execute_result"
    }
   ],
   "source": [
    "dfFilterFinal2.head()"
   ]
  },
  {
   "cell_type": "code",
   "execution_count": 32,
   "metadata": {},
   "outputs": [],
   "source": [
    "csvFile = \"2021-01-25_ReactiveStrDFNBP.csv\"\n",
    "dfFilterFinal2.to_csv(csvFile, index = False)"
   ]
  },
  {
   "cell_type": "code",
   "execution_count": 226,
   "metadata": {},
   "outputs": [],
   "source": [
    "b = dfFilterFinal2['RECORD_ID'].unique()"
   ]
  },
  {
   "cell_type": "code",
   "execution_count": 227,
   "metadata": {},
   "outputs": [
    {
     "data": {
      "text/plain": [
       "112"
      ]
     },
     "execution_count": 227,
     "metadata": {},
     "output_type": "execute_result"
    }
   ],
   "source": [
    "len(set(b)&set(a))"
   ]
  },
  {
   "cell_type": "code",
   "execution_count": 229,
   "metadata": {},
   "outputs": [
    {
     "data": {
      "text/plain": [
       "(55, 40)"
      ]
     },
     "execution_count": 229,
     "metadata": {},
     "output_type": "execute_result"
    }
   ],
   "source": [
    "c = set(b).difference(set(a))\n",
    "dfFilterFinal3 = dfFilterFinal2[dfFilterFinal2['RECORD_ID'].isin(c)]\n",
    "dfFilterFinal3.shape"
   ]
  },
  {
   "cell_type": "code",
   "execution_count": 230,
   "metadata": {},
   "outputs": [],
   "source": [
    "csvFile = \"2021-01-22_55ReactiveStr.csv\"\n",
    "dfFilterFinal3.to_csv(csvFile, index = False)"
   ]
  },
  {
   "cell_type": "code",
   "execution_count": 145,
   "metadata": {},
   "outputs": [],
   "source": [
    "csvFile = \"2021-01-22_StrTableDFNBP.csv\"\n",
    "df_DFNBP.to_csv(csvFile, index = False)"
   ]
  },
  {
   "cell_type": "markdown",
   "metadata": {},
   "source": [
    "### details of all STRs reported by gaming institutions, covering period from year 2017 to year 2019"
   ]
  },
  {
   "cell_type": "code",
   "execution_count": 202,
   "metadata": {},
   "outputs": [],
   "source": [
    "sectorList = [\"Gaming Outlet Operator\"]\n",
    "orgIDList = dfOrg.query(\"ORG_GROUP_NAME in @sectorList\")['ORG_ID'].values"
   ]
  },
  {
   "cell_type": "code",
   "execution_count": 206,
   "metadata": {
    "collapsed": true
   },
   "outputs": [
    {
     "data": {
      "text/plain": [
       "{'ORG_ID': 'Spectrum Forex Sdn. Bhd.',\n",
       " 'RECORD_ID': '117/271800V/S/2017/000004',\n",
       " 'RECORD_TYPE_ID': 'STR Money changer',\n",
       " 'ATTEMPTED_FLAG': 'N',\n",
       " 'STATE_ID': 'UNKNOWN',\n",
       " 'BRANCH_ID': 'UNKNOWN',\n",
       " 'ACCOUNT_TYPE_ID': 'UNKNOWN',\n",
       " 'FROM_TRX_DATE': '19/11/2016',\n",
       " 'TO_TRX_DATE': '25/11/2016',\n",
       " 'TRX_AMOUNT': '36746.0',\n",
       " 'CURRENCY_ID1': 'US Dollar',\n",
       " 'CURRENCY_ID2': 'Malaysian Ringgit',\n",
       " 'REPORTED_DATE': '18/01/2017',\n",
       " 'GROUND_SUSPICION': 'Others (Please specify)',\n",
       " 'OFFENCE_TYPE_ID': 'Bribery/Corruption',\n",
       " 'OTHER_SUSPICION': 'REFUSED TO GIVE DOCUMENT (TRANSACTION ON BEHALF OF ANOTHER PERSON)',\n",
       " 'suspicion_desc': 'CUSTOMER, MURUGAYA A/L SUBBIAH, 50 (D.O.B: 10 JAN 1967) EMPLOYED AS A DRIVER.\\r\\r\\n\\r\\r\\nCUSTOMER HAS CAME 3 TIMES IN NILAI TESCO BRANCH TO PERFORM MONEY CHANGING TRANSACTIONS, DETAILS OF TRANSACTION AS BELOW:\\r\\r\\n\\r\\r\\n      DATE\\t          TRAN TIME\\t      B/S            CURR\\tAMOUNT (RM)\\r\\r\\n25-NOV-16\\t4:10:00 PM\\t   WESELL\\tUSD\\tRM4,460.00\\r\\r\\n19-NOV-16\\t2:15:00 PM\\t   WEBUY\\tUSD\\tRM27,936.00\\r\\r\\n19-NOV-16    10:29:00 AM\\t   WEBUY\\tUSD\\tRM4,350.00\\r\\r\\n\\r\\r\\nTHE TOTAL AMOUNT OF TRANSACTIONS IS EQUIVALENT TO RM 36,746.00.\\r\\r\\nCUSTOMER INFORMED THAT THE PURPOSE OF TRANSACTIONS IS FOR BUSINESS AND THE SOURCE IS FROM BUSINESS INCOME.\\r\\r\\nFURTHER CLARIFICATION WITH CUSTOMER REVEALED  THAT THE TRANSACTIONS WAS ACTUALLY CONDUCTED ON BEHALF OF HIS BOSS AND CUSTOMER DID MENTIONED THE COMPANY NAME (SANTUN PURI SDN BHD)\\r\\r\\n\\r\\r\\nSTAFF HAS REQUESTED FROM CUSTOMER TO PROVIDE AUTHORIZATION LETTER AND THE PHOTOCOPY OF AUTHORIZED PERSON ID.\\r\\r\\nCUSTOMER INFORMED THAT HE WILL THEN EMAIL THE REQUESTED DOCUMENT. \\r\\r\\nHOWEVER ACCORDING TO THE STAFF, AFTER FEW TIMES OF REMINDER CUSTOMER STILL DID NOT PROVIDE THE SAID DOCUMENT. \\r\\r\\n\\r\\r\\nDUE TO CUSTOMER UNUSUAL BEHAVIOR  REFUSED TO GIVE THE SAID DOCUMENT, COMPLIANCE ESCALATE THE CASE FOR FURTHER REVIEW.\\r\\r\\n\\r\\r\\n'}"
      ]
     },
     "execution_count": 206,
     "metadata": {},
     "output_type": "execute_result"
    }
   ],
   "source": [
    "infoList[0]"
   ]
  },
  {
   "cell_type": "code",
   "execution_count": 201,
   "metadata": {},
   "outputs": [
    {
     "data": {
      "text/plain": [
       "(263867, 42)"
      ]
     },
     "execution_count": 201,
     "metadata": {},
     "output_type": "execute_result"
    }
   ],
   "source": [
    "df2 = pd.DataFrame(infoList)\n",
    "df2.shape"
   ]
  },
  {
   "cell_type": "code",
   "execution_count": 203,
   "metadata": {},
   "outputs": [],
   "source": [
    "df2['ORG_ID2'] = df2['RECORD_ID'].map(lambda x:x.split('/')[0] + '/' + x.split('/')[1])\n",
    "df_DFNBP2 = df2[df2['ORG_ID2'].map(lambda x:x in orgIDList)].copy()"
   ]
  },
  {
   "cell_type": "code",
   "execution_count": 204,
   "metadata": {},
   "outputs": [
    {
     "data": {
      "text/plain": [
       "(261, 43)"
      ]
     },
     "execution_count": 204,
     "metadata": {},
     "output_type": "execute_result"
    }
   ],
   "source": [
    "df_DFNBP2.shape"
   ]
  },
  {
   "cell_type": "code",
   "execution_count": 209,
   "metadata": {},
   "outputs": [],
   "source": [
    "csvFile = \"2021-01-22_StrGamingInst.csv\"\n",
    "df_DFNBP2.to_csv(csvFile, index = False)"
   ]
  },
  {
   "cell_type": "markdown",
   "metadata": {},
   "source": [
    "### 22/02"
   ]
  },
  {
   "cell_type": "code",
   "execution_count": 7,
   "metadata": {},
   "outputs": [],
   "source": [
    "#query example\n",
    "indexName = 'detail_str'\n",
    "\n",
    "startDate = \"01/01/2020\"\n",
    "endDate = \"31/12/2020\"\n",
    "queryStr = {\"bool\":{\"must\":[{\"range\":{\"reported_date\":{\"gte\":startDate, \"lte\":endDate}}}]}}\n",
    "# queryStr = {'match_all':{}}\n",
    "results = helpers.scan(es, index = indexName, query = {'query':queryStr})\n",
    "\n",
    "temp = []\n",
    "for i in results:\n",
    "    temp.append(i['_source'])"
   ]
  },
  {
   "cell_type": "code",
   "execution_count": 8,
   "metadata": {},
   "outputs": [
    {
     "data": {
      "text/plain": [
       "76075"
      ]
     },
     "execution_count": 8,
     "metadata": {},
     "output_type": "execute_result"
    }
   ],
   "source": [
    "len(temp)"
   ]
  },
  {
   "cell_type": "code",
   "execution_count": 9,
   "metadata": {},
   "outputs": [],
   "source": [
    "infoList = []\n",
    "for i in temp:\n",
    "    tempDict = i['detail']['report']\n",
    "    tempDict.update({'suspicion_desc':i['suspicion_desc']})\n",
    "    tempDict.update({'reactive':i['reactive']})\n",
    "    infoList.append(tempDict)\n",
    "\n",
    "df = pd.DataFrame(infoList)\n",
    "\n",
    "df['ORG_ID2'] = df['RECORD_ID'].map(lambda x:x.split('/')[0] + '/' + x.split('/')[1])"
   ]
  },
  {
   "cell_type": "code",
   "execution_count": 17,
   "metadata": {
    "collapsed": true
   },
   "outputs": [
    {
     "data": {
      "text/plain": [
       "array(['13/01/2020', '07/01/2020', '03/01/2020', '08/01/2020',\n",
       "       '09/01/2020', '11/01/2020', '04/01/2020', '12/01/2020',\n",
       "       '06/01/2020', '02/01/2020', '10/01/2020', '05/01/2020',\n",
       "       '01/01/2020', '17/01/2020', '12/02/2020', '13/02/2020',\n",
       "       '16/01/2020', '20/01/2020', '21/01/2020', '23/01/2020',\n",
       "       '06/02/2020', '17/02/2020', '20/02/2020', '31/01/2020',\n",
       "       '28/01/2020', '22/01/2020', '24/01/2020', '04/02/2020',\n",
       "       '14/02/2020', '05/02/2020', '03/02/2020', '18/02/2020',\n",
       "       '29/01/2020', '27/01/2020', '08/02/2020', '15/01/2020',\n",
       "       '07/02/2020', '19/02/2020', '30/01/2020', '14/01/2020',\n",
       "       '19/01/2020', '21/02/2020', '11/02/2020', '01/02/2020',\n",
       "       '09/02/2020', '22/02/2020', '02/02/2020', '10/02/2020',\n",
       "       '25/01/2020', '26/01/2020', '18/01/2020', '16/02/2020',\n",
       "       '23/02/2020', '15/02/2020', '06/03/2020', '03/03/2020',\n",
       "       '28/02/2020', '18/03/2020', '04/03/2020', '09/03/2020',\n",
       "       '11/03/2020', '16/03/2020', '08/04/2020', '10/04/2020',\n",
       "       '17/03/2020', '25/02/2020', '24/03/2020', '29/02/2020',\n",
       "       '24/02/2020', '19/03/2020', '12/03/2020', '15/03/2020',\n",
       "       '13/03/2020', '31/03/2020', '07/05/2020', '13/05/2020',\n",
       "       '10/03/2020', '08/05/2020', '02/03/2020', '21/03/2020',\n",
       "       '10/05/2020', '27/02/2020', '26/02/2020', '08/03/2020',\n",
       "       '05/03/2020', '07/03/2020', '03/04/2020', '23/03/2020',\n",
       "       '17/04/2020', '22/04/2020', '14/04/2020', '20/03/2020',\n",
       "       '02/04/2020', '16/04/2020', '15/04/2020', '23/04/2020',\n",
       "       '29/04/2020', '20/04/2020', '12/05/2020', '26/03/2020',\n",
       "       '28/04/2020', '30/04/2020', '06/04/2020', '27/04/2020',\n",
       "       '13/04/2020', '01/04/2020', '07/04/2020', '24/04/2020',\n",
       "       '05/05/2020', '09/04/2020', '06/05/2020', '21/04/2020',\n",
       "       '25/03/2020', '27/03/2020', '30/03/2020', '04/05/2020',\n",
       "       '01/03/2020', '05/04/2020', '02/05/2020', '11/05/2020',\n",
       "       '03/05/2020', '04/04/2020', '19/04/2020', '29/03/2020',\n",
       "       '12/04/2020', '28/03/2020', '01/05/2020', '26/04/2020',\n",
       "       '14/03/2020', '22/03/2020', '11/04/2020', '18/04/2020',\n",
       "       '25/04/2020', '09/05/2020', '14/05/2020', '19/05/2020',\n",
       "       '22/05/2020', '06/06/2020', '15/05/2020', '28/05/2020',\n",
       "       '29/05/2020', '01/06/2020', '02/06/2020', '03/06/2020',\n",
       "       '04/06/2020', '05/06/2020', '16/05/2020', '18/05/2020',\n",
       "       '21/05/2020', '20/05/2020', '27/05/2020', '23/05/2020',\n",
       "       '17/05/2020', '31/05/2020', '25/05/2020', '08/06/2020',\n",
       "       '30/05/2020', '07/06/2020', '24/05/2020', '26/05/2020',\n",
       "       '10/06/2020', '11/06/2020', '09/06/2020', '27/07/2020',\n",
       "       '26/07/2020', '16/07/2020', '15/07/2020', '13/07/2020',\n",
       "       '12/07/2020', '22/07/2020', '21/07/2020', '12/06/2020',\n",
       "       '14/06/2020', '13/06/2020', '14/07/2020', '20/07/2020',\n",
       "       '25/07/2020', '24/07/2020', '18/06/2020', '10/07/2020',\n",
       "       '08/07/2020', '30/06/2020', '19/06/2020', '22/06/2020',\n",
       "       '17/06/2020', '29/06/2020', '02/07/2020', '03/07/2020',\n",
       "       '07/07/2020', '09/07/2020', '11/07/2020', '06/07/2020',\n",
       "       '24/06/2020', '15/06/2020', '27/06/2020', '16/06/2020',\n",
       "       '23/06/2020', '25/06/2020', '20/06/2020', '04/07/2020',\n",
       "       '26/06/2020', '01/07/2020', '05/07/2020', '21/06/2020',\n",
       "       '28/06/2020', '17/07/2020', '19/07/2020', '18/07/2020',\n",
       "       '06/08/2020', '05/08/2020', '04/08/2020', '28/07/2020',\n",
       "       '03/08/2020', '02/08/2020', '07/08/2020', '30/07/2020',\n",
       "       '29/07/2020', '01/08/2020', '31/07/2020', '23/07/2020',\n",
       "       '08/08/2020', '10/08/2020', '09/08/2020', '11/08/2020',\n",
       "       '12/08/2020', '13/08/2020', '14/08/2020', '15/08/2020'],\n",
       "      dtype=object)"
      ]
     },
     "execution_count": 17,
     "metadata": {},
     "output_type": "execute_result"
    }
   ],
   "source": [
    "df['REPORTED_DATE'].unique()"
   ]
  },
  {
   "cell_type": "code",
   "execution_count": 10,
   "metadata": {},
   "outputs": [],
   "source": [
    "#read org list to get org list categorized under dfnbp\n",
    "excelFile = 'data/raw/org.csv'\n",
    "dfOrg = pd.read_csv(excelFile)"
   ]
  },
  {
   "cell_type": "code",
   "execution_count": 11,
   "metadata": {},
   "outputs": [],
   "source": [
    "#sectors under dnfbp\n",
    "sectorList = [\"Casino\", \"Gaming Outlet Operator\", \"Jewellers & Precious Stones/Metals Dealers\",\n",
    "             \"Building Credit Business\", \"Trust Company\", \"Company Secretary\",\n",
    "             \"Lawyer\", \"Accountant\", \"Moneylender and Pawnbroker\",\n",
    "             \"Real Estate Agent\", \"Leasing and Factoring\"]\n",
    "#add takaful - DA/003\n",
    "orgIDList = list(dfOrg.query(\"ORG_GROUP_NAME in @sectorList\")['ORG_ID'].values) + ['DA/003']"
   ]
  },
  {
   "cell_type": "code",
   "execution_count": 12,
   "metadata": {},
   "outputs": [],
   "source": [
    "df_DFNBP = df[df['ORG_ID2'].map(lambda x:x in orgIDList)].copy()"
   ]
  },
  {
   "cell_type": "code",
   "execution_count": 13,
   "metadata": {},
   "outputs": [
    {
     "data": {
      "text/plain": [
       "Index(['ORG_ID', 'RECORD_ID', 'RECORD_TYPE_ID', 'ATTEMPTED_FLAG', 'STATE_ID',\n",
       "       'BRANCH_ID', 'ACCOUNT_TYPE_ID', 'FROM_TRX_DATE', 'TO_TRX_DATE',\n",
       "       'TRX_AMOUNT', 'CURRENCY_ID1', 'CURRENCY_ID2', 'REPORTED_DATE',\n",
       "       'GROUND_SUSPICION', 'OFFENCE_TYPE_ID', 'OTHER_SUSPICION',\n",
       "       'suspicion_desc', 'reactive', 'ACCOUNT_NO', 'ACCOUNT_STATUS_ID',\n",
       "       'TRX_TYPE_ID', 'ACCOUNT_OPEN_DATE', 'ACCOUNT_BALANCE',\n",
       "       'AMOUNT_FOREIGN1', 'CDS_NO', 'PRODUCT_CODE', 'COUNTER_CODE',\n",
       "       'TOTAL_FUND', 'POLICY_NO', 'POLICY_TYPE', 'INSURANCE_TYPE_ID',\n",
       "       'BUSINESS_CLASS_ID', 'POLICY_COMM_DATE', 'SUM_INSURED',\n",
       "       'PREMIUM_AMOUNT', 'MEMBER_NO', 'MEMBER_TYPE', 'JOINED_DATE',\n",
       "       'WINNING_AMOUNT', 'TICKET_NO', 'REGISTRATION_NO', 'MONEY_ORDER_NO',\n",
       "       'CLAIM_NO', 'ORG_ID2'],\n",
       "      dtype='object')"
      ]
     },
     "execution_count": 13,
     "metadata": {},
     "output_type": "execute_result"
    }
   ],
   "source": [
    "df_DFNBP.columns"
   ]
  },
  {
   "cell_type": "code",
   "execution_count": 14,
   "metadata": {},
   "outputs": [
    {
     "data": {
      "text/plain": [
       "array(['STR Jewellers & Precious Stones/Metals Dealers', 'STR Casino',\n",
       "       'STR financial', 'STR Leasing and Factoring',\n",
       "       'STR Moneylender and Pawnbroker', 'STR Gaming Outlet',\n",
       "       'STR Company Secretary', 'STR Lawyer-Accountant',\n",
       "       'STR Trust Companies'], dtype=object)"
      ]
     },
     "execution_count": 14,
     "metadata": {},
     "output_type": "execute_result"
    }
   ],
   "source": [
    "df_DFNBP['RECORD_TYPE_ID'].unique()"
   ]
  },
  {
   "cell_type": "code",
   "execution_count": 16,
   "metadata": {
    "collapsed": true
   },
   "outputs": [
    {
     "data": {
      "text/plain": [
       "array(['03/01/2020', '08/01/2020', '09/01/2020', '02/01/2020',\n",
       "       '06/01/2020', '07/01/2020', '10/01/2020', '01/01/2020',\n",
       "       '13/01/2020', '21/01/2020', '13/02/2020', '20/02/2020',\n",
       "       '17/01/2020', '14/01/2020', '16/01/2020', '20/01/2020',\n",
       "       '23/01/2020', '22/01/2020', '24/01/2020', '12/02/2020',\n",
       "       '31/01/2020', '06/02/2020', '29/01/2020', '03/02/2020',\n",
       "       '30/01/2020', '04/02/2020', '07/02/2020', '10/02/2020',\n",
       "       '05/02/2020', '17/02/2020', '11/02/2020', '14/02/2020',\n",
       "       '18/02/2020', '19/02/2020', '21/02/2020', '30/04/2020',\n",
       "       '16/03/2020', '03/03/2020', '27/02/2020', '28/02/2020',\n",
       "       '24/02/2020', '05/03/2020', '02/03/2020', '25/02/2020',\n",
       "       '26/02/2020', '04/03/2020', '09/03/2020', '06/03/2020',\n",
       "       '10/03/2020', '12/03/2020', '11/03/2020', '13/03/2020',\n",
       "       '17/03/2020', '01/04/2020', '31/03/2020', '03/04/2020',\n",
       "       '04/04/2020', '18/03/2020', '24/03/2020', '28/03/2020',\n",
       "       '02/04/2020', '05/04/2020', '08/04/2020', '06/04/2020',\n",
       "       '07/04/2020', '12/04/2020', '09/04/2020', '10/04/2020',\n",
       "       '11/04/2020', '24/04/2020', '14/04/2020', '15/04/2020',\n",
       "       '13/04/2020', '28/04/2020', '16/04/2020', '17/04/2020',\n",
       "       '18/04/2020', '21/04/2020', '20/04/2020', '23/04/2020',\n",
       "       '25/04/2020', '27/04/2020', '07/05/2020', '03/05/2020',\n",
       "       '05/05/2020', '25/03/2020', '26/03/2020', '27/03/2020',\n",
       "       '04/05/2020', '08/03/2020', '19/03/2020', '22/05/2020',\n",
       "       '16/05/2020', '01/06/2020', '05/06/2020', '20/05/2020',\n",
       "       '21/05/2020', '14/05/2020', '11/06/2020', '10/06/2020',\n",
       "       '27/07/2020', '16/07/2020', '13/07/2020', '22/07/2020',\n",
       "       '14/07/2020', '15/07/2020', '21/07/2020', '26/07/2020',\n",
       "       '25/07/2020', '25/06/2020', '09/07/2020', '16/06/2020',\n",
       "       '22/06/2020', '18/06/2020', '24/06/2020', '29/06/2020',\n",
       "       '30/06/2020', '03/07/2020', '07/07/2020', '08/07/2020',\n",
       "       '26/06/2020', '19/06/2020', '20/06/2020', '17/07/2020',\n",
       "       '06/08/2020', '05/08/2020', '28/07/2020', '04/08/2020',\n",
       "       '03/08/2020', '07/08/2020', '24/07/2020', '29/07/2020',\n",
       "       '10/08/2020', '11/08/2020', '12/08/2020', '13/08/2020',\n",
       "       '14/08/2020', '15/08/2020'], dtype=object)"
      ]
     },
     "execution_count": 16,
     "metadata": {},
     "output_type": "execute_result"
    }
   ],
   "source": [
    "df_DFNBP['REPORTED_DATE'].unique()"
   ]
  },
  {
   "cell_type": "code",
   "execution_count": 20,
   "metadata": {},
   "outputs": [],
   "source": [
    "csvFile = \"2021-02-22_StrTableDNFBP2020.csv\"\n",
    "df_DFNBP.to_csv(csvFile, index = False)"
   ]
  },
  {
   "cell_type": "code",
   "execution_count": 18,
   "metadata": {},
   "outputs": [],
   "source": [
    "csvFile = \"2021-02-22_StrTableDNFBP2020.csv\"\n",
    "df = pd.read_csv(csvFile)"
   ]
  },
  {
   "cell_type": "code",
   "execution_count": 20,
   "metadata": {},
   "outputs": [
    {
     "data": {
      "text/plain": [
       "array(['STR Jewellers & Precious Stones/Metals Dealers',\n",
       "       'STR Trust Companies', 'STR Casino', 'STR financial',\n",
       "       'STR Gaming Outlet', 'STR Lawyer-Accountant',\n",
       "       'STR Leasing and Factoring', 'STR Moneylender and Pawnbroker',\n",
       "       'STR Company Secretary'], dtype=object)"
      ]
     },
     "execution_count": 20,
     "metadata": {},
     "output_type": "execute_result"
    }
   ],
   "source": [
    "df['RECORD_TYPE_ID'].unique()"
   ]
  },
  {
   "cell_type": "markdown",
   "metadata": {},
   "source": [
    "### ITIS"
   ]
  },
  {
   "cell_type": "code",
   "execution_count": 4,
   "metadata": {},
   "outputs": [],
   "source": [
    "#query example\n",
    "indexName = 'detail_itis'\n",
    "\n",
    "startDate = \"01/01/2016\"\n",
    "endDate = \"31/12/2020\"\n",
    "queryStr = {\"bool\":{\"must\":[{\"range\":{\"reported_date\":{\"gte\":startDate, \"lte\":endDate}}}]}}\n",
    "# queryStr = {'match_all':{}}\n",
    "results = helpers.scan(es, index = indexName, query = {'query':queryStr})\n",
    "\n",
    "temp = []\n",
    "for i in results:\n",
    "    temp.append(i['_source'])"
   ]
  },
  {
   "cell_type": "code",
   "execution_count": 5,
   "metadata": {},
   "outputs": [
    {
     "data": {
      "text/plain": [
       "5650627"
      ]
     },
     "execution_count": 5,
     "metadata": {},
     "output_type": "execute_result"
    }
   ],
   "source": [
    "len(temp)"
   ]
  },
  {
   "cell_type": "code",
   "execution_count": 23,
   "metadata": {},
   "outputs": [
    {
     "data": {
      "text/plain": [
       "{'reported_date': '16/02/2016',\n",
       " 'id_list': ['993229W'],\n",
       " 'name_list': ['SABAH SHELL PETROLEUM'],\n",
       " 'detail': {'RESIDENT_NAME': 'SABAH SHELL PETROLEUM',\n",
       "  'RESIDENT_ID': '993229W',\n",
       "  'NON_RESIDENT_COUNTRY': 'INDONESIA',\n",
       "  'REPORTED_DATE': '16/02/2016',\n",
       "  'ORG_ID': 'RHB BANK BERHAD',\n",
       "  'TRANSACTION_TYPE': 'Receipts',\n",
       "  'AMOUNT': '9365305.64',\n",
       "  'TRANSACTION_PURPOSE': 'HEAD OFFICE ACCOUNTS IN BRANCHES'},\n",
       " 'uid': ['e-64506a9e-3e76-46bb-8891-72849f5bc790']}"
      ]
     },
     "execution_count": 23,
     "metadata": {},
     "output_type": "execute_result"
    }
   ],
   "source": [
    "temp[0]"
   ]
  },
  {
   "cell_type": "code",
   "execution_count": 6,
   "metadata": {},
   "outputs": [],
   "source": [
    "cleanTemp = []\n",
    "for i in temp:\n",
    "    tempDict = {}\n",
    "    for key in i:\n",
    "        if key == \"detail\":\n",
    "            for key2 in i[key]:\n",
    "                tempDict[key2] = i[key][key2]\n",
    "        elif key not in ['uid']:\n",
    "            tempDict[key] = i[key]\n",
    "    cleanTemp.append(tempDict)"
   ]
  },
  {
   "cell_type": "code",
   "execution_count": 7,
   "metadata": {},
   "outputs": [
    {
     "data": {
      "text/plain": [
       "5650627"
      ]
     },
     "execution_count": 7,
     "metadata": {},
     "output_type": "execute_result"
    }
   ],
   "source": [
    "len(cleanTemp)"
   ]
  },
  {
   "cell_type": "code",
   "execution_count": 8,
   "metadata": {},
   "outputs": [],
   "source": [
    "dfItis = pd.DataFrame(cleanTemp)"
   ]
  },
  {
   "cell_type": "code",
   "execution_count": 16,
   "metadata": {},
   "outputs": [
    {
     "data": {
      "text/plain": [
       "Index(['reported_date', 'id_list', 'name_list', 'RESIDENT_NAME', 'RESIDENT_ID',\n",
       "       'NON_RESIDENT_COUNTRY', 'REPORTED_DATE', 'ORG_ID', 'TRANSACTION_TYPE',\n",
       "       'AMOUNT', 'TRANSACTION_PURPOSE', 'NON_RESIDENT_NAME', 'account',\n",
       "       'ACCOUNT_NO', 'is_tagged'],\n",
       "      dtype='object')"
      ]
     },
     "execution_count": 16,
     "metadata": {},
     "output_type": "execute_result"
    }
   ],
   "source": [
    "dfItis.columns"
   ]
  },
  {
   "cell_type": "code",
   "execution_count": 8,
   "metadata": {},
   "outputs": [],
   "source": [
    "IdList = dfItis['RESIDENT_ID'].unique()"
   ]
  },
  {
   "cell_type": "code",
   "execution_count": 9,
   "metadata": {},
   "outputs": [
    {
     "data": {
      "text/plain": [
       "126299"
      ]
     },
     "execution_count": 9,
     "metadata": {},
     "output_type": "execute_result"
    }
   ],
   "source": [
    "len(IdList)"
   ]
  },
  {
   "cell_type": "code",
   "execution_count": 9,
   "metadata": {},
   "outputs": [],
   "source": [
    "dfItis['Year'] = pd.to_datetime(dfItis['reported_date']).dt.year\n",
    "\n",
    "dfItis['AMOUNT'] = dfItis['AMOUNT'].astype(float)"
   ]
  },
  {
   "cell_type": "code",
   "execution_count": 34,
   "metadata": {},
   "outputs": [
    {
     "data": {
      "text/plain": [
       "Index(['reported_date', 'id_list', 'name_list', 'RESIDENT_NAME', 'RESIDENT_ID',\n",
       "       'NON_RESIDENT_COUNTRY', 'REPORTED_DATE', 'ORG_ID', 'TRANSACTION_TYPE',\n",
       "       'AMOUNT', 'TRANSACTION_PURPOSE', 'NON_RESIDENT_NAME', 'account',\n",
       "       'ACCOUNT_NO', 'is_tagged', 'Year'],\n",
       "      dtype='object')"
      ]
     },
     "execution_count": 34,
     "metadata": {},
     "output_type": "execute_result"
    }
   ],
   "source": [
    "dfItis.columns"
   ]
  },
  {
   "cell_type": "code",
   "execution_count": 40,
   "metadata": {},
   "outputs": [
    {
     "data": {
      "text/plain": [
       "2019    1416231\n",
       "2018    1116927\n",
       "2017    1066588\n",
       "2020    1061649\n",
       "2016     989232\n",
       "Name: Year, dtype: int64"
      ]
     },
     "execution_count": 40,
     "metadata": {},
     "output_type": "execute_result"
    }
   ],
   "source": [
    "dfItis['Year'].value_counts()"
   ]
  },
  {
   "cell_type": "code",
   "execution_count": 10,
   "metadata": {},
   "outputs": [],
   "source": [
    "excelFile = \"data/raw/Data for ITIS - LFSA January 2021.xlsx\"\n",
    "wb_obj = openpyxl.load_workbook(excelFile) \n",
    "\n",
    "sheetNameList = wb_obj.sheetnames"
   ]
  },
  {
   "cell_type": "code",
   "execution_count": 131,
   "metadata": {},
   "outputs": [],
   "source": [
    "entityIdList = [k for i,j in entitiesDict2.items() for k in j]"
   ]
  },
  {
   "cell_type": "code",
   "execution_count": 125,
   "metadata": {},
   "outputs": [],
   "source": [
    "excelFile = \"data/raw/Data  - STR, CTRs & ITIS  - LIBFC RA 2020.xlsx\"\n",
    "dfIDYL = pd.read_excel(excelFile)\n",
    "\n",
    "idListYL = [re.sub(\"/\",\"\",i) for i in dfIDYL['LL Number'].values]"
   ]
  },
  {
   "cell_type": "code",
   "execution_count": 132,
   "metadata": {},
   "outputs": [
    {
     "data": {
      "text/plain": [
       "(6210, 6210)"
      ]
     },
     "execution_count": 132,
     "metadata": {},
     "output_type": "execute_result"
    }
   ],
   "source": [
    "len(idListYL), len(entityIdList)"
   ]
  },
  {
   "cell_type": "code",
   "execution_count": 133,
   "metadata": {},
   "outputs": [
    {
     "data": {
      "text/plain": [
       "6176"
      ]
     },
     "execution_count": 133,
     "metadata": {},
     "output_type": "execute_result"
    }
   ],
   "source": [
    "len(set(idListYL) & set(entityIdList))"
   ]
  },
  {
   "cell_type": "code",
   "execution_count": 135,
   "metadata": {},
   "outputs": [
    {
     "data": {
      "text/plain": [
       "{'LAF00087-(I)',\n",
       " 'LAF00206-(I)',\n",
       " 'LAF00284-(I)',\n",
       " 'LAF00285-(I)',\n",
       " 'LAF00333-(I)',\n",
       " 'LAF00399-(I)',\n",
       " 'LLP001432015-(I)',\n",
       " 'LLP001812015-(I)',\n",
       " 'LLP001842015-(I)',\n",
       " 'LLP001852015-(I)',\n",
       " 'LLP00462013-(I)'}"
      ]
     },
     "execution_count": 135,
     "metadata": {},
     "output_type": "execute_result"
    }
   ],
   "source": [
    "set(idListYL).difference(set(entityIdList))"
   ]
  },
  {
   "cell_type": "code",
   "execution_count": 136,
   "metadata": {
    "collapsed": true
   },
   "outputs": [
    {
     "data": {
      "text/plain": [
       "{'LAF00087(I)',\n",
       " 'LAF00206(I)',\n",
       " 'LAF00284(I)',\n",
       " 'LAF00285(I)',\n",
       " 'LAF00333(I)',\n",
       " 'LAF00399(I)',\n",
       " 'LLP001432015(I)',\n",
       " 'LLP001812015(I)',\n",
       " 'LLP001842015(I)',\n",
       " 'LLP001852015(I)',\n",
       " 'LLP00462013(I)'}"
      ]
     },
     "execution_count": 136,
     "metadata": {},
     "output_type": "execute_result"
    }
   ],
   "source": [
    "set(entityIdList).difference(set(idListYL))"
   ]
  },
  {
   "cell_type": "code",
   "execution_count": 12,
   "metadata": {},
   "outputs": [],
   "source": [
    "entitiesDict = {}\n",
    "for sector in sheetNameList:\n",
    "    df = pd.read_excel(excelFile, sheet_name = sector)\n",
    "    entitiesDict[sector] = list(df['Column1'].values)"
   ]
  },
  {
   "cell_type": "code",
   "execution_count": 13,
   "metadata": {},
   "outputs": [],
   "source": [
    "#remove slash symbol for partnerships, trusts\n",
    "entitiesDict2 = {i:[re.sub('/|-', '',x) for x in j] for i,j in entitiesDict.items()}"
   ]
  },
  {
   "cell_type": "code",
   "execution_count": 14,
   "metadata": {},
   "outputs": [],
   "source": [
    "resultList = []\n",
    "for i in ['Receipts', 'Payments']:\n",
    "    for year in np.arange(2016, 2021):\n",
    "        for sector in entitiesDict2:\n",
    "            dfTemp = dfItis[(dfItis['TRANSACTION_TYPE'] == i) &\n",
    "                           (dfItis['Year'] == year) &\n",
    "                           (dfItis['RESIDENT_ID'].isin(entitiesDict2[sector]))].copy()\n",
    "            sumAmount = dfTemp['AMOUNT'].sum()\n",
    "            noEntity = len(dfTemp['RESIDENT_ID'].unique())\n",
    "            noTrans = dfTemp.shape[0]\n",
    "            #store result: Sector, Receipts/Payments, Year, TotalAmount, NoPlayer \n",
    "            tempList = [sector, i, year, sumAmount, noEntity, noTrans]\n",
    "            resultList.append(tempList)"
   ]
  },
  {
   "cell_type": "code",
   "execution_count": 95,
   "metadata": {},
   "outputs": [
    {
     "data": {
      "text/html": [
       "<div>\n",
       "<style scoped>\n",
       "    .dataframe tbody tr th:only-of-type {\n",
       "        vertical-align: middle;\n",
       "    }\n",
       "\n",
       "    .dataframe tbody tr th {\n",
       "        vertical-align: top;\n",
       "    }\n",
       "\n",
       "    .dataframe thead th {\n",
       "        text-align: right;\n",
       "    }\n",
       "</style>\n",
       "<table border=\"1\" class=\"dataframe\">\n",
       "  <thead>\n",
       "    <tr style=\"text-align: right;\">\n",
       "      <th></th>\n",
       "      <th>Sector</th>\n",
       "      <th>TransactionType</th>\n",
       "      <th>Year</th>\n",
       "      <th>TotalAmount</th>\n",
       "      <th>NoTrans</th>\n",
       "    </tr>\n",
       "  </thead>\n",
       "  <tbody>\n",
       "    <tr>\n",
       "      <th>0</th>\n",
       "      <td>Banks</td>\n",
       "      <td>Receipts</td>\n",
       "      <td>2016</td>\n",
       "      <td>0.000000e+00</td>\n",
       "      <td>0</td>\n",
       "    </tr>\n",
       "    <tr>\n",
       "      <th>1</th>\n",
       "      <td>Insurance</td>\n",
       "      <td>Receipts</td>\n",
       "      <td>2016</td>\n",
       "      <td>0.000000e+00</td>\n",
       "      <td>0</td>\n",
       "    </tr>\n",
       "    <tr>\n",
       "      <th>2</th>\n",
       "      <td>Leasing</td>\n",
       "      <td>Receipts</td>\n",
       "      <td>2016</td>\n",
       "      <td>0.000000e+00</td>\n",
       "      <td>0</td>\n",
       "    </tr>\n",
       "    <tr>\n",
       "      <th>3</th>\n",
       "      <td>LITC</td>\n",
       "      <td>Receipts</td>\n",
       "      <td>2016</td>\n",
       "      <td>2.220020e+08</td>\n",
       "      <td>22</td>\n",
       "    </tr>\n",
       "    <tr>\n",
       "      <th>4</th>\n",
       "      <td>Money Broker</td>\n",
       "      <td>Receipts</td>\n",
       "      <td>2016</td>\n",
       "      <td>0.000000e+00</td>\n",
       "      <td>0</td>\n",
       "    </tr>\n",
       "    <tr>\n",
       "      <th>...</th>\n",
       "      <td>...</td>\n",
       "      <td>...</td>\n",
       "      <td>...</td>\n",
       "      <td>...</td>\n",
       "      <td>...</td>\n",
       "    </tr>\n",
       "    <tr>\n",
       "      <th>105</th>\n",
       "      <td>Trust Company</td>\n",
       "      <td>Payments</td>\n",
       "      <td>2020</td>\n",
       "      <td>0.000000e+00</td>\n",
       "      <td>0</td>\n",
       "    </tr>\n",
       "    <tr>\n",
       "      <th>106</th>\n",
       "      <td>Foundations</td>\n",
       "      <td>Payments</td>\n",
       "      <td>2020</td>\n",
       "      <td>0.000000e+00</td>\n",
       "      <td>0</td>\n",
       "    </tr>\n",
       "    <tr>\n",
       "      <th>107</th>\n",
       "      <td>Labuan Companies</td>\n",
       "      <td>Payments</td>\n",
       "      <td>2020</td>\n",
       "      <td>0.000000e+00</td>\n",
       "      <td>0</td>\n",
       "    </tr>\n",
       "    <tr>\n",
       "      <th>108</th>\n",
       "      <td>Partnerships</td>\n",
       "      <td>Payments</td>\n",
       "      <td>2020</td>\n",
       "      <td>0.000000e+00</td>\n",
       "      <td>0</td>\n",
       "    </tr>\n",
       "    <tr>\n",
       "      <th>109</th>\n",
       "      <td>Trusts</td>\n",
       "      <td>Payments</td>\n",
       "      <td>2020</td>\n",
       "      <td>0.000000e+00</td>\n",
       "      <td>0</td>\n",
       "    </tr>\n",
       "  </tbody>\n",
       "</table>\n",
       "<p>110 rows × 5 columns</p>\n",
       "</div>"
      ],
      "text/plain": [
       "               Sector TransactionType  Year   TotalAmount  NoTrans\n",
       "0              Banks         Receipts  2016  0.000000e+00        0\n",
       "1          Insurance         Receipts  2016  0.000000e+00        0\n",
       "2            Leasing         Receipts  2016  0.000000e+00        0\n",
       "3                LITC        Receipts  2016  2.220020e+08       22\n",
       "4       Money Broker         Receipts  2016  0.000000e+00        0\n",
       "..                ...             ...   ...           ...      ...\n",
       "105    Trust Company         Payments  2020  0.000000e+00        0\n",
       "106      Foundations         Payments  2020  0.000000e+00        0\n",
       "107  Labuan Companies        Payments  2020  0.000000e+00        0\n",
       "108      Partnerships        Payments  2020  0.000000e+00        0\n",
       "109            Trusts        Payments  2020  0.000000e+00        0\n",
       "\n",
       "[110 rows x 5 columns]"
      ]
     },
     "execution_count": 95,
     "metadata": {},
     "output_type": "execute_result"
    }
   ],
   "source": [
    "dfResult = pd.DataFrame(resultList)\n",
    "dfResult.columns = [\"Sector\", \"TransactionType\", \"Year\", \"TotalAmount\", \"NoPlayer\", \"NoTrans\"]\n",
    "del dfResult['NoPlayer']\n",
    "dfResult"
   ]
  },
  {
   "cell_type": "code",
   "execution_count": 96,
   "metadata": {},
   "outputs": [],
   "source": [
    "csvFile = \"data/interim/2021-01-30_ItisEsTempTable.csv\"\n",
    "dfResult.to_csv(csvFile, index = False)"
   ]
  },
  {
   "cell_type": "markdown",
   "metadata": {},
   "source": [
    "### 1st table: Total of player by sector and year"
   ]
  },
  {
   "cell_type": "code",
   "execution_count": 16,
   "metadata": {},
   "outputs": [
    {
     "data": {
      "text/html": [
       "<div>\n",
       "<style scoped>\n",
       "    .dataframe tbody tr th:only-of-type {\n",
       "        vertical-align: middle;\n",
       "    }\n",
       "\n",
       "    .dataframe tbody tr th {\n",
       "        vertical-align: top;\n",
       "    }\n",
       "\n",
       "    .dataframe thead th {\n",
       "        text-align: right;\n",
       "    }\n",
       "</style>\n",
       "<table border=\"1\" class=\"dataframe\">\n",
       "  <thead>\n",
       "    <tr style=\"text-align: right;\">\n",
       "      <th></th>\n",
       "      <th>Year</th>\n",
       "      <th>TransactionType</th>\n",
       "      <th>Sector</th>\n",
       "      <th>NoTrans</th>\n",
       "    </tr>\n",
       "  </thead>\n",
       "  <tbody>\n",
       "    <tr>\n",
       "      <th>0</th>\n",
       "      <td>2016</td>\n",
       "      <td>Payments</td>\n",
       "      <td>Banks</td>\n",
       "      <td>0</td>\n",
       "    </tr>\n",
       "    <tr>\n",
       "      <th>1</th>\n",
       "      <td>2016</td>\n",
       "      <td>Payments</td>\n",
       "      <td>Foundations</td>\n",
       "      <td>0</td>\n",
       "    </tr>\n",
       "    <tr>\n",
       "      <th>2</th>\n",
       "      <td>2016</td>\n",
       "      <td>Payments</td>\n",
       "      <td>Insurance</td>\n",
       "      <td>1</td>\n",
       "    </tr>\n",
       "    <tr>\n",
       "      <th>3</th>\n",
       "      <td>2016</td>\n",
       "      <td>Payments</td>\n",
       "      <td>LITC</td>\n",
       "      <td>23</td>\n",
       "    </tr>\n",
       "    <tr>\n",
       "      <th>4</th>\n",
       "      <td>2016</td>\n",
       "      <td>Payments</td>\n",
       "      <td>Labuan Companies</td>\n",
       "      <td>6</td>\n",
       "    </tr>\n",
       "    <tr>\n",
       "      <th>5</th>\n",
       "      <td>2016</td>\n",
       "      <td>Payments</td>\n",
       "      <td>Leasing</td>\n",
       "      <td>0</td>\n",
       "    </tr>\n",
       "    <tr>\n",
       "      <th>6</th>\n",
       "      <td>2016</td>\n",
       "      <td>Payments</td>\n",
       "      <td>Money Broker</td>\n",
       "      <td>0</td>\n",
       "    </tr>\n",
       "    <tr>\n",
       "      <th>7</th>\n",
       "      <td>2016</td>\n",
       "      <td>Payments</td>\n",
       "      <td>Partnerships</td>\n",
       "      <td>0</td>\n",
       "    </tr>\n",
       "    <tr>\n",
       "      <th>8</th>\n",
       "      <td>2016</td>\n",
       "      <td>Payments</td>\n",
       "      <td>Securities Licensee</td>\n",
       "      <td>0</td>\n",
       "    </tr>\n",
       "    <tr>\n",
       "      <th>9</th>\n",
       "      <td>2016</td>\n",
       "      <td>Payments</td>\n",
       "      <td>Trust Company</td>\n",
       "      <td>0</td>\n",
       "    </tr>\n",
       "  </tbody>\n",
       "</table>\n",
       "</div>"
      ],
      "text/plain": [
       "   Year TransactionType               Sector  NoTrans\n",
       "0  2016        Payments               Banks         0\n",
       "1  2016        Payments         Foundations         0\n",
       "2  2016        Payments           Insurance         1\n",
       "3  2016        Payments                 LITC       23\n",
       "4  2016        Payments     Labuan Companies        6\n",
       "5  2016        Payments             Leasing         0\n",
       "6  2016        Payments        Money Broker         0\n",
       "7  2016        Payments         Partnerships        0\n",
       "8  2016        Payments  Securities Licensee        0\n",
       "9  2016        Payments       Trust Company         0"
      ]
     },
     "execution_count": 16,
     "metadata": {},
     "output_type": "execute_result"
    }
   ],
   "source": [
    "dfAgg = dfResult.groupby(['Year', 'TransactionType', 'Sector'])['NoTrans'].sum().reset_index()\n",
    "dfAgg.head(10)"
   ]
  },
  {
   "cell_type": "code",
   "execution_count": 18,
   "metadata": {
    "collapsed": true
   },
   "outputs": [
    {
     "data": {
      "text/html": [
       "<div>\n",
       "<style scoped>\n",
       "    .dataframe tbody tr th:only-of-type {\n",
       "        vertical-align: middle;\n",
       "    }\n",
       "\n",
       "    .dataframe tbody tr th {\n",
       "        vertical-align: top;\n",
       "    }\n",
       "\n",
       "    .dataframe thead th {\n",
       "        text-align: right;\n",
       "    }\n",
       "</style>\n",
       "<table border=\"1\" class=\"dataframe\">\n",
       "  <thead>\n",
       "    <tr style=\"text-align: right;\">\n",
       "      <th></th>\n",
       "      <th>Year</th>\n",
       "      <th>2016</th>\n",
       "      <th>2017</th>\n",
       "      <th>2018</th>\n",
       "      <th>2019</th>\n",
       "      <th>2020</th>\n",
       "    </tr>\n",
       "    <tr>\n",
       "      <th>TransactionType</th>\n",
       "      <th>Sector</th>\n",
       "      <th></th>\n",
       "      <th></th>\n",
       "      <th></th>\n",
       "      <th></th>\n",
       "      <th></th>\n",
       "    </tr>\n",
       "  </thead>\n",
       "  <tbody>\n",
       "    <tr>\n",
       "      <th rowspan=\"11\" valign=\"top\">Payments</th>\n",
       "      <th>Banks</th>\n",
       "      <td>0</td>\n",
       "      <td>0</td>\n",
       "      <td>0</td>\n",
       "      <td>0</td>\n",
       "      <td>0</td>\n",
       "    </tr>\n",
       "    <tr>\n",
       "      <th>Foundations</th>\n",
       "      <td>0</td>\n",
       "      <td>0</td>\n",
       "      <td>0</td>\n",
       "      <td>0</td>\n",
       "      <td>0</td>\n",
       "    </tr>\n",
       "    <tr>\n",
       "      <th>Insurance</th>\n",
       "      <td>1</td>\n",
       "      <td>2</td>\n",
       "      <td>0</td>\n",
       "      <td>0</td>\n",
       "      <td>0</td>\n",
       "    </tr>\n",
       "    <tr>\n",
       "      <th>LITC</th>\n",
       "      <td>23</td>\n",
       "      <td>0</td>\n",
       "      <td>0</td>\n",
       "      <td>0</td>\n",
       "      <td>0</td>\n",
       "    </tr>\n",
       "    <tr>\n",
       "      <th>Labuan Companies</th>\n",
       "      <td>6</td>\n",
       "      <td>4</td>\n",
       "      <td>0</td>\n",
       "      <td>0</td>\n",
       "      <td>0</td>\n",
       "    </tr>\n",
       "    <tr>\n",
       "      <th>Leasing</th>\n",
       "      <td>0</td>\n",
       "      <td>0</td>\n",
       "      <td>0</td>\n",
       "      <td>0</td>\n",
       "      <td>0</td>\n",
       "    </tr>\n",
       "    <tr>\n",
       "      <th>Money Broker</th>\n",
       "      <td>0</td>\n",
       "      <td>0</td>\n",
       "      <td>0</td>\n",
       "      <td>0</td>\n",
       "      <td>0</td>\n",
       "    </tr>\n",
       "    <tr>\n",
       "      <th>Partnerships</th>\n",
       "      <td>0</td>\n",
       "      <td>0</td>\n",
       "      <td>0</td>\n",
       "      <td>0</td>\n",
       "      <td>0</td>\n",
       "    </tr>\n",
       "    <tr>\n",
       "      <th>Securities Licensee</th>\n",
       "      <td>0</td>\n",
       "      <td>0</td>\n",
       "      <td>0</td>\n",
       "      <td>0</td>\n",
       "      <td>0</td>\n",
       "    </tr>\n",
       "    <tr>\n",
       "      <th>Trust Company</th>\n",
       "      <td>0</td>\n",
       "      <td>0</td>\n",
       "      <td>0</td>\n",
       "      <td>0</td>\n",
       "      <td>0</td>\n",
       "    </tr>\n",
       "    <tr>\n",
       "      <th>Trusts</th>\n",
       "      <td>0</td>\n",
       "      <td>0</td>\n",
       "      <td>0</td>\n",
       "      <td>0</td>\n",
       "      <td>0</td>\n",
       "    </tr>\n",
       "    <tr>\n",
       "      <th rowspan=\"11\" valign=\"top\">Receipts</th>\n",
       "      <th>Banks</th>\n",
       "      <td>0</td>\n",
       "      <td>0</td>\n",
       "      <td>0</td>\n",
       "      <td>0</td>\n",
       "      <td>0</td>\n",
       "    </tr>\n",
       "    <tr>\n",
       "      <th>Foundations</th>\n",
       "      <td>0</td>\n",
       "      <td>0</td>\n",
       "      <td>0</td>\n",
       "      <td>0</td>\n",
       "      <td>0</td>\n",
       "    </tr>\n",
       "    <tr>\n",
       "      <th>Insurance</th>\n",
       "      <td>0</td>\n",
       "      <td>2</td>\n",
       "      <td>0</td>\n",
       "      <td>0</td>\n",
       "      <td>0</td>\n",
       "    </tr>\n",
       "    <tr>\n",
       "      <th>LITC</th>\n",
       "      <td>22</td>\n",
       "      <td>0</td>\n",
       "      <td>0</td>\n",
       "      <td>0</td>\n",
       "      <td>0</td>\n",
       "    </tr>\n",
       "    <tr>\n",
       "      <th>Labuan Companies</th>\n",
       "      <td>0</td>\n",
       "      <td>7</td>\n",
       "      <td>0</td>\n",
       "      <td>0</td>\n",
       "      <td>0</td>\n",
       "    </tr>\n",
       "    <tr>\n",
       "      <th>Leasing</th>\n",
       "      <td>0</td>\n",
       "      <td>1</td>\n",
       "      <td>0</td>\n",
       "      <td>0</td>\n",
       "      <td>0</td>\n",
       "    </tr>\n",
       "    <tr>\n",
       "      <th>Money Broker</th>\n",
       "      <td>0</td>\n",
       "      <td>0</td>\n",
       "      <td>0</td>\n",
       "      <td>0</td>\n",
       "      <td>0</td>\n",
       "    </tr>\n",
       "    <tr>\n",
       "      <th>Partnerships</th>\n",
       "      <td>0</td>\n",
       "      <td>0</td>\n",
       "      <td>0</td>\n",
       "      <td>0</td>\n",
       "      <td>0</td>\n",
       "    </tr>\n",
       "    <tr>\n",
       "      <th>Securities Licensee</th>\n",
       "      <td>0</td>\n",
       "      <td>0</td>\n",
       "      <td>0</td>\n",
       "      <td>0</td>\n",
       "      <td>0</td>\n",
       "    </tr>\n",
       "    <tr>\n",
       "      <th>Trust Company</th>\n",
       "      <td>0</td>\n",
       "      <td>0</td>\n",
       "      <td>0</td>\n",
       "      <td>0</td>\n",
       "      <td>0</td>\n",
       "    </tr>\n",
       "    <tr>\n",
       "      <th>Trusts</th>\n",
       "      <td>0</td>\n",
       "      <td>0</td>\n",
       "      <td>0</td>\n",
       "      <td>0</td>\n",
       "      <td>0</td>\n",
       "    </tr>\n",
       "  </tbody>\n",
       "</table>\n",
       "</div>"
      ],
      "text/plain": [
       "Year                                 2016  2017  2018  2019  2020\n",
       "TransactionType Sector                                           \n",
       "Payments        Banks                   0     0     0     0     0\n",
       "                Foundations             0     0     0     0     0\n",
       "                Insurance               1     2     0     0     0\n",
       "                LITC                   23     0     0     0     0\n",
       "                Labuan Companies        6     4     0     0     0\n",
       "                Leasing                 0     0     0     0     0\n",
       "                Money Broker            0     0     0     0     0\n",
       "                Partnerships            0     0     0     0     0\n",
       "                Securities Licensee     0     0     0     0     0\n",
       "                Trust Company           0     0     0     0     0\n",
       "                Trusts                  0     0     0     0     0\n",
       "Receipts        Banks                   0     0     0     0     0\n",
       "                Foundations             0     0     0     0     0\n",
       "                Insurance               0     2     0     0     0\n",
       "                LITC                   22     0     0     0     0\n",
       "                Labuan Companies        0     7     0     0     0\n",
       "                Leasing                 0     1     0     0     0\n",
       "                Money Broker            0     0     0     0     0\n",
       "                Partnerships            0     0     0     0     0\n",
       "                Securities Licensee     0     0     0     0     0\n",
       "                Trust Company           0     0     0     0     0\n",
       "                Trusts                  0     0     0     0     0"
      ]
     },
     "execution_count": 18,
     "metadata": {},
     "output_type": "execute_result"
    }
   ],
   "source": [
    "dfFinal1 = pd.pivot_table(dfAgg, values = \"NoTrans\", index = ['TransactionType', 'Sector'], \n",
    "               columns = ['Year'], aggfunc=np.sum)\n",
    "dfFinal1"
   ]
  },
  {
   "cell_type": "markdown",
   "metadata": {},
   "source": [
    "### 2nd table: Total Amount by sector, transaction type and year"
   ]
  },
  {
   "cell_type": "code",
   "execution_count": 19,
   "metadata": {},
   "outputs": [],
   "source": [
    "# dfResult['Type'] = dfResult['TransactionType'].map(lambda x: \"Outwards\" if x == \"Payments\"\n",
    "#                                                   else \"Inwards\")"
   ]
  },
  {
   "cell_type": "code",
   "execution_count": 22,
   "metadata": {
    "scrolled": true
   },
   "outputs": [
    {
     "data": {
      "text/html": [
       "<div>\n",
       "<style scoped>\n",
       "    .dataframe tbody tr th:only-of-type {\n",
       "        vertical-align: middle;\n",
       "    }\n",
       "\n",
       "    .dataframe tbody tr th {\n",
       "        vertical-align: top;\n",
       "    }\n",
       "\n",
       "    .dataframe thead th {\n",
       "        text-align: right;\n",
       "    }\n",
       "</style>\n",
       "<table border=\"1\" class=\"dataframe\">\n",
       "  <thead>\n",
       "    <tr style=\"text-align: right;\">\n",
       "      <th></th>\n",
       "      <th>Year</th>\n",
       "      <th>2016</th>\n",
       "      <th>2017</th>\n",
       "      <th>2018</th>\n",
       "      <th>2019</th>\n",
       "      <th>2020</th>\n",
       "    </tr>\n",
       "    <tr>\n",
       "      <th>TransactionType</th>\n",
       "      <th>Sector</th>\n",
       "      <th></th>\n",
       "      <th></th>\n",
       "      <th></th>\n",
       "      <th></th>\n",
       "      <th></th>\n",
       "    </tr>\n",
       "  </thead>\n",
       "  <tbody>\n",
       "    <tr>\n",
       "      <th rowspan=\"11\" valign=\"top\">Payments</th>\n",
       "      <th>Banks</th>\n",
       "      <td>0.000000e+00</td>\n",
       "      <td>0.00</td>\n",
       "      <td>0.0</td>\n",
       "      <td>0.0</td>\n",
       "      <td>0.0</td>\n",
       "    </tr>\n",
       "    <tr>\n",
       "      <th>Foundations</th>\n",
       "      <td>0.000000e+00</td>\n",
       "      <td>0.00</td>\n",
       "      <td>0.0</td>\n",
       "      <td>0.0</td>\n",
       "      <td>0.0</td>\n",
       "    </tr>\n",
       "    <tr>\n",
       "      <th>Insurance</th>\n",
       "      <td>6.799250e+05</td>\n",
       "      <td>2406318.07</td>\n",
       "      <td>0.0</td>\n",
       "      <td>0.0</td>\n",
       "      <td>0.0</td>\n",
       "    </tr>\n",
       "    <tr>\n",
       "      <th>LITC</th>\n",
       "      <td>3.231467e+08</td>\n",
       "      <td>0.00</td>\n",
       "      <td>0.0</td>\n",
       "      <td>0.0</td>\n",
       "      <td>0.0</td>\n",
       "    </tr>\n",
       "    <tr>\n",
       "      <th>Labuan Companies</th>\n",
       "      <td>4.307169e+06</td>\n",
       "      <td>15558019.11</td>\n",
       "      <td>0.0</td>\n",
       "      <td>0.0</td>\n",
       "      <td>0.0</td>\n",
       "    </tr>\n",
       "    <tr>\n",
       "      <th>Leasing</th>\n",
       "      <td>0.000000e+00</td>\n",
       "      <td>0.00</td>\n",
       "      <td>0.0</td>\n",
       "      <td>0.0</td>\n",
       "      <td>0.0</td>\n",
       "    </tr>\n",
       "    <tr>\n",
       "      <th>Money Broker</th>\n",
       "      <td>0.000000e+00</td>\n",
       "      <td>0.00</td>\n",
       "      <td>0.0</td>\n",
       "      <td>0.0</td>\n",
       "      <td>0.0</td>\n",
       "    </tr>\n",
       "    <tr>\n",
       "      <th>Partnerships</th>\n",
       "      <td>0.000000e+00</td>\n",
       "      <td>0.00</td>\n",
       "      <td>0.0</td>\n",
       "      <td>0.0</td>\n",
       "      <td>0.0</td>\n",
       "    </tr>\n",
       "    <tr>\n",
       "      <th>Securities Licensee</th>\n",
       "      <td>0.000000e+00</td>\n",
       "      <td>0.00</td>\n",
       "      <td>0.0</td>\n",
       "      <td>0.0</td>\n",
       "      <td>0.0</td>\n",
       "    </tr>\n",
       "    <tr>\n",
       "      <th>Trust Company</th>\n",
       "      <td>0.000000e+00</td>\n",
       "      <td>0.00</td>\n",
       "      <td>0.0</td>\n",
       "      <td>0.0</td>\n",
       "      <td>0.0</td>\n",
       "    </tr>\n",
       "    <tr>\n",
       "      <th>Trusts</th>\n",
       "      <td>0.000000e+00</td>\n",
       "      <td>0.00</td>\n",
       "      <td>0.0</td>\n",
       "      <td>0.0</td>\n",
       "      <td>0.0</td>\n",
       "    </tr>\n",
       "    <tr>\n",
       "      <th rowspan=\"11\" valign=\"top\">Receipts</th>\n",
       "      <th>Banks</th>\n",
       "      <td>0.000000e+00</td>\n",
       "      <td>0.00</td>\n",
       "      <td>0.0</td>\n",
       "      <td>0.0</td>\n",
       "      <td>0.0</td>\n",
       "    </tr>\n",
       "    <tr>\n",
       "      <th>Foundations</th>\n",
       "      <td>0.000000e+00</td>\n",
       "      <td>0.00</td>\n",
       "      <td>0.0</td>\n",
       "      <td>0.0</td>\n",
       "      <td>0.0</td>\n",
       "    </tr>\n",
       "    <tr>\n",
       "      <th>Insurance</th>\n",
       "      <td>0.000000e+00</td>\n",
       "      <td>812567.09</td>\n",
       "      <td>0.0</td>\n",
       "      <td>0.0</td>\n",
       "      <td>0.0</td>\n",
       "    </tr>\n",
       "    <tr>\n",
       "      <th>LITC</th>\n",
       "      <td>2.220020e+08</td>\n",
       "      <td>0.00</td>\n",
       "      <td>0.0</td>\n",
       "      <td>0.0</td>\n",
       "      <td>0.0</td>\n",
       "    </tr>\n",
       "    <tr>\n",
       "      <th>Labuan Companies</th>\n",
       "      <td>0.000000e+00</td>\n",
       "      <td>14154097.37</td>\n",
       "      <td>0.0</td>\n",
       "      <td>0.0</td>\n",
       "      <td>0.0</td>\n",
       "    </tr>\n",
       "    <tr>\n",
       "      <th>Leasing</th>\n",
       "      <td>0.000000e+00</td>\n",
       "      <td>1544797.92</td>\n",
       "      <td>0.0</td>\n",
       "      <td>0.0</td>\n",
       "      <td>0.0</td>\n",
       "    </tr>\n",
       "    <tr>\n",
       "      <th>Money Broker</th>\n",
       "      <td>0.000000e+00</td>\n",
       "      <td>0.00</td>\n",
       "      <td>0.0</td>\n",
       "      <td>0.0</td>\n",
       "      <td>0.0</td>\n",
       "    </tr>\n",
       "    <tr>\n",
       "      <th>Partnerships</th>\n",
       "      <td>0.000000e+00</td>\n",
       "      <td>0.00</td>\n",
       "      <td>0.0</td>\n",
       "      <td>0.0</td>\n",
       "      <td>0.0</td>\n",
       "    </tr>\n",
       "    <tr>\n",
       "      <th>Securities Licensee</th>\n",
       "      <td>0.000000e+00</td>\n",
       "      <td>0.00</td>\n",
       "      <td>0.0</td>\n",
       "      <td>0.0</td>\n",
       "      <td>0.0</td>\n",
       "    </tr>\n",
       "    <tr>\n",
       "      <th>Trust Company</th>\n",
       "      <td>0.000000e+00</td>\n",
       "      <td>0.00</td>\n",
       "      <td>0.0</td>\n",
       "      <td>0.0</td>\n",
       "      <td>0.0</td>\n",
       "    </tr>\n",
       "    <tr>\n",
       "      <th>Trusts</th>\n",
       "      <td>0.000000e+00</td>\n",
       "      <td>0.00</td>\n",
       "      <td>0.0</td>\n",
       "      <td>0.0</td>\n",
       "      <td>0.0</td>\n",
       "    </tr>\n",
       "  </tbody>\n",
       "</table>\n",
       "</div>"
      ],
      "text/plain": [
       "Year                                         2016         2017  2018  2019  \\\n",
       "TransactionType Sector                                                       \n",
       "Payments        Banks                0.000000e+00         0.00   0.0   0.0   \n",
       "                Foundations          0.000000e+00         0.00   0.0   0.0   \n",
       "                Insurance            6.799250e+05   2406318.07   0.0   0.0   \n",
       "                LITC                 3.231467e+08         0.00   0.0   0.0   \n",
       "                Labuan Companies     4.307169e+06  15558019.11   0.0   0.0   \n",
       "                Leasing              0.000000e+00         0.00   0.0   0.0   \n",
       "                Money Broker         0.000000e+00         0.00   0.0   0.0   \n",
       "                Partnerships         0.000000e+00         0.00   0.0   0.0   \n",
       "                Securities Licensee  0.000000e+00         0.00   0.0   0.0   \n",
       "                Trust Company        0.000000e+00         0.00   0.0   0.0   \n",
       "                Trusts               0.000000e+00         0.00   0.0   0.0   \n",
       "Receipts        Banks                0.000000e+00         0.00   0.0   0.0   \n",
       "                Foundations          0.000000e+00         0.00   0.0   0.0   \n",
       "                Insurance            0.000000e+00    812567.09   0.0   0.0   \n",
       "                LITC                 2.220020e+08         0.00   0.0   0.0   \n",
       "                Labuan Companies     0.000000e+00  14154097.37   0.0   0.0   \n",
       "                Leasing              0.000000e+00   1544797.92   0.0   0.0   \n",
       "                Money Broker         0.000000e+00         0.00   0.0   0.0   \n",
       "                Partnerships         0.000000e+00         0.00   0.0   0.0   \n",
       "                Securities Licensee  0.000000e+00         0.00   0.0   0.0   \n",
       "                Trust Company        0.000000e+00         0.00   0.0   0.0   \n",
       "                Trusts               0.000000e+00         0.00   0.0   0.0   \n",
       "\n",
       "Year                                 2020  \n",
       "TransactionType Sector                     \n",
       "Payments        Banks                 0.0  \n",
       "                Foundations           0.0  \n",
       "                Insurance             0.0  \n",
       "                LITC                  0.0  \n",
       "                Labuan Companies      0.0  \n",
       "                Leasing               0.0  \n",
       "                Money Broker          0.0  \n",
       "                Partnerships          0.0  \n",
       "                Securities Licensee   0.0  \n",
       "                Trust Company         0.0  \n",
       "                Trusts                0.0  \n",
       "Receipts        Banks                 0.0  \n",
       "                Foundations           0.0  \n",
       "                Insurance             0.0  \n",
       "                LITC                  0.0  \n",
       "                Labuan Companies      0.0  \n",
       "                Leasing               0.0  \n",
       "                Money Broker          0.0  \n",
       "                Partnerships          0.0  \n",
       "                Securities Licensee   0.0  \n",
       "                Trust Company         0.0  \n",
       "                Trusts                0.0  "
      ]
     },
     "execution_count": 22,
     "metadata": {},
     "output_type": "execute_result"
    }
   ],
   "source": [
    "dfFinal2 = pd.pivot_table(dfResult, values = \"TotalAmount\", index = ['TransactionType', 'Sector'], \n",
    "                           columns = ['Year'], aggfunc=np.sum)\n",
    "dfFinal2"
   ]
  },
  {
   "cell_type": "markdown",
   "metadata": {},
   "source": [
    "### NR to NR"
   ]
  },
  {
   "cell_type": "code",
   "execution_count": 34,
   "metadata": {},
   "outputs": [],
   "source": [
    "excelFolder = \"ITIS_NR-and-NR/data\"\n",
    "pandasList = []\n",
    "for file in os.listdir(excelFolder):\n",
    "    df = pd.read_excel(excelFolder + '/' + file)\n",
    "    pandasList.append(df)"
   ]
  },
  {
   "cell_type": "code",
   "execution_count": 35,
   "metadata": {},
   "outputs": [],
   "source": [
    "dfITIS2 = pd.concat(pandasList).copy()"
   ]
  },
  {
   "cell_type": "code",
   "execution_count": 36,
   "metadata": {},
   "outputs": [
    {
     "data": {
      "text/plain": [
       "(3005151, 16)"
      ]
     },
     "execution_count": 36,
     "metadata": {},
     "output_type": "execute_result"
    }
   ],
   "source": [
    "dfITIS2.shape"
   ]
  },
  {
   "cell_type": "code",
   "execution_count": 42,
   "metadata": {},
   "outputs": [],
   "source": [
    "ITIS2idList = dfITIS2['NR Customer Details.Customer Beneficiary Remitter Identification Number'].unique()"
   ]
  },
  {
   "cell_type": "code",
   "execution_count": 61,
   "metadata": {},
   "outputs": [],
   "source": [
    "ITIS2idList2 = dfITIS2['NR Transaction Details.Beneficiary Remitter Identification Number'].unique()"
   ]
  },
  {
   "cell_type": "code",
   "execution_count": 45,
   "metadata": {},
   "outputs": [
    {
     "data": {
      "text/plain": [
       "709796"
      ]
     },
     "execution_count": 45,
     "metadata": {},
     "output_type": "execute_result"
    }
   ],
   "source": [
    "len(ITIS2idList)"
   ]
  },
  {
   "cell_type": "code",
   "execution_count": 62,
   "metadata": {},
   "outputs": [
    {
     "data": {
      "text/plain": [
       "798064"
      ]
     },
     "execution_count": 62,
     "metadata": {},
     "output_type": "execute_result"
    }
   ],
   "source": [
    "len(ITIS2idList2)"
   ]
  },
  {
   "cell_type": "code",
   "execution_count": 53,
   "metadata": {},
   "outputs": [
    {
     "data": {
      "text/plain": [
       "6210"
      ]
     },
     "execution_count": 53,
     "metadata": {},
     "output_type": "execute_result"
    }
   ],
   "source": [
    "entityIdList = [k for i,j in entitiesDict2.items() for k in j]\n",
    "len(entityIdList)"
   ]
  },
  {
   "cell_type": "code",
   "execution_count": 57,
   "metadata": {},
   "outputs": [],
   "source": [
    "a = []\n",
    "for i in ITIS2idList:\n",
    "    try:\n",
    "        if str(i) in entityIdList:\n",
    "            a.append(i)\n",
    "    except:\n",
    "        print(i)\n",
    "        break"
   ]
  },
  {
   "cell_type": "code",
   "execution_count": 58,
   "metadata": {},
   "outputs": [
    {
     "data": {
      "text/plain": [
       "2781"
      ]
     },
     "execution_count": 58,
     "metadata": {},
     "output_type": "execute_result"
    }
   ],
   "source": [
    "len(a)"
   ]
  },
  {
   "cell_type": "code",
   "execution_count": 63,
   "metadata": {},
   "outputs": [
    {
     "data": {
      "text/plain": [
       "1076"
      ]
     },
     "execution_count": 63,
     "metadata": {},
     "output_type": "execute_result"
    }
   ],
   "source": [
    "len([i for i in ITIS2idList2 if str(i) in entityIdList])"
   ]
  },
  {
   "cell_type": "code",
   "execution_count": 41,
   "metadata": {},
   "outputs": [
    {
     "data": {
      "text/plain": [
       "array(['Other Payments', 'Other Receipts', 'Unknown'], dtype=object)"
      ]
     },
     "execution_count": 41,
     "metadata": {},
     "output_type": "execute_result"
    }
   ],
   "source": [
    "dfITIS2['NR Transaction Details.Transaction Type'].unique()"
   ]
  },
  {
   "cell_type": "code",
   "execution_count": 38,
   "metadata": {},
   "outputs": [
    {
     "data": {
      "text/plain": [
       "array([2017, 2018, 2019, 2020], dtype=int64)"
      ]
     },
     "execution_count": 38,
     "metadata": {},
     "output_type": "execute_result"
    }
   ],
   "source": [
    "dfITIS2['Reporting Period.Reporting Year'].unique()"
   ]
  },
  {
   "cell_type": "code",
   "execution_count": 67,
   "metadata": {},
   "outputs": [],
   "source": [
    "resultList2 = []\n",
    "resultList3 = []\n",
    "amountCol = 'NR - MYR Amount'\n",
    "transTypeCol = 'NR Transaction Details.Transaction Type'\n",
    "yearCol = 'Reporting Period.Reporting Year'\n",
    "idCol1 = 'NR Customer Details.Customer Beneficiary Remitter Identification Number'\n",
    "idCol2 = 'NR Transaction Details.Beneficiary Remitter Identification Number'\n",
    "for i in ['Other Payments', 'Other Receipts']:\n",
    "    for year in np.arange(2017, 2021):\n",
    "        for sector in entitiesDict2:\n",
    "            #match idCol1\n",
    "            dfTemp = dfITIS2[(dfITIS2[transTypeCol] == i) &\n",
    "                           (dfITIS2[yearCol] == year) &\n",
    "                           (dfITIS2[idCol1].astype(str).isin(entitiesDict2[sector]))].copy()\n",
    "            sumAmount = dfTemp[amountCol].sum()\n",
    "            noTrans = dfTemp.shape[0]\n",
    "            #store result: Sector, Receipts/Payments, Year, TotalAmount, NoTrans\n",
    "            tempList = [sector, i, year, sumAmount, noTrans]\n",
    "            resultList2.append(tempList)\n",
    "            \n",
    "            #match idCol2\n",
    "            dfTemp = dfITIS2[(dfITIS2[transTypeCol] == i) &\n",
    "                           (dfITIS2[yearCol] == year) &\n",
    "                           (dfITIS2[idCol2].astype(str).isin(entitiesDict2[sector]))].copy()\n",
    "            sumAmount = dfTemp[amountCol].sum()\n",
    "            noTrans = dfTemp.shape[0]\n",
    "            #store result: Sector, Receipts/Payments, Year, TotalAmount, NoTrans\n",
    "            tempList = [sector, i, year, sumAmount, noTrans]\n",
    "            resultList3.append(tempList)"
   ]
  },
  {
   "cell_type": "code",
   "execution_count": 74,
   "metadata": {},
   "outputs": [
    {
     "data": {
      "text/html": [
       "<div>\n",
       "<style scoped>\n",
       "    .dataframe tbody tr th:only-of-type {\n",
       "        vertical-align: middle;\n",
       "    }\n",
       "\n",
       "    .dataframe tbody tr th {\n",
       "        vertical-align: top;\n",
       "    }\n",
       "\n",
       "    .dataframe thead th {\n",
       "        text-align: right;\n",
       "    }\n",
       "</style>\n",
       "<table border=\"1\" class=\"dataframe\">\n",
       "  <thead>\n",
       "    <tr style=\"text-align: right;\">\n",
       "      <th></th>\n",
       "      <th>Sector</th>\n",
       "      <th>TransactionType</th>\n",
       "      <th>Year</th>\n",
       "      <th>TotalAmount</th>\n",
       "      <th>NoTrans</th>\n",
       "    </tr>\n",
       "  </thead>\n",
       "  <tbody>\n",
       "    <tr>\n",
       "      <th>0</th>\n",
       "      <td>Banks</td>\n",
       "      <td>Payments</td>\n",
       "      <td>2017</td>\n",
       "      <td>3.114413e+09</td>\n",
       "      <td>98</td>\n",
       "    </tr>\n",
       "    <tr>\n",
       "      <th>1</th>\n",
       "      <td>Insurance</td>\n",
       "      <td>Payments</td>\n",
       "      <td>2017</td>\n",
       "      <td>1.592778e+09</td>\n",
       "      <td>4231</td>\n",
       "    </tr>\n",
       "    <tr>\n",
       "      <th>2</th>\n",
       "      <td>Leasing</td>\n",
       "      <td>Payments</td>\n",
       "      <td>2017</td>\n",
       "      <td>4.394661e+08</td>\n",
       "      <td>520</td>\n",
       "    </tr>\n",
       "    <tr>\n",
       "      <th>3</th>\n",
       "      <td>LITC</td>\n",
       "      <td>Payments</td>\n",
       "      <td>2017</td>\n",
       "      <td>2.336071e+09</td>\n",
       "      <td>325</td>\n",
       "    </tr>\n",
       "    <tr>\n",
       "      <th>4</th>\n",
       "      <td>Money Broker</td>\n",
       "      <td>Payments</td>\n",
       "      <td>2017</td>\n",
       "      <td>2.062955e+08</td>\n",
       "      <td>1810</td>\n",
       "    </tr>\n",
       "    <tr>\n",
       "      <th>...</th>\n",
       "      <td>...</td>\n",
       "      <td>...</td>\n",
       "      <td>...</td>\n",
       "      <td>...</td>\n",
       "      <td>...</td>\n",
       "    </tr>\n",
       "    <tr>\n",
       "      <th>83</th>\n",
       "      <td>Trust Company</td>\n",
       "      <td>Receipts</td>\n",
       "      <td>2020</td>\n",
       "      <td>1.735292e+08</td>\n",
       "      <td>3535</td>\n",
       "    </tr>\n",
       "    <tr>\n",
       "      <th>84</th>\n",
       "      <td>Foundations</td>\n",
       "      <td>Receipts</td>\n",
       "      <td>2020</td>\n",
       "      <td>1.007082e+07</td>\n",
       "      <td>28</td>\n",
       "    </tr>\n",
       "    <tr>\n",
       "      <th>85</th>\n",
       "      <td>Labuan Companies</td>\n",
       "      <td>Receipts</td>\n",
       "      <td>2020</td>\n",
       "      <td>2.881712e+10</td>\n",
       "      <td>34792</td>\n",
       "    </tr>\n",
       "    <tr>\n",
       "      <th>86</th>\n",
       "      <td>Partnerships</td>\n",
       "      <td>Receipts</td>\n",
       "      <td>2020</td>\n",
       "      <td>2.101274e+07</td>\n",
       "      <td>331</td>\n",
       "    </tr>\n",
       "    <tr>\n",
       "      <th>87</th>\n",
       "      <td>Trusts</td>\n",
       "      <td>Receipts</td>\n",
       "      <td>2020</td>\n",
       "      <td>3.062802e+06</td>\n",
       "      <td>2</td>\n",
       "    </tr>\n",
       "  </tbody>\n",
       "</table>\n",
       "<p>88 rows × 5 columns</p>\n",
       "</div>"
      ],
      "text/plain": [
       "              Sector TransactionType  Year   TotalAmount  NoTrans\n",
       "0             Banks         Payments  2017  3.114413e+09       98\n",
       "1         Insurance         Payments  2017  1.592778e+09     4231\n",
       "2           Leasing         Payments  2017  4.394661e+08      520\n",
       "3               LITC        Payments  2017  2.336071e+09      325\n",
       "4      Money Broker         Payments  2017  2.062955e+08     1810\n",
       "..               ...             ...   ...           ...      ...\n",
       "83    Trust Company         Receipts  2020  1.735292e+08     3535\n",
       "84      Foundations         Receipts  2020  1.007082e+07       28\n",
       "85  Labuan Companies        Receipts  2020  2.881712e+10    34792\n",
       "86      Partnerships        Receipts  2020  2.101274e+07      331\n",
       "87            Trusts        Receipts  2020  3.062802e+06        2\n",
       "\n",
       "[88 rows x 5 columns]"
      ]
     },
     "execution_count": 74,
     "metadata": {},
     "output_type": "execute_result"
    }
   ],
   "source": [
    "dfResult2 = pd.DataFrame(resultList2)\n",
    "dfResult2.columns = [\"Sector\", \"TransactionType\", \"Year\", \"TotalAmount\", \"NoTrans\"]\n",
    "dfResult2['TransactionType'] = dfResult2['TransactionType'].map(lambda x: 'Receipts' if x == \"Other Receipts\"\n",
    "                                                                           else \"Payments\")\n",
    "dfResult2"
   ]
  },
  {
   "cell_type": "code",
   "execution_count": 69,
   "metadata": {},
   "outputs": [],
   "source": [
    "csvFile = \"data/interim/2021-01-30_ItisEsTempTable2.csv\"\n",
    "dfResult2.to_csv(csvFile, index = False)"
   ]
  },
  {
   "cell_type": "code",
   "execution_count": 75,
   "metadata": {},
   "outputs": [
    {
     "data": {
      "text/html": [
       "<div>\n",
       "<style scoped>\n",
       "    .dataframe tbody tr th:only-of-type {\n",
       "        vertical-align: middle;\n",
       "    }\n",
       "\n",
       "    .dataframe tbody tr th {\n",
       "        vertical-align: top;\n",
       "    }\n",
       "\n",
       "    .dataframe thead th {\n",
       "        text-align: right;\n",
       "    }\n",
       "</style>\n",
       "<table border=\"1\" class=\"dataframe\">\n",
       "  <thead>\n",
       "    <tr style=\"text-align: right;\">\n",
       "      <th></th>\n",
       "      <th>Sector</th>\n",
       "      <th>TransactionType</th>\n",
       "      <th>Year</th>\n",
       "      <th>TotalAmount</th>\n",
       "      <th>NoTrans</th>\n",
       "    </tr>\n",
       "  </thead>\n",
       "  <tbody>\n",
       "    <tr>\n",
       "      <th>0</th>\n",
       "      <td>Banks</td>\n",
       "      <td>Payments</td>\n",
       "      <td>2017</td>\n",
       "      <td>1.346384e+09</td>\n",
       "      <td>269</td>\n",
       "    </tr>\n",
       "    <tr>\n",
       "      <th>1</th>\n",
       "      <td>Insurance</td>\n",
       "      <td>Payments</td>\n",
       "      <td>2017</td>\n",
       "      <td>6.816710e+07</td>\n",
       "      <td>143</td>\n",
       "    </tr>\n",
       "    <tr>\n",
       "      <th>2</th>\n",
       "      <td>Leasing</td>\n",
       "      <td>Payments</td>\n",
       "      <td>2017</td>\n",
       "      <td>4.547483e+07</td>\n",
       "      <td>33</td>\n",
       "    </tr>\n",
       "    <tr>\n",
       "      <th>3</th>\n",
       "      <td>LITC</td>\n",
       "      <td>Payments</td>\n",
       "      <td>2017</td>\n",
       "      <td>6.626267e+07</td>\n",
       "      <td>15</td>\n",
       "    </tr>\n",
       "    <tr>\n",
       "      <th>4</th>\n",
       "      <td>Money Broker</td>\n",
       "      <td>Payments</td>\n",
       "      <td>2017</td>\n",
       "      <td>1.205530e+07</td>\n",
       "      <td>66</td>\n",
       "    </tr>\n",
       "    <tr>\n",
       "      <th>...</th>\n",
       "      <td>...</td>\n",
       "      <td>...</td>\n",
       "      <td>...</td>\n",
       "      <td>...</td>\n",
       "      <td>...</td>\n",
       "    </tr>\n",
       "    <tr>\n",
       "      <th>83</th>\n",
       "      <td>Trust Company</td>\n",
       "      <td>Receipts</td>\n",
       "      <td>2020</td>\n",
       "      <td>3.187438e+07</td>\n",
       "      <td>1275</td>\n",
       "    </tr>\n",
       "    <tr>\n",
       "      <th>84</th>\n",
       "      <td>Foundations</td>\n",
       "      <td>Receipts</td>\n",
       "      <td>2020</td>\n",
       "      <td>0.000000e+00</td>\n",
       "      <td>0</td>\n",
       "    </tr>\n",
       "    <tr>\n",
       "      <th>85</th>\n",
       "      <td>Labuan Companies</td>\n",
       "      <td>Receipts</td>\n",
       "      <td>2020</td>\n",
       "      <td>6.584516e+08</td>\n",
       "      <td>888</td>\n",
       "    </tr>\n",
       "    <tr>\n",
       "      <th>86</th>\n",
       "      <td>Partnerships</td>\n",
       "      <td>Receipts</td>\n",
       "      <td>2020</td>\n",
       "      <td>0.000000e+00</td>\n",
       "      <td>0</td>\n",
       "    </tr>\n",
       "    <tr>\n",
       "      <th>87</th>\n",
       "      <td>Trusts</td>\n",
       "      <td>Receipts</td>\n",
       "      <td>2020</td>\n",
       "      <td>2.638987e+05</td>\n",
       "      <td>1</td>\n",
       "    </tr>\n",
       "  </tbody>\n",
       "</table>\n",
       "<p>88 rows × 5 columns</p>\n",
       "</div>"
      ],
      "text/plain": [
       "              Sector TransactionType  Year   TotalAmount  NoTrans\n",
       "0             Banks         Payments  2017  1.346384e+09      269\n",
       "1         Insurance         Payments  2017  6.816710e+07      143\n",
       "2           Leasing         Payments  2017  4.547483e+07       33\n",
       "3               LITC        Payments  2017  6.626267e+07       15\n",
       "4      Money Broker         Payments  2017  1.205530e+07       66\n",
       "..               ...             ...   ...           ...      ...\n",
       "83    Trust Company         Receipts  2020  3.187438e+07     1275\n",
       "84      Foundations         Receipts  2020  0.000000e+00        0\n",
       "85  Labuan Companies        Receipts  2020  6.584516e+08      888\n",
       "86      Partnerships        Receipts  2020  0.000000e+00        0\n",
       "87            Trusts        Receipts  2020  2.638987e+05        1\n",
       "\n",
       "[88 rows x 5 columns]"
      ]
     },
     "execution_count": 75,
     "metadata": {},
     "output_type": "execute_result"
    }
   ],
   "source": [
    "dfResult3 = pd.DataFrame(resultList3)\n",
    "dfResult3.columns = [\"Sector\", \"TransactionType\", \"Year\", \"TotalAmount\", \"NoTrans\"]\n",
    "dfResult3['TransactionType'] = dfResult3['TransactionType'].map(lambda x: 'Receipts' if x == \"Other Receipts\"\n",
    "                                                                           else \"Payments\")\n",
    "dfResult3"
   ]
  },
  {
   "cell_type": "code",
   "execution_count": 99,
   "metadata": {},
   "outputs": [],
   "source": [
    "csvFile = \"data/interim/2021-01-30_ItisEsTempTable3.csv\"\n",
    "dfResult3.to_csv(csvFile, index = False)"
   ]
  },
  {
   "cell_type": "code",
   "execution_count": 91,
   "metadata": {},
   "outputs": [],
   "source": [
    "sumResult = []\n",
    "#sum up result1 and result2\n",
    "uniqueSet = dfResult2[[\"Sector\", \"TransactionType\", \"Year\"]].values\n",
    "for i in uniqueSet:\n",
    "    sumAmount = dfResult.query(\"Sector == '%s' & TransactionType == '%s' & Year == %s\"%(i[0], i[1], i[2]))['TotalAmount'].values[0]\\\n",
    "                + dfResult2.query(\"Sector == '%s' & TransactionType == '%s' & Year == %s\"%(i[0], i[1], i[2]))['TotalAmount'].values[0]\n",
    "    sumTrans = dfResult.query(\"Sector == '%s' & TransactionType == '%s' & Year == %s\"%(i[0], i[1], i[2]))['NoTrans'].values[0]\\\n",
    "                + dfResult2.query(\"Sector == '%s' & TransactionType == '%s' & Year == %s\"%(i[0], i[1], i[2]))['NoTrans'].values[0]\n",
    "    tempList = [i[0], i[1], i[2], sumAmount, sumTrans]\n",
    "    sumResult.append(tempList)"
   ]
  },
  {
   "cell_type": "code",
   "execution_count": 93,
   "metadata": {},
   "outputs": [
    {
     "data": {
      "text/html": [
       "<div>\n",
       "<style scoped>\n",
       "    .dataframe tbody tr th:only-of-type {\n",
       "        vertical-align: middle;\n",
       "    }\n",
       "\n",
       "    .dataframe tbody tr th {\n",
       "        vertical-align: top;\n",
       "    }\n",
       "\n",
       "    .dataframe thead th {\n",
       "        text-align: right;\n",
       "    }\n",
       "</style>\n",
       "<table border=\"1\" class=\"dataframe\">\n",
       "  <thead>\n",
       "    <tr style=\"text-align: right;\">\n",
       "      <th></th>\n",
       "      <th>Sector</th>\n",
       "      <th>TransactionType</th>\n",
       "      <th>Year</th>\n",
       "      <th>TotalAmount</th>\n",
       "      <th>NoTrans</th>\n",
       "    </tr>\n",
       "  </thead>\n",
       "  <tbody>\n",
       "    <tr>\n",
       "      <th>0</th>\n",
       "      <td>Banks</td>\n",
       "      <td>Payments</td>\n",
       "      <td>2017</td>\n",
       "      <td>3.114413e+09</td>\n",
       "      <td>98</td>\n",
       "    </tr>\n",
       "    <tr>\n",
       "      <th>1</th>\n",
       "      <td>Insurance</td>\n",
       "      <td>Payments</td>\n",
       "      <td>2017</td>\n",
       "      <td>1.595184e+09</td>\n",
       "      <td>4233</td>\n",
       "    </tr>\n",
       "    <tr>\n",
       "      <th>2</th>\n",
       "      <td>Leasing</td>\n",
       "      <td>Payments</td>\n",
       "      <td>2017</td>\n",
       "      <td>4.394661e+08</td>\n",
       "      <td>520</td>\n",
       "    </tr>\n",
       "    <tr>\n",
       "      <th>3</th>\n",
       "      <td>LITC</td>\n",
       "      <td>Payments</td>\n",
       "      <td>2017</td>\n",
       "      <td>2.336071e+09</td>\n",
       "      <td>325</td>\n",
       "    </tr>\n",
       "    <tr>\n",
       "      <th>4</th>\n",
       "      <td>Money Broker</td>\n",
       "      <td>Payments</td>\n",
       "      <td>2017</td>\n",
       "      <td>2.062955e+08</td>\n",
       "      <td>1810</td>\n",
       "    </tr>\n",
       "    <tr>\n",
       "      <th>...</th>\n",
       "      <td>...</td>\n",
       "      <td>...</td>\n",
       "      <td>...</td>\n",
       "      <td>...</td>\n",
       "      <td>...</td>\n",
       "    </tr>\n",
       "    <tr>\n",
       "      <th>83</th>\n",
       "      <td>Trust Company</td>\n",
       "      <td>Receipts</td>\n",
       "      <td>2020</td>\n",
       "      <td>1.735292e+08</td>\n",
       "      <td>3535</td>\n",
       "    </tr>\n",
       "    <tr>\n",
       "      <th>84</th>\n",
       "      <td>Foundations</td>\n",
       "      <td>Receipts</td>\n",
       "      <td>2020</td>\n",
       "      <td>1.007082e+07</td>\n",
       "      <td>28</td>\n",
       "    </tr>\n",
       "    <tr>\n",
       "      <th>85</th>\n",
       "      <td>Labuan Companies</td>\n",
       "      <td>Receipts</td>\n",
       "      <td>2020</td>\n",
       "      <td>2.881712e+10</td>\n",
       "      <td>34792</td>\n",
       "    </tr>\n",
       "    <tr>\n",
       "      <th>86</th>\n",
       "      <td>Partnerships</td>\n",
       "      <td>Receipts</td>\n",
       "      <td>2020</td>\n",
       "      <td>2.101274e+07</td>\n",
       "      <td>331</td>\n",
       "    </tr>\n",
       "    <tr>\n",
       "      <th>87</th>\n",
       "      <td>Trusts</td>\n",
       "      <td>Receipts</td>\n",
       "      <td>2020</td>\n",
       "      <td>3.062802e+06</td>\n",
       "      <td>2</td>\n",
       "    </tr>\n",
       "  </tbody>\n",
       "</table>\n",
       "<p>88 rows × 5 columns</p>\n",
       "</div>"
      ],
      "text/plain": [
       "              Sector TransactionType  Year   TotalAmount  NoTrans\n",
       "0             Banks         Payments  2017  3.114413e+09       98\n",
       "1         Insurance         Payments  2017  1.595184e+09     4233\n",
       "2           Leasing         Payments  2017  4.394661e+08      520\n",
       "3               LITC        Payments  2017  2.336071e+09      325\n",
       "4      Money Broker         Payments  2017  2.062955e+08     1810\n",
       "..               ...             ...   ...           ...      ...\n",
       "83    Trust Company         Receipts  2020  1.735292e+08     3535\n",
       "84      Foundations         Receipts  2020  1.007082e+07       28\n",
       "85  Labuan Companies        Receipts  2020  2.881712e+10    34792\n",
       "86      Partnerships        Receipts  2020  2.101274e+07      331\n",
       "87            Trusts        Receipts  2020  3.062802e+06        2\n",
       "\n",
       "[88 rows x 5 columns]"
      ]
     },
     "execution_count": 93,
     "metadata": {},
     "output_type": "execute_result"
    }
   ],
   "source": [
    "dfSumResult = pd.DataFrame(sumResult)\n",
    "dfSumResult.columns = [\"Sector\", \"TransactionType\", \"Year\", \"TotalAmount\", \"NoTrans\"]\n",
    "dfSumResult"
   ]
  },
  {
   "cell_type": "code",
   "execution_count": 98,
   "metadata": {},
   "outputs": [],
   "source": [
    "#concat 2016 from dfResult and then dfSumResult (from 2017 onwards)\n",
    "dfResult2016 = dfResult.query(\"Year == 2016\")\n",
    "dfCombined = pd.concat([dfResult2016, dfSumResult]).copy()"
   ]
  },
  {
   "cell_type": "code",
   "execution_count": 100,
   "metadata": {},
   "outputs": [],
   "source": [
    "csvFile = \"data/interim/2021-01-30_ItisEsTempTableCombined.csv\"\n",
    "dfCombined.to_csv(csvFile, index = False)"
   ]
  },
  {
   "cell_type": "code",
   "execution_count": 103,
   "metadata": {},
   "outputs": [],
   "source": [
    "idList = [j for i in entitiesDict2.values() for j in i]"
   ]
  },
  {
   "cell_type": "code",
   "execution_count": 111,
   "metadata": {},
   "outputs": [],
   "source": [
    "idCol1 = 'NR Customer Details.Customer Beneficiary Remitter Identification Number'\n",
    "idCol2 = 'NR Transaction Details.Beneficiary Remitter Identification Number'\n",
    "\n",
    "indexList1 = dfITIS2[dfITIS2[idCol1].astype(str).isin(entityIdList)].index\n",
    "indexList2 = dfITIS2[dfITIS2[idCol2].astype(str).isin(entityIdList)].index"
   ]
  },
  {
   "cell_type": "code",
   "execution_count": 109,
   "metadata": {},
   "outputs": [],
   "source": [
    "dfTemp = dfITIS2[(dfITIS2[idCol1].astype(str).isin(entityIdList)) &\n",
    "                (dfITIS2[idCol2].astype(str).isin(entityIdList))].copy()"
   ]
  },
  {
   "cell_type": "code",
   "execution_count": 110,
   "metadata": {},
   "outputs": [
    {
     "data": {
      "text/plain": [
       "(20683, 16)"
      ]
     },
     "execution_count": 110,
     "metadata": {},
     "output_type": "execute_result"
    }
   ],
   "source": [
    "dfTemp.shape"
   ]
  },
  {
   "cell_type": "code",
   "execution_count": 113,
   "metadata": {},
   "outputs": [
    {
     "data": {
      "text/html": [
       "<div>\n",
       "<style scoped>\n",
       "    .dataframe tbody tr th:only-of-type {\n",
       "        vertical-align: middle;\n",
       "    }\n",
       "\n",
       "    .dataframe tbody tr th {\n",
       "        vertical-align: top;\n",
       "    }\n",
       "\n",
       "    .dataframe thead th {\n",
       "        text-align: right;\n",
       "    }\n",
       "</style>\n",
       "<table border=\"1\" class=\"dataframe\">\n",
       "  <thead>\n",
       "    <tr style=\"text-align: right;\">\n",
       "      <th></th>\n",
       "      <th>NR - MYR Amount</th>\n",
       "      <th>Country.Country Description</th>\n",
       "      <th>NR Customer Details.Customer Beneficiary Remitter Account Number</th>\n",
       "      <th>NR Customer Details.Customer Beneficiary Remitter Identification Number</th>\n",
       "      <th>NR Customer Details.Customer Beneficiary Remitter Name</th>\n",
       "      <th>NR Transaction Details.Beneficiary Remitter Identification Number</th>\n",
       "      <th>NR Transaction Details.Name of Beneficiary Remitter</th>\n",
       "      <th>NR Transaction Details.Transaction Date</th>\n",
       "      <th>NR Transaction Details.Transaction Status</th>\n",
       "      <th>NR Transaction Details.Transaction Type</th>\n",
       "      <th>Reporting Entity.RE Name</th>\n",
       "      <th>Reporting Entity.RE Name 2</th>\n",
       "      <th>Reporting Period.Reporting Quarter</th>\n",
       "      <th>Reporting Period.Reporting Year</th>\n",
       "      <th>Purpose Code.Purpose Code Description</th>\n",
       "      <th>Reporting Period.Reporting Month</th>\n",
       "    </tr>\n",
       "  </thead>\n",
       "  <tbody>\n",
       "    <tr>\n",
       "      <th>13711</th>\n",
       "      <td>806802.00</td>\n",
       "      <td>LABUAN OFFSHORE</td>\n",
       "      <td>NaN</td>\n",
       "      <td>LL10729</td>\n",
       "      <td>APDIB HOLDING LIMITED</td>\n",
       "      <td>LL09362</td>\n",
       "      <td>INTERACT PERFORMANCE LTD</td>\n",
       "      <td>2017-08-10 00:00:00</td>\n",
       "      <td>COMPLETE</td>\n",
       "      <td>Other Payments</td>\n",
       "      <td>BANK OF CHINA (MALAYSIA) BERHAD</td>\n",
       "      <td>BANK OF CHINA (MALAYSIA) BERHAD</td>\n",
       "      <td>Q3</td>\n",
       "      <td>2017</td>\n",
       "      <td>Unknown</td>\n",
       "      <td>NaN</td>\n",
       "    </tr>\n",
       "    <tr>\n",
       "      <th>13767</th>\n",
       "      <td>435.24</td>\n",
       "      <td>Netherlands</td>\n",
       "      <td>NaN</td>\n",
       "      <td>LL11399</td>\n",
       "      <td>SPLENDID INVESTMENTS LIMITED</td>\n",
       "      <td>LL11399</td>\n",
       "      <td>SPLENDID INVESTMENT LIMITED</td>\n",
       "      <td>2017-08-15 00:00:00</td>\n",
       "      <td>COMPLETE</td>\n",
       "      <td>Other Payments</td>\n",
       "      <td>BNP PARIBAS MALAYSIA BERHAD</td>\n",
       "      <td>BNP PARIBAS MALAYSIA BERHAD</td>\n",
       "      <td>Q3</td>\n",
       "      <td>2017</td>\n",
       "      <td>Unknown</td>\n",
       "      <td>NaN</td>\n",
       "    </tr>\n",
       "    <tr>\n",
       "      <th>13903</th>\n",
       "      <td>17203246.00</td>\n",
       "      <td>United States</td>\n",
       "      <td>NaN</td>\n",
       "      <td>LL07814</td>\n",
       "      <td>MFI LABUAN LTD</td>\n",
       "      <td>LL07814</td>\n",
       "      <td>MFI LABUAN LTD</td>\n",
       "      <td>2017-07-13 00:00:00</td>\n",
       "      <td>COMPLETE</td>\n",
       "      <td>Other Payments</td>\n",
       "      <td>UNITED OVERSEAS BANK (MALAYSIA) BHD.</td>\n",
       "      <td>UNITED OVERSEAS BANK (MALAYSIA) BHD.</td>\n",
       "      <td>Q3</td>\n",
       "      <td>2017</td>\n",
       "      <td>Unknown</td>\n",
       "      <td>NaN</td>\n",
       "    </tr>\n",
       "    <tr>\n",
       "      <th>13904</th>\n",
       "      <td>128565.00</td>\n",
       "      <td>United States</td>\n",
       "      <td>NaN</td>\n",
       "      <td>LL08001</td>\n",
       "      <td>ANGLO-EASTERN (LABUAN) LIMITED</td>\n",
       "      <td>LL08001</td>\n",
       "      <td>ANGLO-EASTERN (LABUAN) LIMITED</td>\n",
       "      <td>2017-07-19 00:00:00</td>\n",
       "      <td>COMPLETE</td>\n",
       "      <td>Other Receipts</td>\n",
       "      <td>BNP PARIBAS MALAYSIA BERHAD</td>\n",
       "      <td>BNP PARIBAS MALAYSIA BERHAD</td>\n",
       "      <td>Q3</td>\n",
       "      <td>2017</td>\n",
       "      <td>Unknown</td>\n",
       "      <td>NaN</td>\n",
       "    </tr>\n",
       "    <tr>\n",
       "      <th>13922</th>\n",
       "      <td>47000.44</td>\n",
       "      <td>Australia</td>\n",
       "      <td>NaN</td>\n",
       "      <td>LL12954</td>\n",
       "      <td>FASA CENTRA SOLUTIONS LTD</td>\n",
       "      <td>LL12954</td>\n",
       "      <td>INTERNATIONAL CAPITAL MARKETS PTY LTD</td>\n",
       "      <td>2017-07-25 00:00:00</td>\n",
       "      <td>COMPLETE</td>\n",
       "      <td>Other Payments</td>\n",
       "      <td>RHB BANK BERHAD</td>\n",
       "      <td>RHB BANK BERHAD</td>\n",
       "      <td>Q3</td>\n",
       "      <td>2017</td>\n",
       "      <td>Unknown</td>\n",
       "      <td>NaN</td>\n",
       "    </tr>\n",
       "  </tbody>\n",
       "</table>\n",
       "</div>"
      ],
      "text/plain": [
       "       NR - MYR Amount Country.Country Description  \\\n",
       "13711        806802.00             LABUAN OFFSHORE   \n",
       "13767           435.24                 Netherlands   \n",
       "13903      17203246.00               United States   \n",
       "13904        128565.00               United States   \n",
       "13922         47000.44                   Australia   \n",
       "\n",
       "      NR Customer Details.Customer Beneficiary Remitter Account Number  \\\n",
       "13711                                                NaN                 \n",
       "13767                                                NaN                 \n",
       "13903                                                NaN                 \n",
       "13904                                                NaN                 \n",
       "13922                                                NaN                 \n",
       "\n",
       "      NR Customer Details.Customer Beneficiary Remitter Identification Number  \\\n",
       "13711                                            LL10729                        \n",
       "13767                                            LL11399                        \n",
       "13903                                            LL07814                        \n",
       "13904                                            LL08001                        \n",
       "13922                                            LL12954                        \n",
       "\n",
       "      NR Customer Details.Customer Beneficiary Remitter Name  \\\n",
       "13711                              APDIB HOLDING LIMITED       \n",
       "13767                       SPLENDID INVESTMENTS LIMITED       \n",
       "13903                                     MFI LABUAN LTD       \n",
       "13904                     ANGLO-EASTERN (LABUAN) LIMITED       \n",
       "13922                          FASA CENTRA SOLUTIONS LTD       \n",
       "\n",
       "      NR Transaction Details.Beneficiary Remitter Identification Number  \\\n",
       "13711                                            LL09362                  \n",
       "13767                                            LL11399                  \n",
       "13903                                            LL07814                  \n",
       "13904                                            LL08001                  \n",
       "13922                                            LL12954                  \n",
       "\n",
       "      NR Transaction Details.Name of Beneficiary Remitter  \\\n",
       "13711                           INTERACT PERFORMANCE LTD    \n",
       "13767                        SPLENDID INVESTMENT LIMITED    \n",
       "13903                                     MFI LABUAN LTD    \n",
       "13904                     ANGLO-EASTERN (LABUAN) LIMITED    \n",
       "13922              INTERNATIONAL CAPITAL MARKETS PTY LTD    \n",
       "\n",
       "      NR Transaction Details.Transaction Date  \\\n",
       "13711                     2017-08-10 00:00:00   \n",
       "13767                     2017-08-15 00:00:00   \n",
       "13903                     2017-07-13 00:00:00   \n",
       "13904                     2017-07-19 00:00:00   \n",
       "13922                     2017-07-25 00:00:00   \n",
       "\n",
       "      NR Transaction Details.Transaction Status  \\\n",
       "13711                                  COMPLETE   \n",
       "13767                                  COMPLETE   \n",
       "13903                                  COMPLETE   \n",
       "13904                                  COMPLETE   \n",
       "13922                                  COMPLETE   \n",
       "\n",
       "      NR Transaction Details.Transaction Type  \\\n",
       "13711                          Other Payments   \n",
       "13767                          Other Payments   \n",
       "13903                          Other Payments   \n",
       "13904                          Other Receipts   \n",
       "13922                          Other Payments   \n",
       "\n",
       "                   Reporting Entity.RE Name  \\\n",
       "13711       BANK OF CHINA (MALAYSIA) BERHAD   \n",
       "13767           BNP PARIBAS MALAYSIA BERHAD   \n",
       "13903  UNITED OVERSEAS BANK (MALAYSIA) BHD.   \n",
       "13904           BNP PARIBAS MALAYSIA BERHAD   \n",
       "13922                       RHB BANK BERHAD   \n",
       "\n",
       "                 Reporting Entity.RE Name 2  \\\n",
       "13711       BANK OF CHINA (MALAYSIA) BERHAD   \n",
       "13767           BNP PARIBAS MALAYSIA BERHAD   \n",
       "13903  UNITED OVERSEAS BANK (MALAYSIA) BHD.   \n",
       "13904           BNP PARIBAS MALAYSIA BERHAD   \n",
       "13922                       RHB BANK BERHAD   \n",
       "\n",
       "      Reporting Period.Reporting Quarter  Reporting Period.Reporting Year  \\\n",
       "13711                                 Q3                             2017   \n",
       "13767                                 Q3                             2017   \n",
       "13903                                 Q3                             2017   \n",
       "13904                                 Q3                             2017   \n",
       "13922                                 Q3                             2017   \n",
       "\n",
       "      Purpose Code.Purpose Code Description Reporting Period.Reporting Month  \n",
       "13711                               Unknown                              NaN  \n",
       "13767                               Unknown                              NaN  \n",
       "13903                               Unknown                              NaN  \n",
       "13904                               Unknown                              NaN  \n",
       "13922                               Unknown                              NaN  "
      ]
     },
     "execution_count": 113,
     "metadata": {},
     "output_type": "execute_result"
    }
   ],
   "source": [
    "dfTemp.head()"
   ]
  },
  {
   "cell_type": "code",
   "execution_count": 116,
   "metadata": {},
   "outputs": [
    {
     "data": {
      "text/plain": [
       "['Labuan Companies']"
      ]
     },
     "execution_count": 116,
     "metadata": {},
     "output_type": "execute_result"
    }
   ],
   "source": [
    "[i for i,j in entitiesDict.items() if 'LL10729' in j]"
   ]
  },
  {
   "cell_type": "code",
   "execution_count": 117,
   "metadata": {},
   "outputs": [
    {
     "data": {
      "text/plain": [
       "['Labuan Companies']"
      ]
     },
     "execution_count": 117,
     "metadata": {},
     "output_type": "execute_result"
    }
   ],
   "source": [
    "[i for i,j in entitiesDict.items() if 'LL09362' in j]"
   ]
  },
  {
   "cell_type": "code",
   "execution_count": 118,
   "metadata": {},
   "outputs": [],
   "source": [
    "sumResult2 = []\n",
    "#sum up result1, result2 and result3\n",
    "uniqueSet = dfResult2[[\"Sector\", \"TransactionType\", \"Year\"]].values\n",
    "for i in uniqueSet:\n",
    "    sumAmount = dfResult.query(\"Sector == '%s' & TransactionType == '%s' & Year == %s\"%(i[0], i[1], i[2]))['TotalAmount'].values[0]\\\n",
    "                + dfResult2.query(\"Sector == '%s' & TransactionType == '%s' & Year == %s\"%(i[0], i[1], i[2]))['TotalAmount'].values[0]\\\n",
    "             + dfResult3.query(\"Sector == '%s' & TransactionType == '%s' & Year == %s\"%(i[0], i[1], i[2]))['TotalAmount'].values[0]\n",
    "    sumTrans = dfResult.query(\"Sector == '%s' & TransactionType == '%s' & Year == %s\"%(i[0], i[1], i[2]))['NoTrans'].values[0]\\\n",
    "                + dfResult2.query(\"Sector == '%s' & TransactionType == '%s' & Year == %s\"%(i[0], i[1], i[2]))['NoTrans'].values[0]\\\n",
    "                + dfResult3.query(\"Sector == '%s' & TransactionType == '%s' & Year == %s\"%(i[0], i[1], i[2]))['NoTrans'].values[0]\n",
    "    tempList = [i[0], i[1], i[2], sumAmount, sumTrans]\n",
    "    sumResult2.append(tempList)"
   ]
  },
  {
   "cell_type": "code",
   "execution_count": 119,
   "metadata": {},
   "outputs": [
    {
     "data": {
      "text/html": [
       "<div>\n",
       "<style scoped>\n",
       "    .dataframe tbody tr th:only-of-type {\n",
       "        vertical-align: middle;\n",
       "    }\n",
       "\n",
       "    .dataframe tbody tr th {\n",
       "        vertical-align: top;\n",
       "    }\n",
       "\n",
       "    .dataframe thead th {\n",
       "        text-align: right;\n",
       "    }\n",
       "</style>\n",
       "<table border=\"1\" class=\"dataframe\">\n",
       "  <thead>\n",
       "    <tr style=\"text-align: right;\">\n",
       "      <th></th>\n",
       "      <th>Sector</th>\n",
       "      <th>TransactionType</th>\n",
       "      <th>Year</th>\n",
       "      <th>TotalAmount</th>\n",
       "      <th>NoTrans</th>\n",
       "    </tr>\n",
       "  </thead>\n",
       "  <tbody>\n",
       "    <tr>\n",
       "      <th>0</th>\n",
       "      <td>Banks</td>\n",
       "      <td>Payments</td>\n",
       "      <td>2017</td>\n",
       "      <td>4.460797e+09</td>\n",
       "      <td>367</td>\n",
       "    </tr>\n",
       "    <tr>\n",
       "      <th>1</th>\n",
       "      <td>Insurance</td>\n",
       "      <td>Payments</td>\n",
       "      <td>2017</td>\n",
       "      <td>1.663351e+09</td>\n",
       "      <td>4376</td>\n",
       "    </tr>\n",
       "    <tr>\n",
       "      <th>2</th>\n",
       "      <td>Leasing</td>\n",
       "      <td>Payments</td>\n",
       "      <td>2017</td>\n",
       "      <td>4.849410e+08</td>\n",
       "      <td>553</td>\n",
       "    </tr>\n",
       "    <tr>\n",
       "      <th>3</th>\n",
       "      <td>LITC</td>\n",
       "      <td>Payments</td>\n",
       "      <td>2017</td>\n",
       "      <td>2.402333e+09</td>\n",
       "      <td>340</td>\n",
       "    </tr>\n",
       "    <tr>\n",
       "      <th>4</th>\n",
       "      <td>Money Broker</td>\n",
       "      <td>Payments</td>\n",
       "      <td>2017</td>\n",
       "      <td>2.183508e+08</td>\n",
       "      <td>1876</td>\n",
       "    </tr>\n",
       "    <tr>\n",
       "      <th>...</th>\n",
       "      <td>...</td>\n",
       "      <td>...</td>\n",
       "      <td>...</td>\n",
       "      <td>...</td>\n",
       "      <td>...</td>\n",
       "    </tr>\n",
       "    <tr>\n",
       "      <th>83</th>\n",
       "      <td>Trust Company</td>\n",
       "      <td>Receipts</td>\n",
       "      <td>2020</td>\n",
       "      <td>2.054035e+08</td>\n",
       "      <td>4810</td>\n",
       "    </tr>\n",
       "    <tr>\n",
       "      <th>84</th>\n",
       "      <td>Foundations</td>\n",
       "      <td>Receipts</td>\n",
       "      <td>2020</td>\n",
       "      <td>1.007082e+07</td>\n",
       "      <td>28</td>\n",
       "    </tr>\n",
       "    <tr>\n",
       "      <th>85</th>\n",
       "      <td>Labuan Companies</td>\n",
       "      <td>Receipts</td>\n",
       "      <td>2020</td>\n",
       "      <td>2.947557e+10</td>\n",
       "      <td>35680</td>\n",
       "    </tr>\n",
       "    <tr>\n",
       "      <th>86</th>\n",
       "      <td>Partnerships</td>\n",
       "      <td>Receipts</td>\n",
       "      <td>2020</td>\n",
       "      <td>2.101274e+07</td>\n",
       "      <td>331</td>\n",
       "    </tr>\n",
       "    <tr>\n",
       "      <th>87</th>\n",
       "      <td>Trusts</td>\n",
       "      <td>Receipts</td>\n",
       "      <td>2020</td>\n",
       "      <td>3.326701e+06</td>\n",
       "      <td>3</td>\n",
       "    </tr>\n",
       "  </tbody>\n",
       "</table>\n",
       "<p>88 rows × 5 columns</p>\n",
       "</div>"
      ],
      "text/plain": [
       "              Sector TransactionType  Year   TotalAmount  NoTrans\n",
       "0             Banks         Payments  2017  4.460797e+09      367\n",
       "1         Insurance         Payments  2017  1.663351e+09     4376\n",
       "2           Leasing         Payments  2017  4.849410e+08      553\n",
       "3               LITC        Payments  2017  2.402333e+09      340\n",
       "4      Money Broker         Payments  2017  2.183508e+08     1876\n",
       "..               ...             ...   ...           ...      ...\n",
       "83    Trust Company         Receipts  2020  2.054035e+08     4810\n",
       "84      Foundations         Receipts  2020  1.007082e+07       28\n",
       "85  Labuan Companies        Receipts  2020  2.947557e+10    35680\n",
       "86      Partnerships        Receipts  2020  2.101274e+07      331\n",
       "87            Trusts        Receipts  2020  3.326701e+06        3\n",
       "\n",
       "[88 rows x 5 columns]"
      ]
     },
     "execution_count": 119,
     "metadata": {},
     "output_type": "execute_result"
    }
   ],
   "source": [
    "dfSumResult2 = pd.DataFrame(sumResult2)\n",
    "dfSumResult2.columns = [\"Sector\", \"TransactionType\", \"Year\", \"TotalAmount\", \"NoTrans\"]\n",
    "dfSumResult2"
   ]
  },
  {
   "cell_type": "code",
   "execution_count": 120,
   "metadata": {},
   "outputs": [],
   "source": [
    "#concat 2016 from dfResult and then dfSumResult (from 2017 onwards)\n",
    "dfResult2016 = dfResult.query(\"Year == 2016\")\n",
    "dfCombined2 = pd.concat([dfResult2016, dfSumResult2]).copy()"
   ]
  },
  {
   "cell_type": "code",
   "execution_count": 121,
   "metadata": {},
   "outputs": [],
   "source": [
    "csvFile = \"data/interim/2021-02-02_ItisEsTempTableCombined2.csv\"\n",
    "dfCombined2.to_csv(csvFile, index = False)"
   ]
  },
  {
   "cell_type": "code",
   "execution_count": 122,
   "metadata": {},
   "outputs": [
    {
     "data": {
      "text/html": [
       "<div>\n",
       "<style scoped>\n",
       "    .dataframe tbody tr th:only-of-type {\n",
       "        vertical-align: middle;\n",
       "    }\n",
       "\n",
       "    .dataframe tbody tr th {\n",
       "        vertical-align: top;\n",
       "    }\n",
       "\n",
       "    .dataframe thead th {\n",
       "        text-align: right;\n",
       "    }\n",
       "</style>\n",
       "<table border=\"1\" class=\"dataframe\">\n",
       "  <thead>\n",
       "    <tr style=\"text-align: right;\">\n",
       "      <th></th>\n",
       "      <th>Sector</th>\n",
       "      <th>TransactionType</th>\n",
       "      <th>Year</th>\n",
       "      <th>TotalAmount</th>\n",
       "      <th>NoTrans</th>\n",
       "    </tr>\n",
       "  </thead>\n",
       "  <tbody>\n",
       "    <tr>\n",
       "      <th>0</th>\n",
       "      <td>Banks</td>\n",
       "      <td>Receipts</td>\n",
       "      <td>2016</td>\n",
       "      <td>0.000000e+00</td>\n",
       "      <td>0</td>\n",
       "    </tr>\n",
       "    <tr>\n",
       "      <th>1</th>\n",
       "      <td>Insurance</td>\n",
       "      <td>Receipts</td>\n",
       "      <td>2016</td>\n",
       "      <td>0.000000e+00</td>\n",
       "      <td>0</td>\n",
       "    </tr>\n",
       "    <tr>\n",
       "      <th>2</th>\n",
       "      <td>Leasing</td>\n",
       "      <td>Receipts</td>\n",
       "      <td>2016</td>\n",
       "      <td>0.000000e+00</td>\n",
       "      <td>0</td>\n",
       "    </tr>\n",
       "    <tr>\n",
       "      <th>3</th>\n",
       "      <td>LITC</td>\n",
       "      <td>Receipts</td>\n",
       "      <td>2016</td>\n",
       "      <td>2.220020e+08</td>\n",
       "      <td>22</td>\n",
       "    </tr>\n",
       "    <tr>\n",
       "      <th>4</th>\n",
       "      <td>Money Broker</td>\n",
       "      <td>Receipts</td>\n",
       "      <td>2016</td>\n",
       "      <td>0.000000e+00</td>\n",
       "      <td>0</td>\n",
       "    </tr>\n",
       "    <tr>\n",
       "      <th>...</th>\n",
       "      <td>...</td>\n",
       "      <td>...</td>\n",
       "      <td>...</td>\n",
       "      <td>...</td>\n",
       "      <td>...</td>\n",
       "    </tr>\n",
       "    <tr>\n",
       "      <th>83</th>\n",
       "      <td>Trust Company</td>\n",
       "      <td>Receipts</td>\n",
       "      <td>2020</td>\n",
       "      <td>2.054035e+08</td>\n",
       "      <td>4810</td>\n",
       "    </tr>\n",
       "    <tr>\n",
       "      <th>84</th>\n",
       "      <td>Foundations</td>\n",
       "      <td>Receipts</td>\n",
       "      <td>2020</td>\n",
       "      <td>1.007082e+07</td>\n",
       "      <td>28</td>\n",
       "    </tr>\n",
       "    <tr>\n",
       "      <th>85</th>\n",
       "      <td>Labuan Companies</td>\n",
       "      <td>Receipts</td>\n",
       "      <td>2020</td>\n",
       "      <td>2.947557e+10</td>\n",
       "      <td>35680</td>\n",
       "    </tr>\n",
       "    <tr>\n",
       "      <th>86</th>\n",
       "      <td>Partnerships</td>\n",
       "      <td>Receipts</td>\n",
       "      <td>2020</td>\n",
       "      <td>2.101274e+07</td>\n",
       "      <td>331</td>\n",
       "    </tr>\n",
       "    <tr>\n",
       "      <th>87</th>\n",
       "      <td>Trusts</td>\n",
       "      <td>Receipts</td>\n",
       "      <td>2020</td>\n",
       "      <td>3.326701e+06</td>\n",
       "      <td>3</td>\n",
       "    </tr>\n",
       "  </tbody>\n",
       "</table>\n",
       "<p>110 rows × 5 columns</p>\n",
       "</div>"
      ],
      "text/plain": [
       "              Sector TransactionType  Year   TotalAmount  NoTrans\n",
       "0             Banks         Receipts  2016  0.000000e+00        0\n",
       "1         Insurance         Receipts  2016  0.000000e+00        0\n",
       "2           Leasing         Receipts  2016  0.000000e+00        0\n",
       "3               LITC        Receipts  2016  2.220020e+08       22\n",
       "4      Money Broker         Receipts  2016  0.000000e+00        0\n",
       "..               ...             ...   ...           ...      ...\n",
       "83    Trust Company         Receipts  2020  2.054035e+08     4810\n",
       "84      Foundations         Receipts  2020  1.007082e+07       28\n",
       "85  Labuan Companies        Receipts  2020  2.947557e+10    35680\n",
       "86      Partnerships        Receipts  2020  2.101274e+07      331\n",
       "87            Trusts        Receipts  2020  3.326701e+06        3\n",
       "\n",
       "[110 rows x 5 columns]"
      ]
     },
     "execution_count": 122,
     "metadata": {},
     "output_type": "execute_result"
    }
   ],
   "source": [
    "dfCombined2"
   ]
  },
  {
   "cell_type": "markdown",
   "metadata": {},
   "source": [
    "### Write Result"
   ]
  },
  {
   "cell_type": "code",
   "execution_count": 21,
   "metadata": {},
   "outputs": [],
   "source": [
    "excelFile = \"data/interim/2021-01-29_ItisSummaryLabuanFSA.xlsx\"\n",
    "with pd.ExcelWriter(excelFile) as writer:\n",
    "    dfFinal1.to_excel(writer, sheet_name = 'NoTrans')\n",
    "    dfFinal2.to_excel(writer, sheet_name = 'TotalAmount')"
   ]
  }
 ],
 "metadata": {
  "kernelspec": {
   "display_name": "Python 3",
   "language": "python",
   "name": "python3"
  },
  "language_info": {
   "codemirror_mode": {
    "name": "ipython",
    "version": 3
   },
   "file_extension": ".py",
   "mimetype": "text/x-python",
   "name": "python",
   "nbconvert_exporter": "python",
   "pygments_lexer": "ipython3",
   "version": "3.7.6"
  }
 },
 "nbformat": 4,
 "nbformat_minor": 4
}
