{
 "cells": [
  {
   "cell_type": "code",
   "execution_count": 1,
   "metadata": {},
   "outputs": [],
   "source": [
    "import pandas as pd\n",
    "import json\n",
    "from neo4j import GraphDatabase\n",
    "from datetime import datetime\n",
    "import re\n",
    "from networkx.readwrite import json_graph\n",
    "import networkx as nx"
   ]
  },
  {
   "cell_type": "markdown",
   "metadata": {},
   "source": [
    "### Connect neo4j"
   ]
  },
  {
   "cell_type": "code",
   "execution_count": 2,
   "metadata": {},
   "outputs": [],
   "source": [
    "#connect neo4j\n",
    "url = \"bolt://localhost:7687\"\n",
    "user = 'neo4j'\n",
    "password = 'bnm@1234' \n",
    "driver = GraphDatabase.driver(url, auth=(user, password))\n",
    "\n",
    "#udf to run neo4j query\n",
    "def runNeo4j(query, p = True):\n",
    "    resultList = []\n",
    "    with driver.session() as session:\n",
    "        res = session.run(query)\n",
    "        if p:\n",
    "            for i in res:\n",
    "                resultList.append(i)\n",
    "                print(i[0])\n",
    "        else:\n",
    "            for i in res:\n",
    "                resultList.append(i)\n",
    "            return resultList"
   ]
  },
  {
   "cell_type": "markdown",
   "metadata": {},
   "source": [
    "### UDF"
   ]
  },
  {
   "cell_type": "code",
   "execution_count": 3,
   "metadata": {},
   "outputs": [],
   "source": [
    "def buildNetworkDict(x):\n",
    "    start = datetime.now()\n",
    "    #instantiate a dict\n",
    "    graphDict = {}\n",
    "    graphDict['nodes'] = []\n",
    "    graphDict['links'] = []\n",
    "    #check if nodes neo id is unique\n",
    "    nodeIdList = []\n",
    "    #check if rel id is unique\n",
    "    relIdList = []\n",
    "\n",
    "    for i in x:\n",
    "        for category in ['a', 'b', 'r']:\n",
    "            #for nodes information\n",
    "            #sender or receiver\n",
    "            if category in ['a', 'b']:\n",
    "                #use neo4j id\n",
    "                nodesId = i[category].id\n",
    "                if nodesId not in nodeIdList:\n",
    "                    nodeIdList.append(nodesId)\n",
    "                    label = next(iter((i)[category].labels))\n",
    "                    tempDict = dict(i[category])\n",
    "                    tempDict['label'] = label\n",
    "                    tempDict['NeoId'] = nodesId\n",
    "                    graphDict['nodes'].append(tempDict)\n",
    "\n",
    "            #for relationship\n",
    "            elif category == 'r':\n",
    "    #             relType = i['r'][0].type      \n",
    "    #             transId = i['r'][0].id\n",
    "    #             linkTempDict['source'] = senderId\n",
    "    #             linkTempDict['target'] = receiverId\n",
    "    #             linkTempDict['type'] = relType\n",
    "    #             linkTempDict['transId'] = transId\n",
    "\n",
    "                #loop throu rel\n",
    "                for j in i['r']:\n",
    "                    linkTempDict = {}\n",
    "                    relId = j.id\n",
    "                    if relId not in relIdList:\n",
    "                        relIdList.append(relId)\n",
    "                        linkTempDict['source'] = j.nodes[0].id\n",
    "                        linkTempDict['target'] =j.nodes[1].id\n",
    "                        linkTempDict['type'] = j.type\n",
    "                        linkTempDict['transId'] = relId            \n",
    "                        graphDict['links'].append(linkTempDict)\n",
    "\n",
    "    #remove duplicated nodes and links\n",
    "    #noDupLinks = list({v['source']:v for v in graphDict['links']}.values())\n",
    "    #noDupNodes =  list({v['NeoId']:v for v in graphDict['nodes']}.values())\n",
    "\n",
    "    #build graphDict without duplicates\n",
    "    tempGraphDict = {}\n",
    "    tempGraphDict['nodes'] = graphDict['nodes']\n",
    "    tempGraphDict['links'] = graphDict['links']\n",
    "    # tempGraphDict['links'] = noDupLinks\n",
    "    time = datetime.now() - start\n",
    "    print(\"Estimated time: %s\"%time)\n",
    "    return tempGraphDict"
   ]
  },
  {
   "cell_type": "markdown",
   "metadata": {},
   "source": [
    "### Read file"
   ]
  },
  {
   "cell_type": "code",
   "execution_count": 5,
   "metadata": {},
   "outputs": [],
   "source": [
    "csvFile = \"D:/Users/figohjs/Documents/Network/data/raw/subject.csv\"\n",
    "df = pd.read_csv(csvFile)\n",
    "\n",
    "offenseList = df['Offence'].unique()"
   ]
  },
  {
   "cell_type": "code",
   "execution_count": 6,
   "metadata": {},
   "outputs": [
    {
     "data": {
      "text/plain": [
       "Fraud                           1428\n",
       "Corruption And Bribery           821\n",
       "Tax Evasion                      594\n",
       "Terrorism and TF                 418\n",
       "Others                           326\n",
       "Organised Crimes                 119\n",
       "Proliferation Financing          112\n",
       "Illicit Trafficking Of Drugs      98\n",
       "Money Laundering                  76\n",
       "Corruption                        70\n",
       "Name: Offence, dtype: int64"
      ]
     },
     "execution_count": 6,
     "metadata": {},
     "output_type": "execute_result"
    }
   ],
   "source": [
    "#top 10 offence\n",
    "df['Offence'].value_counts()[:10]"
   ]
  },
  {
   "cell_type": "markdown",
   "metadata": {},
   "source": [
    "### Scam"
   ]
  },
  {
   "cell_type": "code",
   "execution_count": null,
   "metadata": {},
   "outputs": [],
   "source": [
    "#number of scam cases\n",
    "scamOffense = [i for i in offenseList if re.search(\"Scam\", str(i), re.I)]\n",
    "dfScam = df[df['Offence'].isin(scamOffense)].copy()\n",
    "numScamOffense = dfScam.shape[0]\n",
    "print(\"Number of scam cases: %s\"%numScamOffense)\n",
    "print(\"Missing ID: %s\"%dfScam[pd.isnull(dfScam['ID'])].shape[0])\n",
    "print(\"Number of unique names: %s\"%len(dfScam['Name'].unique()))"
   ]
  },
  {
   "cell_type": "code",
   "execution_count": null,
   "metadata": {},
   "outputs": [],
   "source": [
    "#clean name\n",
    "dfScam['CleanName'] = dfScam['Name'].replace(to_replace = ['\\(.*\\)', '\\.'],\n",
    "                                             value = '',  regex = True).str.strip()\n",
    "scamNameList  = dfScam['CleanName'].unique()"
   ]
  },
  {
   "cell_type": "code",
   "execution_count": null,
   "metadata": {},
   "outputs": [],
   "source": [
    "#case insensitive search\n",
    "firstStr = ['a.pName =~ \"(?i)'  + i + '\"' for i in scamNameList]\n",
    "firstStr = ' or '.join(firstStr)\n",
    "# secondStr = ['b.pName =~ \"(?i)'  + i + '\"' for i in scamNameList]\n",
    "# secondStr = ' or '.join(secondStr)\n",
    "\n",
    "hops = 3\n",
    "start = datetime.now()\n",
    "query1 = \"MATCH (a)-[r*..%s]-(b) \"%hops\n",
    "query2 = \"WHERE (%s)\"%(firstStr)\n",
    "query3 = \"RETURN a, r, b\"\n",
    "finalQuery = query1 + query2 + query3\n",
    "result = runNeo4j(finalQuery, p = False)\n",
    "time = datetime.now() - start\n",
    "print(\"Estimated time: %s\"%time)"
   ]
  },
  {
   "cell_type": "code",
   "execution_count": null,
   "metadata": {},
   "outputs": [],
   "source": [
    "networkResult = buildNetworkDict(result)\n",
    "\n",
    "print(\"Number of unique nodes: %s\"%len(networkResult['nodes']))\n",
    "print(\"Number of links: %s\"%len(networkResult['links']))"
   ]
  },
  {
   "cell_type": "code",
   "execution_count": null,
   "metadata": {},
   "outputs": [],
   "source": [
    "#build network graph from dict of dict\n",
    "networkGraph = json_graph.node_link_graph(networkResult)\n",
    "#find number of subgraphs\n",
    "subGraphs = nx.connected_components(networkGraph)\n",
    "#filter out subgraphs with only one node\n",
    "subGraphsList = [i for i in list(subGraphs) if len(i)!=1]\n",
    "print(\"Number of subgraphs: %s\"%len(list(subGraphsList)))"
   ]
  },
  {
   "cell_type": "code",
   "execution_count": null,
   "metadata": {},
   "outputs": [],
   "source": [
    "jsonFile = \"D:/Users/figohjs/Documents/Network/data/interim/2021-02-19_ScamNetwork52Names.json\"\n",
    "with open(jsonFile, 'w') as file:\n",
    "    json.dump(networkResult, file) "
   ]
  },
  {
   "cell_type": "code",
   "execution_count": 4,
   "metadata": {},
   "outputs": [],
   "source": [
    "#for 5 hops\n",
    "filename = \"D:/Users/figohjs/Documents/Network/data/interim/2021-03-03_ScamId.csv\"\n",
    "dfScam2 = pd.read_csv(filename)\n",
    "\n",
    "idList = list(dfScam2['0'].values)"
   ]
  },
  {
   "cell_type": "code",
   "execution_count": null,
   "metadata": {},
   "outputs": [],
   "source": [
    "hops = 5\n",
    "start = datetime.now()\n",
    "query1 = \"WITH \" + str(idList) + ' as idList '\n",
    "query2 = \"MATCH (a:Entity)-[r*..%s]-(b:Entity) \"%hops\n",
    "query3 = \"WHERE any(i in a.pIdList where i in idList) \"\n",
    "query4 = \"RETURN a, r, b\"\n",
    "finalQuery = query1 + query2 + query3 + query4\n",
    "result = runNeo4j(finalQuery, p = False)\n",
    "time = datetime.now() - start\n",
    "print(\"Estimated time: %s\"%time)"
   ]
  },
  {
   "cell_type": "code",
   "execution_count": 10,
   "metadata": {},
   "outputs": [
    {
     "data": {
      "text/plain": [
       "0"
      ]
     },
     "execution_count": 10,
     "metadata": {},
     "output_type": "execute_result"
    }
   ],
   "source": [
    "len(result)"
   ]
  },
  {
   "cell_type": "code",
   "execution_count": null,
   "metadata": {},
   "outputs": [],
   "source": [
    "#first 100 names\n",
    "networkResult = buildNetworkDict(result)\n",
    "\n",
    "print(\"Number of unique nodes: %s\"%len(networkResult['nodes']))\n",
    "print(\"Number of links: %s\"%len(networkResult['links']))"
   ]
  },
  {
   "cell_type": "markdown",
   "metadata": {},
   "source": [
    "### Corruption"
   ]
  },
  {
   "cell_type": "code",
   "execution_count": null,
   "metadata": {},
   "outputs": [],
   "source": [
    "dfCorruption = df[df['Offence'] == 'Corruption And Bribery'].copy()\n",
    "numCorruptionOffense = dfCorruption.shape[0]\n",
    "print(\"Number of scam cases: %s\"%numCorruptionOffense)\n",
    "print(\"Missing ID: %s\"%dfCorruption[pd.isnull(dfCorruption['ID'])].shape[0])\n",
    "print(\"Number of unique names: %s\"%len(dfCorruption['Name'].unique()))"
   ]
  },
  {
   "cell_type": "code",
   "execution_count": null,
   "metadata": {},
   "outputs": [],
   "source": [
    "dfCorruption.head()"
   ]
  },
  {
   "cell_type": "code",
   "execution_count": null,
   "metadata": {},
   "outputs": [],
   "source": [
    "dfCorruption['CleanName'] = dfCorruption['Name'].replace(to_replace = ['\\(M\\)', '\\([\\d\\-]+\\)', '\\-', '\\.'],\n",
    "                                                            value = '',  regex = True)\\\n",
    "                                                .replace(to_replace = [\"\\&\"],\n",
    "                                                            value = 'AND', regex = True).str.strip()\n",
    "\n",
    "dfCorruption['FinalName'] = dfCorruption.apply(lambda x:x['CleanName'] if pd.isnull(x['ID'])\n",
    "                                                        else '', axis = 1)\n",
    "\n",
    "dfCorruption['ID'] = dfCorruption['ID'].replace(to_replace = [\"\\-\"],\n",
    "                                               value = '', regex = True)\n",
    "\n",
    "CorruptionNameList = [i for i in dfCorruption['FinalName'] if i!='']\n",
    "\n",
    "CorruptionIDList = list(dfCorruption[pd.notnull(dfCorruption['ID'])]['ID'].values)"
   ]
  },
  {
   "cell_type": "code",
   "execution_count": null,
   "metadata": {},
   "outputs": [],
   "source": [
    "#case insensitive search\n",
    "firstStr = ['a.pName =~ \"(?i)'  + i + '\"' for i in CorruptionNameList[:200]]\n",
    "firstStr = ' or '.join(firstStr)\n",
    "\n",
    "hops = 3\n",
    "start = datetime.now()\n",
    "query1 = \"WITH \" + str(CorruptionIDList) + ' as idList '\n",
    "query2 = \"MATCH (a)-[r*..%s]-(b) \"%hops\n",
    "# query3 = \"WHERE (%s) or any(i in a.pIdList where i in idList) \"%(firstStr)\n",
    "query3 = \"WHERE (%s) \"%(firstStr)\n",
    "query4 = \"RETURN a, r, b\"\n",
    "finalQuery = query1 + query2 + query3 + query4\n",
    "result = runNeo4j(finalQuery, p = False)\n",
    "time = datetime.now() - start\n",
    "print(\"Estimated time: %s\"%time)"
   ]
  },
  {
   "cell_type": "code",
   "execution_count": null,
   "metadata": {},
   "outputs": [],
   "source": [
    "len(result)"
   ]
  },
  {
   "cell_type": "code",
   "execution_count": null,
   "metadata": {},
   "outputs": [],
   "source": [
    "# import pickle\n",
    "# l = [1,2,3,4]\n",
    "# with open(\"test.txt\", \"wb\") as fp:   #Pickling\n",
    "#     pickle.dump(l, fp)\n",
    "    \n",
    "# with open(\"test.txt\", \"rb\") as fp:   # Unpickling\n",
    "#     b = pickle.load(fp)"
   ]
  },
  {
   "cell_type": "code",
   "execution_count": null,
   "metadata": {},
   "outputs": [],
   "source": [
    "type(result[0])"
   ]
  },
  {
   "cell_type": "code",
   "execution_count": null,
   "metadata": {},
   "outputs": [],
   "source": [
    "#case insensitive search\n",
    "firstStr = ['a.pName =~ \"(?i)'  + i + '\"' for i in CorruptionNameList[100:200]]\n",
    "firstStr = ' or '.join(firstStr)\n",
    "\n",
    "hops = 3\n",
    "start = datetime.now()\n",
    "query1 = \"WITH \" + str(CorruptionIDList) + ' as idList '\n",
    "query2 = \"MATCH (a)-[r*..%s]-(b) \"%hops\n",
    "# query3 = \"WHERE (%s) or any(i in a.pIdList where i in idList) \"%(firstStr)\n",
    "query3 = \"WHERE (%s) \"%(firstStr)\n",
    "query4 = \"RETURN a, r, b\"\n",
    "finalQuery = query1 + query2 + query3 + query4\n",
    "result = runNeo4j(finalQuery, p = False)\n",
    "time = datetime.now() - start\n",
    "print(\"Estimated time: %s\"%time)"
   ]
  },
  {
   "cell_type": "code",
   "execution_count": null,
   "metadata": {},
   "outputs": [],
   "source": [
    "len(result)"
   ]
  },
  {
   "cell_type": "code",
   "execution_count": null,
   "metadata": {},
   "outputs": [],
   "source": [
    "#first 100 names\n",
    "networkResult = buildNetworkDict(result)\n",
    "\n",
    "print(\"Number of unique nodes: %s\"%len(networkResult['nodes']))\n",
    "print(\"Number of links: %s\"%len(networkResult['links']))"
   ]
  },
  {
   "cell_type": "code",
   "execution_count": null,
   "metadata": {},
   "outputs": [],
   "source": [
    "jsonFile = \"D:/Users/figohjs/Documents/Network/data/interim/2021-02-28_CorruptionNetwork100Names.json\"\n",
    "with open(jsonFile, 'w') as file:\n",
    "    json.dump(networkResult, file) "
   ]
  },
  {
   "cell_type": "code",
   "execution_count": null,
   "metadata": {},
   "outputs": [],
   "source": [
    "len(result)"
   ]
  },
  {
   "cell_type": "code",
   "execution_count": null,
   "metadata": {},
   "outputs": [],
   "source": [
    "#second 100 names\n",
    "networkResult = buildNetworkDict(result)\n",
    "\n",
    "print(\"Number of unique nodes: %s\"%len(networkResult['nodes']))\n",
    "print(\"Number of links: %s\"%len(networkResult['links']))"
   ]
  },
  {
   "cell_type": "code",
   "execution_count": null,
   "metadata": {},
   "outputs": [],
   "source": [
    "jsonFile = \"D:/Users/figohjs/Documents/Network/data/interim/2021-02-28_CorruptionNetwork100Names2.json\"\n",
    "with open(jsonFile, 'w') as file:\n",
    "    json.dump(networkResult, file) "
   ]
  },
  {
   "cell_type": "code",
   "execution_count": null,
   "metadata": {},
   "outputs": [],
   "source": [
    "#case insensitive search\n",
    "firstStr = ['a.pName =~ \"(?i)'  + i + '\"' for i in CorruptionNameList[200:300]]\n",
    "firstStr = ' or '.join(firstStr)\n",
    "\n",
    "hops = 3\n",
    "start = datetime.now()\n",
    "query1 = \"WITH \" + str(CorruptionIDList) + ' as idList '\n",
    "query2 = \"MATCH (a)-[r*..%s]-(b) \"%hops\n",
    "# query3 = \"WHERE (%s) or any(i in a.pIdList where i in idList) \"%(firstStr)\n",
    "query3 = \"WHERE (%s) \"%(firstStr)\n",
    "query4 = \"RETURN a, r, b\"\n",
    "finalQuery = query1 + query2 + query3 + query4\n",
    "result = runNeo4j(finalQuery, p = False)\n",
    "time = datetime.now() - start\n",
    "print(\"Estimated time: %s\"%time)"
   ]
  },
  {
   "cell_type": "code",
   "execution_count": null,
   "metadata": {},
   "outputs": [],
   "source": [
    "#first 100 names\n",
    "networkResult = buildNetworkDict(result)\n",
    "\n",
    "print(\"Number of unique nodes: %s\"%len(networkResult['nodes']))\n",
    "print(\"Number of links: %s\"%len(networkResult['links']))"
   ]
  },
  {
   "cell_type": "code",
   "execution_count": null,
   "metadata": {},
   "outputs": [],
   "source": [
    "jsonFile = \"D:/Users/figohjs/Documents/Network/data/interim/2021-02-28_CorruptionNetwork100Names3.json\"\n",
    "with open(jsonFile, 'w') as file:\n",
    "    json.dump(networkResult, file) "
   ]
  },
  {
   "cell_type": "code",
   "execution_count": null,
   "metadata": {},
   "outputs": [],
   "source": [
    "#case insensitive search\n",
    "firstStr = ['a.pName =~ \"(?i)'  + i + '\"' for i in CorruptionNameList[300:400]]\n",
    "firstStr = ' or '.join(firstStr)\n",
    "\n",
    "hops = 3\n",
    "start = datetime.now()\n",
    "query1 = \"WITH \" + str(CorruptionIDList) + ' as idList '\n",
    "query2 = \"MATCH (a)-[r*..%s]-(b) \"%hops\n",
    "# query3 = \"WHERE (%s) or any(i in a.pIdList where i in idList) \"%(firstStr)\n",
    "query3 = \"WHERE (%s) \"%(firstStr)\n",
    "query4 = \"RETURN a, r, b\"\n",
    "finalQuery = query1 + query2 + query3 + query4\n",
    "result = runNeo4j(finalQuery, p = False)\n",
    "time = datetime.now() - start\n",
    "print(\"Estimated time: %s\"%time)"
   ]
  },
  {
   "cell_type": "code",
   "execution_count": null,
   "metadata": {},
   "outputs": [],
   "source": [
    "#first 100 names\n",
    "networkResult = buildNetworkDict(result)\n",
    "\n",
    "print(\"Number of unique nodes: %s\"%len(networkResult['nodes']))\n",
    "print(\"Number of links: %s\"%len(networkResult['links']))"
   ]
  },
  {
   "cell_type": "code",
   "execution_count": null,
   "metadata": {},
   "outputs": [],
   "source": [
    "jsonFile = \"D:/Users/figohjs/Documents/Network/data/interim/2021-02-28_CorruptionNetwork100Names4.json\"\n",
    "with open(jsonFile, 'w') as file:\n",
    "    json.dump(networkResult, file) "
   ]
  },
  {
   "cell_type": "code",
   "execution_count": null,
   "metadata": {},
   "outputs": [],
   "source": []
  }
 ],
 "metadata": {
  "kernelspec": {
   "display_name": "Python 3",
   "language": "python",
   "name": "python3"
  },
  "language_info": {
   "codemirror_mode": {
    "name": "ipython",
    "version": 3
   },
   "file_extension": ".py",
   "mimetype": "text/x-python",
   "name": "python",
   "nbconvert_exporter": "python",
   "pygments_lexer": "ipython3",
   "version": "3.7.6"
  }
 },
 "nbformat": 4,
 "nbformat_minor": 4
}
