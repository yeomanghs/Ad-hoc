{
 "cells": [
  {
   "cell_type": "code",
   "execution_count": 1,
   "metadata": {},
   "outputs": [],
   "source": [
    "import json\n",
    "import networkx as nx \n",
    "from networkx.readwrite import json_graph\n",
    "import pandas as pd\n",
    "from IPython.display import display, Math, Latex\n",
    "import re\n",
    "import sys\n",
    "sys.path.append(\"D:\\\\Users\\\\figohjs\\\\Documents\\\\Network\")\n",
    "from Script.helper_v2 import *\n",
    "from Script.generateHtml_v4 import generateHtml"
   ]
  },
  {
   "cell_type": "markdown",
   "metadata": {},
   "source": [
    "### UDF"
   ]
  },
  {
   "cell_type": "code",
   "execution_count": null,
   "metadata": {},
   "outputs": [],
   "source": []
  },
  {
   "cell_type": "markdown",
   "metadata": {},
   "source": [
    "### read data"
   ]
  },
  {
   "cell_type": "code",
   "execution_count": 4,
   "metadata": {},
   "outputs": [],
   "source": [
    "#json file - subnetwork\n",
    "jsonFile = \"D:/Users/figohjs/Documents/Network/data/interim/2021-02-19_ScamNetwork52Names.json\"\n",
    "with open(jsonFile, 'r') as f:\n",
    "    tempGraphDict = json.load(f)\n",
    "\n",
    "csvFile = \"D:/Users/figohjs/Documents/Network/data/raw/subject.csv\"\n",
    "df = pd.read_csv(csvFile)\n",
    "offenseList = df['Offence'].unique()"
   ]
  },
  {
   "cell_type": "markdown",
   "metadata": {},
   "source": [
    "### Overview"
   ]
  },
  {
   "cell_type": "code",
   "execution_count": 5,
   "metadata": {},
   "outputs": [
    {
     "name": "stdout",
     "output_type": "stream",
     "text": [
      "Number of scam cases: 73\n",
      "Missing ID: 73\n",
      "Number of unique names: 52\n"
     ]
    }
   ],
   "source": [
    "#How many person in scam in repo\n",
    "scamOffense = [i for i in offenseList if re.search(\"Scam\", str(i), re.I)]\n",
    "dfScam = df[df['Offence'].isin(scamOffense)].copy()\n",
    "numScamOffense = dfScam.shape[0]\n",
    "print(\"Number of scam cases: %s\"%numScamOffense)\n",
    "print(\"Missing ID: %s\"%dfScam[pd.isnull(dfScam['ID'])].shape[0])\n",
    "print(\"Number of unique names: %s\"%len(dfScam['Name'].unique()))"
   ]
  },
  {
   "cell_type": "code",
   "execution_count": 6,
   "metadata": {},
   "outputs": [
    {
     "name": "stdout",
     "output_type": "stream",
     "text": [
      "Number of unique names found in network: 16\n"
     ]
    }
   ],
   "source": [
    "#clean name\n",
    "dfScam['CleanName'] = dfScam['Name'].replace(to_replace = ['\\(.*\\)', '\\.'],\n",
    "                                             value = '',  regex = True).str.strip()\n",
    "scamNameList  = dfScam['CleanName'].unique()\n",
    "\n",
    "#build neoId to name dict\n",
    "neoIdtoNeoNameDict = {node['NeoId']:node['pName']\n",
    "                     for node in tempGraphDict['nodes'] if node['label'] in ['Entity']}\n",
    "neoIdtoNameDictTargetOnly = {i:j for i,j in neoIdtoNeoNameDict.items() if j in scamNameList}\n",
    "\n",
    "#one name may have more than 1 id\n",
    "print(\"Number of unique names found in network: %s\"%len(set(neoIdtoNameDictTargetOnly.values())))"
   ]
  },
  {
   "cell_type": "code",
   "execution_count": 6,
   "metadata": {},
   "outputs": [
    {
     "name": "stdout",
     "output_type": "stream",
     "text": [
      "Number of unique nodes: 48481\n",
      "Number of links: 96387\n"
     ]
    }
   ],
   "source": [
    "print(\"Number of unique nodes: %s\"%len(tempGraphDict['nodes']))\n",
    "print(\"Number of links: %s\"%len(tempGraphDict['links']))"
   ]
  },
  {
   "cell_type": "code",
   "execution_count": 7,
   "metadata": {},
   "outputs": [
    {
     "name": "stdout",
     "output_type": "stream",
     "text": [
      "Number of subgraphs: 43\n"
     ]
    }
   ],
   "source": [
    "#build network graph from dict of dict\n",
    "networkGraph = json_graph.node_link_graph(tempGraphDict)\n",
    "#find number of subgraphs\n",
    "subGraphs = nx.connected_components(networkGraph)\n",
    "#filter out subgraphs with only one node\n",
    "subGraphsList = [i for i in list(subGraphs) if len(i)!=1]\n",
    "print(\"Number of subgraphs: %s\"%len(list(subGraphsList)))\n",
    "assert len(list(subGraphsList)) == 43, \"number of subgraphs should be 43\""
   ]
  },
  {
   "cell_type": "code",
   "execution_count": 37,
   "metadata": {},
   "outputs": [
    {
     "data": {
      "text/plain": [
       "[{'uid': 'e-25e67746-6fcd-421e-974d-e5402e733792',\n",
       "  'pOccupation': ['Lawyer / Barrister / Solicitor'],\n",
       "  'pName': 'MOHD FAIZAL BIN AHMAD',\n",
       "  'pNameList': ['MOHD FAIZAL BIN AHMAD'],\n",
       "  'pCountry': ['MALAYSIA'],\n",
       "  'pIdList': ['700520016143', 'A1576955'],\n",
       "  'contact_list': ['072217828', '0127777828', '073337929', '072217929'],\n",
       "  'pOccupationDesc': [],\n",
       "  'label': 'Entity',\n",
       "  'NeoId': 8209078}]"
      ]
     },
     "execution_count": 37,
     "metadata": {},
     "output_type": "execute_result"
    }
   ],
   "source": [
    "[i for i in tempGraphDict['nodes'] if i['NeoId'] == 8209078]"
   ]
  },
  {
   "cell_type": "code",
   "execution_count": 38,
   "metadata": {},
   "outputs": [
    {
     "data": {
      "text/plain": [
       "[{'uid': 'e-b37e6a4d-8fa7-4508-b06e-b8815b838d21',\n",
       "  'pOccupation': [],\n",
       "  'pName': 'MOHD FAIZAL BIN AHMAD',\n",
       "  'pNameList': ['MOHD FAIZAL BIN AHMAD'],\n",
       "  'pCountry': ['MALAYSIA'],\n",
       "  'pIdList': ['840727085669'],\n",
       "  'contact_list': ['0122553104', '058072323', '0166613702', '016613702'],\n",
       "  'pOccupationDesc': [],\n",
       "  'label': 'Entity',\n",
       "  'NeoId': 8288836}]"
      ]
     },
     "execution_count": 38,
     "metadata": {},
     "output_type": "execute_result"
    }
   ],
   "source": [
    "[i for i in tempGraphDict['nodes'] if i['NeoId'] == 8288836]"
   ]
  },
  {
   "cell_type": "code",
   "execution_count": 39,
   "metadata": {},
   "outputs": [
    {
     "data": {
      "text/plain": [
       "[{'uid': 'e-f7923333-87b3-465c-b0c1-fd1805969e1d',\n",
       "  'pOccupation': ['Lawyer / Barrister / Solicitor'],\n",
       "  'pName': 'MOHD FAIZAL BIN AHMAD',\n",
       "  'pNameList': ['MOHD FAIZAL BIN AHMAD', 'MOHD FAIZAL'],\n",
       "  'pCountry': ['MALAYSIA'],\n",
       "  'pIdList': ['730803145049', 'A2445711'],\n",
       "  'contact_list': ['00387360515',\n",
       "   '0122902314',\n",
       "   '27308541',\n",
       "   '0387360515',\n",
       "   '0192902314',\n",
       "   'MFAIZAL@UDANET.CONM'],\n",
       "  'pOccupationDesc': [],\n",
       "  'label': 'Entity',\n",
       "  'NeoId': 8412685}]"
      ]
     },
     "execution_count": 39,
     "metadata": {},
     "output_type": "execute_result"
    }
   ],
   "source": [
    "[i for i in tempGraphDict['nodes'] if i['NeoId'] == 8412685]"
   ]
  },
  {
   "cell_type": "code",
   "execution_count": 9,
   "metadata": {},
   "outputs": [],
   "source": [
    "#build neoId to es uid dict\n",
    "neoIdtoUidDict = {node['NeoId']:node['uid']\n",
    "                 for node in tempGraphDict['nodes'] if node['label'] in ['Entity']}\n",
    "\n",
    "#neoId to Str Amount Dict\n",
    "neoIdtoStrAmountDict = dict([(i['NeoId'], i['pTotalAmount']) for i in tempGraphDict['nodes'] if i['label'] == 'Account'])\n",
    "\n",
    "#neoId to Ctr Amount Dict\n",
    "accountInfo = [i for i in tempGraphDict['nodes'] if i['label'] == 'Account']\n",
    "yearCol = ['p' + str(i) for i in range(2006, 2021)]\n",
    "neoIdtoCtrAmountDict = dict([(i['NeoId'], sum([float(i[col]) for col in i.keys() if col in yearCol])) for i in accountInfo])\n",
    "\n",
    "#neoIds of str node\n",
    "strNodeNeoIds = [i['NeoId'] for i in tempGraphDict['nodes'] if i['label'] == 'STR']\n",
    "\n",
    "#details of str node\n",
    "strNodeDetails = [i for i in tempGraphDict['nodes'] if i['label'] == 'STR']"
   ]
  },
  {
   "cell_type": "code",
   "execution_count": 45,
   "metadata": {},
   "outputs": [
    {
     "data": {
      "text/plain": [
       "{'uid': 'r-37f1d0c9-a54d-49ab-8b72-60a050f17c23',\n",
       " 'pOffence': 'Money Laundering',\n",
       " 'pStateId': 'JOHOR',\n",
       " 'pTrxAmount': '763798.81',\n",
       " 'pReportDate': '20/02/2014',\n",
       " 'pAttempted': 'N',\n",
       " 'pRecordTypeID': 'STR financial',\n",
       " 'pToTrxDate': '28/01/2014',\n",
       " 'pBranchId': 'JOHOR BAHRU (CITY SQUARE)',\n",
       " 'pRecordID': 'AA/021/S/2014/000199',\n",
       " 'pFromTrxDate': '23/02/2012',\n",
       " 'label': 'STR',\n",
       " 'NeoId': 14548206}"
      ]
     },
     "execution_count": 45,
     "metadata": {},
     "output_type": "execute_result"
    }
   ],
   "source": [
    "strNodeDetails[0]"
   ]
  },
  {
   "cell_type": "markdown",
   "metadata": {},
   "source": [
    "### Build table - validation purpose"
   ]
  },
  {
   "cell_type": "code",
   "execution_count": 16,
   "metadata": {},
   "outputs": [],
   "source": [
    "dfNetworkScam = pd.DataFrame()\n",
    "\n",
    "#list of neoIds for all nodes for each network\n",
    "dfNetworkScam['NeoIds'] = [i for i in subGraphsList]\n",
    "\n",
    "#get all transaction id for each network\n",
    "dfNetworkScam['TransIds'] = dfNetworkScam['NeoIds'].map(lambda x:[i['transId'] for i in tempGraphDict['links'] \n",
    "                                            if i['source'] in x and i['target'] in x])"
   ]
  },
  {
   "cell_type": "code",
   "execution_count": 17,
   "metadata": {},
   "outputs": [],
   "source": [
    "#check if str connected to each network contains scam/fraud\n",
    "def checkIfScam(neoIdArray):\n",
    "    offenceList = []\n",
    "    for array in neoIdArray:\n",
    "        tempList = []\n",
    "        strList = set(array) & set(strNodeNeoIds)\n",
    "        for strId in strList:\n",
    "            tempList.append([i['pOffence'] for i in strNodeDetails if i['NeoId'] == strId][0])\n",
    "        offenceList.append(tempList)\n",
    "    #check if scam/fraud in related str\n",
    "#     print(offenceList)\n",
    "    scamList = []\n",
    "    for offence in offenceList:\n",
    "        temp = [True for i in offence if re.search(\"scam|fraud\", str(i), re.I)]\n",
    "        if len(temp)>0:\n",
    "            scamList.append(True)\n",
    "        else:\n",
    "            scamList.append(False)\n",
    "    return scamList\n",
    "\n",
    "dfNetworkScam['IsScamFraud'] = checkIfScam(dfNetworkScam['NeoIds'].values)\n",
    "\n",
    "#target neoIds\n",
    "dfNetworkScam['TargetNeoIds'] = dfNetworkScam['NeoIds'].map(lambda x:set([i for i in x if i in neoIdtoNameDictTargetOnly.keys()]))\n",
    "\n",
    "#target names\n",
    "dfNetworkScam['TargetNames'] = dfNetworkScam['TargetNeoIds'].map(lambda x:[neoIdtoNameDictTargetOnly[i] for i in x])"
   ]
  },
  {
   "cell_type": "code",
   "execution_count": 22,
   "metadata": {},
   "outputs": [
    {
     "name": "stdout",
     "output_type": "stream",
     "text": [
      "Number of names found in network related to scam/fraud: 15\n",
      "Number of network related to scam/fraud: 10\n"
     ]
    }
   ],
   "source": [
    "nameList = dfNetworkScam[dfNetworkScam['IsScamFraud']]['TargetNames']\n",
    "uniqueNameList = set([j for i in nameList for j in i])\n",
    "print(\"Number of names found in network related to scam/fraud: %s\"%len(uniqueNameList))\n",
    "print(\"Number of network related to scam/fraud: %s\"%sum(dfNetworkScam['IsScamFraud']))"
   ]
  },
  {
   "cell_type": "code",
   "execution_count": 66,
   "metadata": {},
   "outputs": [
    {
     "data": {
      "text/plain": [
       "{'NORZERIN BINTI MISKAM'}"
      ]
     },
     "execution_count": 66,
     "metadata": {},
     "output_type": "execute_result"
    }
   ],
   "source": [
    "#the only name left out\n",
    "set(neoIdtoNameDictTargetOnly.values()).difference(uniqueNameList)"
   ]
  },
  {
   "cell_type": "code",
   "execution_count": 68,
   "metadata": {},
   "outputs": [
    {
     "data": {
      "text/html": [
       "<div>\n",
       "<style scoped>\n",
       "    .dataframe tbody tr th:only-of-type {\n",
       "        vertical-align: middle;\n",
       "    }\n",
       "\n",
       "    .dataframe tbody tr th {\n",
       "        vertical-align: top;\n",
       "    }\n",
       "\n",
       "    .dataframe thead th {\n",
       "        text-align: right;\n",
       "    }\n",
       "</style>\n",
       "<table border=\"1\" class=\"dataframe\">\n",
       "  <thead>\n",
       "    <tr style=\"text-align: right;\">\n",
       "      <th></th>\n",
       "      <th>NeoIds</th>\n",
       "      <th>TransIds</th>\n",
       "      <th>IsScamFraud</th>\n",
       "      <th>TargetNeoIds</th>\n",
       "      <th>TargetNames</th>\n",
       "    </tr>\n",
       "  </thead>\n",
       "  <tbody>\n",
       "    <tr>\n",
       "      <th>14</th>\n",
       "      <td>{16950017, 11893795, 16137924, 16929763, 41719...</td>\n",
       "      <td>[11566431, 11566430, 19286470, 19286469, 14859...</td>\n",
       "      <td>False</td>\n",
       "      <td>{11109587}</td>\n",
       "      <td>[NORZERIN BINTI MISKAM]</td>\n",
       "    </tr>\n",
       "  </tbody>\n",
       "</table>\n",
       "</div>"
      ],
      "text/plain": [
       "                                               NeoIds  \\\n",
       "14  {16950017, 11893795, 16137924, 16929763, 41719...   \n",
       "\n",
       "                                             TransIds  IsScamFraud  \\\n",
       "14  [11566431, 11566430, 19286470, 19286469, 14859...        False   \n",
       "\n",
       "   TargetNeoIds              TargetNames  \n",
       "14   {11109587}  [NORZERIN BINTI MISKAM]  "
      ]
     },
     "execution_count": 68,
     "metadata": {},
     "output_type": "execute_result"
    }
   ],
   "source": [
    "tempDf = dfNetworkScam[dfNetworkScam['TargetNames'].map(lambda x: True if 'NORZERIN BINTI MISKAM' in x else False)].copy()\n",
    "tempDf"
   ]
  },
  {
   "cell_type": "code",
   "execution_count": 69,
   "metadata": {},
   "outputs": [
    {
     "name": "stdout",
     "output_type": "stream",
     "text": [
      "[[]]\n"
     ]
    }
   ],
   "source": [
    "#check if str connected to each network contains scam/fraud\n",
    "def checkIfScam(neoIdArray):\n",
    "    offenceList = []\n",
    "    for array in neoIdArray:\n",
    "        tempList = []\n",
    "        strList = set(array) & set(strNodeNeoIds)\n",
    "        for strId in strList:\n",
    "            tempList.append([i['pOffence'] for i in strNodeDetails if i['NeoId'] == strId][0])\n",
    "        offenceList.append(tempList)\n",
    "    #check if scam/fraud in related str\n",
    "    print(offenceList)\n",
    "checkIfScam(tempDf['NeoIds'].values)"
   ]
  },
  {
   "cell_type": "code",
   "execution_count": 77,
   "metadata": {},
   "outputs": [
    {
     "name": "stdout",
     "output_type": "stream",
     "text": [
      "{'uid': 'c-1726b7ef-e393-4b11-8874-df6848bf0da4', 'pContactInfo': '0033723333', 'label': 'Contact', 'NeoId': 16950017}\n",
      "\n",
      "\n",
      "{'uid': 'e-fa38a8c4-1114-4bc6-9625-377f12064102', 'pOccupation': ['Police Officer'], 'pName': 'MONA ARI', 'pNameList': ['MONA ARI'], 'pCountry': ['MALAYSIA'], 'pIdList': ['RF130701', '770104135358', 'K0387972'], 'contact_list': ['00355145280', '0193749693', '0197539912', '0355145231', '0176236761'], 'pOccupationDesc': [], 'label': 'Entity', 'NeoId': 11893795}\n",
      "\n",
      "\n",
      "{'uid': 'c-3a32a00a-9203-43ba-8ed5-87190931d320', 'pContactInfo': '0140091546770000', 'label': 'Contact', 'NeoId': 16137924}\n",
      "\n",
      "\n",
      "{'uid': 'c-c3079f9e-6043-4b9b-9666-075c86fe9b40', 'pContactInfo': '0176236761', 'label': 'Contact', 'NeoId': 16929763}\n",
      "\n",
      "\n",
      "{'uid': 'a-f5ae56df-cb2a-4622-a96b-d6f769ddda66', 'pTrxTypeId': 'Aggregate', 'pTotalAmount': 89937.2, 'pAccountNo': '0740020009396', 'pStateId': 'SELANGOR', 'pAccountType': 'Savings Account', 'pReportingIns': 'AmIslamic Bank Berhad.', 'p2008': 89937.2, 'pBranchId': 'SHAH ALAM SEC 13', 'label': 'Account', 'NeoId': 4171908}\n",
      "\n",
      "\n",
      "{'p2013': 60000.0, 'uid': 'a-2ecfed68-167f-4716-b63f-cd7a90f43362', 'pTotalAmount': 60000.0, 'pAccountNo': '112103043823', 'pStateId': 'UNKNOWN', 'pAccountType': 'Savings Account', 'pReportingIns': 'Malayan Banking Berhad.', 'pBranchId': 'UNKNOWN', 'label': 'Account', 'NeoId': 7381706}\n",
      "\n",
      "\n",
      "{'uid': 'c-14f796ff-660e-465e-820e-c1de9b30461a', 'pContactInfo': '0123531744033342', 'label': 'Contact', 'NeoId': 16797228}\n",
      "\n",
      "\n",
      "{'uid': 'e-10eb3b0c-0337-4675-81c4-eaa3f6b1e983', 'pOccupation': [], 'pName': 'NORZERIN BINTI MISKAM', 'pNameList': ['NORZERIN BINTI MISKAM', 'NORZERIN BINTI MISKAN'], 'pCountry': ['MALAYSIA'], 'pIdList': ['800525015690'], 'contact_list': ['0140091546770000', '0123531744033342', '0033723333'], 'pOccupationDesc': [], 'label': 'Entity', 'NeoId': 11109587}\n",
      "\n",
      "\n",
      "{'uid': 'c-8b22826c-8677-4865-9225-1c55984925dd', 'pContactInfo': '0193749693', 'label': 'Contact', 'NeoId': 16469855}\n",
      "\n",
      "\n",
      "{'uid': 'e-8a875a29-4167-4326-a047-c8c209ea8d05', 'pOccupation': ['Police Officer', 'Government', 'Officer', 'Executive', 'Clerk', 'Administrator', 'Detective', 'Others', 'Retiree', 'Technician', 'Unknown', 'Secretary', 'General Worker'], 'pName': 'POLIS DI RAJA MALAYSIA TAMPOI BRANCH', 'pNameList': ['POLIS DIRAJA MALAYSIA', 'POLIS DIRAJA MALAYSIA BUKIT AMAN', 'SM 0262 POLIS DIRAJA MALAYSIA', 'POLIS DIRAJA DI MALAYSIA', 'POLIS DI RAJA MALAYSIA', 'POLIS DI RAJA MALAYSIA TAMPOI BRANCH'], 'pCountry': ['MALAYSIA'], 'pIdList': [], 'contact_list': ['0326222222', '0126625666'], 'pOccupationDesc': ['GOVERNMENT AGENCY - POLICE - INSPECTOR & ABOVE', 'ADMINISTRATIVE AND EXECUTIVE', 'GENERAL OFFICE CLERKS', 'POLICE/ARMY/ENFORC/SAFETY/SEC / GOVERNMENT SECTOR', 'ASSISTANT SUPERINTENDENT', 'LANCE CORPORAL', 'POLICE PERSONNEL', 'POLICE/ARMY/ENFORC/SAFETY/SEC', 'COPERAL', 'CLERK', 'UNITED NATION (PERSATUAN BANGSA BANGSA BERSATU)', 'POLICE OFFICER', 'INSPECTOR', 'DEPUTY OFFICER', 'RM5,000 TO RM5,999', 'INCOME: RM4,000 TO RM4,999', 'POLICE', 'SERGEANT', 'PUBLIC ADMINISTRATION AND DEFENCE', 'EMPLOYED AT POLIS DIRAJA MALAYSIA', 'GOVERNMENT SERVANT', 'GOVERNMENT AGENCY - POLICE - ASP & ABOVE', 'PROFESSIONAL POLICE INSPECTORS AND DETECTIVES', 'GOVERNMENT AGENCY - POLICE - SERGEANT & BELOW', 'GOVERNMENT AGENCY - POLICE - SEGEANT & BELOW', 'PUBLIC ADMIN & DEFENCE', 'POLICE TRAFFIC', 'CONSTABLE', 'LANS KOPERAL', 'KOPERAL', 'BHG KOMUNIKASI JAB LOGISTIK / PEJ POLIS BUKIT AMAN', 'CAW JENAYAH D7 IPD TIMUR LAUT, PULAU PINANG', 'ASSISTANT', 'PEMBANTU TADBIR', 'CHIEF INSPECTOR', 'PENOLONG PENGUASA POLIS', 'TIMBALAN PENGUASA', 'POLICEMAN', '1008 - GOVERNMENT AGENCY - POLICE - INSPECTOR & ABOVE', 'BAHAGIAN TEKNIKAL', 'PENOLONG PESURUHJAYA POLIS', 'SARJAN', 'CHIEF INSPECTOR OF POLICE', 'UNIFORMED SERVICES', 'LANCE KOPRAL', 'PEKERJA RENDAH AWAM', 'KONSTABEL', 'CORPORAL', 'INSPECTOR POLICE', 'UNKNOWN', 'PUBLIC SERVANT', 'PASUKAN GERAKAN MARIN IPD TAWAU', 'CONSTABLE IN POLICE FORCE', 'POLICEWOMAN', 'STATE HEAD OF CRIME BRANCH', 'SENIOR ASSISTANT COMMISSIONER II', 'POLICE SENIOR OFFICER', 'KELANTAN POLICE CHIEF', 'BAHAGIAN PENDAFTRAAN & KANTIN POLIS', 'KETUA POLIS CAWANGAN SG. PETANI', 'SERGEANT MAJOR', 'ASSISTANT POLICE SUPERINTENDENT', 'DEPUTY SUPERINTENDENT', 'ASSISTANT SUPERINTENDENT OF POLICE', 'DEPUTY SUPERINTENDENT OF POLICE', 'N/A', 'FINANCE OFFICER'], 'label': 'Entity', 'NeoId': 9123992}\n",
      "\n",
      "\n",
      "{'p2014': 95003.0, 'uid': 'a-ed0100b4-0bf3-46e1-b79e-c38aae57c9ed', 'pTrxTypeId': 'Aggregate', 'pTotalAmount': 95003.0, 'pAccountNo': '162106974640', 'pStateId': 'SELANGOR', 'pAccountType': 'Savings Account', 'pReportingIns': 'Maybank Islamic Berhad', 'pBranchId': 'SHAH ALAM', 'label': 'Account', 'NeoId': 6980442}\n",
      "\n",
      "\n",
      "{'uid': 'a-1c0460bc-537d-4a56-98e3-57a4b83b5385', 'p2015': 95000.0, 'pTotalAmount': 95000.0, 'pTrxTypeId': 'Cash Contra Credit', 'pAccountNo': '37493001626', 'pStateId': 'SELANGOR', 'pAccountType': 'Financing Account', 'pReportingIns': 'Hong Leong Islamic Bank Bhd', 'pBranchId': 'JALAN 227C', 'label': 'Account', 'NeoId': 6001438}\n",
      "\n",
      "\n",
      "{'uid': 'a-b3e47ce0-9d2e-45ec-9780-36f8533ae864', 'p2015': 91810.0, 'pTrxTypeId': 'Aggregate', 'pTotalAmount': 91810.0, 'pAccountNo': '910194849420', 'pStateId': 'SELANGOR', 'pAccountType': 'Current Account', 'pReportingIns': 'Standard Chartered Bank Malaysia Berhad', 'pBranchId': 'STANDARD CHARTERED BANK PUCHONG', 'label': 'Account', 'NeoId': 2784191}\n",
      "\n",
      "\n"
     ]
    }
   ],
   "source": [
    "for nodeId in tempDf['NeoIds'].values[0]:\n",
    "    print([i for i in tempGraphDict['nodes'] if i['NeoId'] == nodeId][0])\n",
    "    print('\\n')"
   ]
  },
  {
   "cell_type": "code",
   "execution_count": 89,
   "metadata": {},
   "outputs": [],
   "source": [
    "#extract ids\n",
    "targetNeoIdList = [j for i in dfNetworkScam[dfNetworkScam['IsScamFraud']]['TargetNeoIds'] for j in i]\n",
    "tempIdList = [i['pIdList'] for i in tempGraphDict['nodes'] if i['NeoId'] in targetNeoIdList]\n",
    "targetIdList = [j for i in tempIdList for j in i]\n",
    "#export to csv\n",
    "import csv\n",
    "filename = \"D:/Users/figohjs/Documents/Network/data/interim/2021-03-03_ScamId.csv\"\n",
    "# with open(filename, \"w\") as f:\n",
    "#     writer = csv.writer(f)\n",
    "#     writer.writerows(targetNeoIdList)\n",
    "pd.Series(targetIdList).to_csv(filename, index = False)"
   ]
  },
  {
   "cell_type": "markdown",
   "metadata": {},
   "source": [
    "### General Characteristics"
   ]
  },
  {
   "cell_type": "code",
   "execution_count": 18,
   "metadata": {},
   "outputs": [],
   "source": [
    "# dfNetworkScam = pd.DataFrame()\n",
    "\n",
    "# #list of neoIds for all nodes for each network\n",
    "# dfNetworkScam['NeoIds'] = [i for i in subGraphsList]\n",
    "\n",
    "# #get all transaction id for each network\n",
    "# dfNetworkScam['TransIds'] = dfNetworkScam['NeoIds'].map(lambda x:[i['transId'] for i in tempGraphDict['links'] \n",
    "#                                             if i['source'] in x and i['target'] in x])\n",
    "\n",
    "#number of nodes for each network\n",
    "dfNetworkScam['NumNodes'] = [len(i) for i in subGraphsList]\n",
    "\n",
    "#number of connection for each network\n",
    "dfNetworkScam['NumConnection'] = [len(i) - 1 for i in subGraphsList]\n",
    "\n",
    "#calculate number of Str\n",
    "dfNetworkScam['NumStr'] = dfNetworkScam['NeoIds'].map(lambda x:len(set(x) & set(strNodeNeoIds)))\n",
    "\n",
    "#get strAmount for each neoIds and sum it for each network\n",
    "dfNetworkScam['StrAmount'] = dfNetworkScam['NeoIds'].map(lambda x:sum([neoIdtoStrAmountDict.get(i, 0) for i in x]))\n",
    "\n",
    "#get ctrAmount for each neoIds and sum it for each network\n",
    "dfNetworkScam['CtrAmount'] = dfNetworkScam['NeoIds'].map(lambda x:sum([neoIdtoCtrAmountDict.get(i, 0) for i in x]))\n",
    "\n",
    "#target neoIds\n",
    "dfNetworkScam['TargetNeoIds'] = dfNetworkScam['NeoIds'].map(lambda x:set([i for i in x if i in neoIdtoNameDictTargetOnly.keys()]))\n",
    "\n",
    "#target names\n",
    "dfNetworkScam['TargetNames'] = dfNetworkScam['TargetNeoIds'].map(lambda x:[neoIdtoNameDictTargetOnly[i] for i in x])\n",
    "\n",
    "#number of targets for each network based on unique id\n",
    "dfNetworkScam['NumberTargetNeoId'] = dfNetworkScam['TargetNeoIds'].map(lambda x:len(set(x)))\n",
    "\n",
    "#number of targets for each network based on unique names\n",
    "dfNetworkScam['NumberTargetNames'] = dfNetworkScam['TargetNames'].map(lambda x:len(set(x)))\n",
    "\n",
    "#check if target shares contact for each network\n",
    "contactTransInfo = [i for i in tempGraphDict['links'] if i['type'] == 'HAS_CONTACT'] \n",
    "def checkTargetSharingContact(transIdArray, targetNeoIdArray):\n",
    "    resultBool = []\n",
    "    for i in zip(transIdArray, targetNeoIdArray):\n",
    "        #loop through contact transID if it is found in transID for each row\n",
    "        targetArray = [trans['target'] for trans in contactTransInfo \n",
    "                       if trans['transId'] in i[0] and trans['source'] in i[1]]\n",
    "        \n",
    "        #1 if has shared contact else 0\n",
    "        if len(set(targetArray)) != len(targetArray):\n",
    "            resultBool.append(1)\n",
    "        else:\n",
    "            resultBool.append(0)          \n",
    "    return resultBool\n",
    "\n",
    "dfNetworkScam['TargetSharingContact'] = checkTargetSharingContact(dfNetworkScam['TransIds'].values,\n",
    "                                                                  dfNetworkScam['TargetNeoIds'].values)"
   ]
  },
  {
   "cell_type": "markdown",
   "metadata": {},
   "source": [
    "### Network perspective"
   ]
  },
  {
   "cell_type": "code",
   "execution_count": 13,
   "metadata": {},
   "outputs": [
    {
     "data": {
      "text/latex": [
       "\n",
       "\\begin{equation}\n",
       "Density = \\frac{C}{n(n-1)}\n",
       "\\end{equation}\n",
       "\\begin{align}\n",
       "\\text{where } &\\text{C - actual connection,}\n",
       "\\newline\n",
       "&\\text{n - number of nodes}\n",
       "\\end{align}\n"
      ],
      "text/plain": [
       "<IPython.core.display.Latex object>"
      ]
     },
     "execution_count": 13,
     "metadata": {},
     "output_type": "execute_result"
    }
   ],
   "source": [
    "Latex(r\"\"\"\n",
    "\\begin{equation}\n",
    "Density = \\frac{C}{n(n-1)}\n",
    "\\end{equation}\n",
    "\\begin{align}\n",
    "\\text{where } &\\text{C - actual connection,}\n",
    "\\newline\n",
    "&\\text{n - number of nodes}\n",
    "\\end{align}\n",
    "\"\"\")"
   ]
  },
  {
   "cell_type": "code",
   "execution_count": 19,
   "metadata": {},
   "outputs": [],
   "source": [
    "def calculateDensity(x):\n",
    "    numCon = x['NumConnection']\n",
    "    numNode = x['NumNodes']\n",
    "    return numCon/(numNode*(numNode -1))\n",
    "\n",
    "#calculate density for each network\n",
    "dfNetworkScam['Density'] = dfNetworkScam.apply(calculateDensity, axis = 1)\n",
    "\n",
    "#degree centrality\n",
    "#assumption: important node has many connection d(i) = number of edges/no.of nodes - 1\n",
    "neoIdToDC = nx.degree_centrality(networkGraph)\n",
    "\n",
    "#degree centrality for each node for each network\n",
    "dfNetworkScam['DCList'] = dfNetworkScam['NeoIds'].map(lambda x:[neoIdToDC.get(i,0) for i in x])\n",
    "\n",
    "#get max degree centrality for each network\n",
    "dfNetworkScam['MaxDC'] = dfNetworkScam['DCList'].map(max)"
   ]
  },
  {
   "cell_type": "code",
   "execution_count": 20,
   "metadata": {},
   "outputs": [
    {
     "data": {
      "text/plain": [
       "Index(['NeoIds', 'TransIds', 'IsScamFraud', 'TargetNeoIds', 'TargetNames',\n",
       "       'NumNodes', 'NumConnection', 'NumStr', 'StrAmount', 'CtrAmount',\n",
       "       'NumberTargetNeoId', 'NumberTargetNames', 'TargetSharingContact',\n",
       "       'Density', 'DCList', 'MaxDC'],\n",
       "      dtype='object')"
      ]
     },
     "execution_count": 20,
     "metadata": {},
     "output_type": "execute_result"
    }
   ],
   "source": [
    "dfNetworkScam.columns"
   ]
  },
  {
   "cell_type": "code",
   "execution_count": 21,
   "metadata": {},
   "outputs": [],
   "source": [
    "#save df\n",
    "filename = \"D:/Users/figohjs/Documents/Network/data/interim/2021-03-09_ScamSubgraphsDF.csv\"\n",
    "dfNetworkScam.to_csv(filename, index = False)"
   ]
  },
  {
   "cell_type": "code",
   "execution_count": null,
   "metadata": {},
   "outputs": [],
   "source": []
  }
 ],
 "metadata": {
  "kernelspec": {
   "display_name": "Python 3",
   "language": "python",
   "name": "python3"
  },
  "language_info": {
   "codemirror_mode": {
    "name": "ipython",
    "version": 3
   },
   "file_extension": ".py",
   "mimetype": "text/x-python",
   "name": "python",
   "nbconvert_exporter": "python",
   "pygments_lexer": "ipython3",
   "version": "3.7.6"
  }
 },
 "nbformat": 4,
 "nbformat_minor": 4
}
