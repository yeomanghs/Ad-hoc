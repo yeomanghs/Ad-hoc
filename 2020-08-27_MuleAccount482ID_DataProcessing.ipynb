{
 "cells": [
  {
   "cell_type": "markdown",
   "metadata": {},
   "source": [
    "## Import Modules"
   ]
  },
  {
   "cell_type": "code",
   "execution_count": 1,
   "metadata": {},
   "outputs": [],
   "source": [
    "from neo4j import GraphDatabase\n",
    "import re\n",
    "import pandas as pd\n",
    "import itertools\n",
    "import numpy as np\n",
    "import json\n",
    "from datetime import datetime\n",
    "import networkx as nx \n",
    "from networkx.readwrite import json_graph\n",
    "import matplotlib.pyplot as plt \n",
    "from io import StringIO\n",
    "from elasticsearch import Elasticsearch, helpers\n",
    "from random import randint"
   ]
  },
  {
   "cell_type": "markdown",
   "metadata": {},
   "source": [
    "## Mule Account"
   ]
  },
  {
   "cell_type": "code",
   "execution_count": 2,
   "metadata": {},
   "outputs": [],
   "source": [
    "excelFile = \"D:/Users/figohjs/Documents/Network/data/raw/MuleAccount.xlsx\"\n",
    "\n",
    "dfMuleAccount = pd.read_excel(excelFile)\n",
    "\n",
    "#MR = master reference\n",
    "tagList = ['MR', ' ', np.nan]\n",
    "\n",
    "#482 unique ID\n",
    "IDlist = dfMuleAccount.query('`No. of Entry`>=3 & Tag in @tagList')\\\n",
    "['NRIC no. / Passport No. and Nationality (for foreigners) / Business or Company Registration No.'].unique()\n",
    "\n",
    "#remove - to query\n",
    "IDlist2 = [re.sub('-', '', i) for i in IDlist]"
   ]
  },
  {
   "cell_type": "code",
   "execution_count": 3,
   "metadata": {},
   "outputs": [
    {
     "data": {
      "text/plain": [
       "482"
      ]
     },
     "execution_count": 3,
     "metadata": {},
     "output_type": "execute_result"
    }
   ],
   "source": [
    "len(IDlist2)"
   ]
  },
  {
   "cell_type": "code",
   "execution_count": 129,
   "metadata": {},
   "outputs": [],
   "source": [
    "jsonFile = \"D:/Users/figohjs/Documents/Network/data/interim/2020-08-04_482ID_SubNet.json\"\n",
    "with open(jsonFile, 'r') as f:\n",
    "    tempGraphDict = json.load(f)"
   ]
  },
  {
   "cell_type": "code",
   "execution_count": 5,
   "metadata": {},
   "outputs": [
    {
     "name": "stdout",
     "output_type": "stream",
     "text": [
      "Number of target ID: 482\n",
      "Number of unique nodes: 13265\n",
      "Number of links: 15761\n"
     ]
    }
   ],
   "source": [
    "print(\"Number of target ID: %s\"%(len(IDlist2)))\n",
    "#1 ID -'610320135238' does not have any data in neo4j\n",
    "# ['810514035759',\n",
    "#  '991227136165',\n",
    "#  '921128075324',\n",
    "#  '740729135975',\n",
    "#  '751101075317'] have more than 1 neo4j ID\n",
    "print(\"Number of unique nodes: %s\"%len(tempGraphDict['nodes']))\n",
    "print(\"Number of links: %s\"%len(tempGraphDict['links']))\n",
    "# print(\"Number of ID (total - 482) found in neo4j: %s\" %481)"
   ]
  },
  {
   "cell_type": "code",
   "execution_count": 349,
   "metadata": {
    "scrolled": true
   },
   "outputs": [
    {
     "name": "stdout",
     "output_type": "stream",
     "text": [
      "Number of subgraphs: 377\n"
     ]
    }
   ],
   "source": [
    "#build network graph from dict of dict\n",
    "networkGraph = json_graph.node_link_graph(tempGraphDict)\n",
    "#find number of subgraphs\n",
    "subGraphs = nx.connected_components(networkGraph)\n",
    "#filter out subgraphs with only one node\n",
    "subGraphsList = [i for i in list(subGraphs) if len(i)!=1]\n",
    "print(\"Number of subgraphs: %s\"%len(list(subGraphsList)))"
   ]
  },
  {
   "cell_type": "code",
   "execution_count": 374,
   "metadata": {},
   "outputs": [
    {
     "data": {
      "text/plain": [
       "[10327569]"
      ]
     },
     "execution_count": 374,
     "metadata": {},
     "output_type": "execute_result"
    }
   ],
   "source": [
    "[i for i,j in neoIdtoIdDictOnlyTarget.items() if j == '000522131420']"
   ]
  },
  {
   "cell_type": "code",
   "execution_count": 375,
   "metadata": {},
   "outputs": [
    {
     "data": {
      "text/plain": [
       "'e-49e469c1-32a2-432e-8a71-32be1a2b4d4b'"
      ]
     },
     "execution_count": 375,
     "metadata": {},
     "output_type": "execute_result"
    }
   ],
   "source": [
    "neoIdtoUidDict[10327569]"
   ]
  },
  {
   "cell_type": "code",
   "execution_count": 376,
   "metadata": {},
   "outputs": [
    {
     "data": {
      "text/plain": [
       "['B-9-28 SRI BENDAHARA, JALAN SRI STULANG, TAMAN SRI STULANG, 80150 JOHOR BAHRU, JOHOR, MALAYSIA',\n",
       " 'B-9-28 JLN SRI STULANG, TMN SRI STULANG, JOHOR, 80150 JOHOR BAHRU, JOHOR, MALAYSIA',\n",
       " 'B-9-28, SRI BENDAHARA, JLN SRI STULANG, TMN SRI STULANG, JOHOR BAHRU, JOHOR 80150, MALAYSIA, 80150 JOHOR BAHRU, JOHOR, MALAYSIA',\n",
       " 'B-9-28, SRI BENDAHARA, JLN SRI STULANG, TMN SRI STULANG, , JOHOR , MALAYSIA, 80150 JOHOR BAHRU, JOHOR, MALAYSIA',\n",
       " 'C-01-06, JLN SEJAHTERA 1, TAMAN DESA SKUDAI, 81300 JOHOR BAHRU, JOHOR, MALAYSIA',\n",
       " 'B-9-28 SRI BENDAHARA, JALAN SRI STULANG, TAMAN SRI STULANG, JOHOR BAHRU JOHOR, 80150 JOHOR BAHRU, JOHOR, MALAYSIA',\n",
       " 'B-9-28 SRI BENDAHARA, JALAN SRI STULANG TAMAN SRI STULANG, 80150 JOHOR BAHRU, JOHOR, MALAWI']"
      ]
     },
     "execution_count": 376,
     "metadata": {},
     "output_type": "execute_result"
    }
   ],
   "source": [
    "uidToAddressDict['e-49e469c1-32a2-432e-8a71-32be1a2b4d4b']"
   ]
  },
  {
   "cell_type": "code",
   "execution_count": 377,
   "metadata": {},
   "outputs": [
    {
     "data": {
      "text/plain": [
       "[8910820]"
      ]
     },
     "execution_count": 377,
     "metadata": {},
     "output_type": "execute_result"
    }
   ],
   "source": [
    "[i for i,j in neoIdtoIdDictOnlyTarget.items() if j == '010528130348']"
   ]
  },
  {
   "cell_type": "code",
   "execution_count": 378,
   "metadata": {},
   "outputs": [
    {
     "data": {
      "text/plain": [
       "'e-6f6691d5-82c1-4842-b8f0-76b5551d88d1'"
      ]
     },
     "execution_count": 378,
     "metadata": {},
     "output_type": "execute_result"
    }
   ],
   "source": [
    "neoIdtoUidDict[8910820]"
   ]
  },
  {
   "cell_type": "code",
   "execution_count": 379,
   "metadata": {},
   "outputs": [
    {
     "data": {
      "text/plain": [
       "['B-7-26 SRI BENDAHARA, JALAN SRI STULANG, TAMAN SRI STULANG, 80150 TAMAN SRI STULANG, JOHOR, MALAYSIA',\n",
       " 'B-7-26 SRI BENDAHARA JLN SRI STULANG TAMAN SRI STULANG, 80150 JOHOR BAHRU, JOHOR, MALAYSIA',\n",
       " 'B-7-26 SRI BENDAHARA, JLN SRI STULANG, 80150 JOHOR BAHRU, JOHOR, MALAYSIA',\n",
       " 'B-7-26 SRI BENDAHARA JALAN SRI STULANG TAMAN SRI STULANG, 80150 JOHOR BAHRU, JOHOR, MALAYSIA',\n",
       " 'B-7-26 SRI BENDAHARA, JALAN SRI STULANG, TAMAN SRI STULANG, 80150 JOHOR BAHRU, JOHOR, MALAYSIA',\n",
       " 'B-7-26 SRI BENDAHARA JALAN SRI STULANG TAMAN SRI STULANG, 80150 JOHOR, JOHOR, MALAYSIA',\n",
       " 'B-7-28 SRI BENDAHARA, JLN SRI STULANG, 80150 JOHOR BAHRU, JOHOR, MALAYSIA',\n",
       " 'C-01-06, , JLN SEJAHTERA 1, TAMAN DESA SKUDAI, 81300 JOHOR BAHRU, JOHOR, MALAYSIA',\n",
       " 'B-7-26 SRI BENDAHARA JALAN SRI STULANG TAMAN SRI STULANG, 80150 JOHOR BHARU, JOHOR, MALAYSIA']"
      ]
     },
     "execution_count": 379,
     "metadata": {},
     "output_type": "execute_result"
    }
   ],
   "source": [
    "uidToAddressDict['e-6f6691d5-82c1-4842-b8f0-76b5551d88d1']"
   ]
  },
  {
   "cell_type": "markdown",
   "metadata": {},
   "source": [
    "## Build Dict"
   ]
  },
  {
   "cell_type": "code",
   "execution_count": 350,
   "metadata": {},
   "outputs": [],
   "source": [
    "#build neoId to id dict\n",
    "neoIdtoIdDict = {node['NeoId']:[i for i in node['pIdList'] if i in IDlist2] \n",
    "                 for node in tempGraphDict['nodes'] if node['label'] in ['Entity']}\n",
    "neoIdtoIdDict = {i:j[0] for i,j in neoIdtoIdDict.items() if len(j) == 1}\n",
    "#for target nodes - 482\n",
    "neoIdtoIdDictOnlyTarget = {i:j for i,j in neoIdtoIdDict.items() if j in IDlist2}\n",
    "\n",
    "#neoId only for target - 488 NeoIds, 1 ID may have more than 1 NeoId \n",
    "neoIdOnlyTarget = neoIdtoIdDictOnlyTarget.keys()\n",
    "#build neoId to es uid dict\n",
    "neoIdtoUidDict = {node['NeoId']:node['uid']\n",
    "                 for node in tempGraphDict['nodes'] if node['label'] in ['Entity']}\n",
    "#for target nodes - 482\n",
    "neoIdtoUidDictOnlyTarget = {i:j for i,j in neoIdtoUidDict.items() if i in neoIdOnlyTarget}\n",
    "\n",
    "#neoId list which has str node related to certain types of offence - 63\n",
    "# offenceType = ['Fraud', 'Cheating', 'Internet Scams/Wire Transfer Fraud', 'Money Laundering', 'Unknown']\n",
    "offenceType = ['Fraud', 'Cheating', 'Internet Scams/Wire Transfer Fraud']\n",
    "nodeOffenceNeoIdList = [node['NeoId'] for node in tempGraphDict['nodes'] if node['label'] == 'STR' \n",
    "                         and node['pOffence'] in offenceType]\n",
    "\n",
    "#neoIds of str node\n",
    "strNodeNeoIds = [i['NeoId'] for i in tempGraphDict['nodes'] if i['label'] == 'STR']\n",
    "\n",
    "#str Neo Id, amount tuple\n",
    "strAmountTuple = [(i['NeoId'], i['pTotalAmount']) for i in tempGraphDict['nodes'] if i['label'] == 'Account']\n",
    "\n",
    "#ctr Neo Id, amount tuple\n",
    "accountInfo = [i for i in tempGraphDict['nodes'] if i['label'] == 'Account']\n",
    "yearCol = ['p' + str(i) for i in range(2006, 2021)]\n",
    "ctrAmountTuple = [(i['NeoId'], sum([float(i[col]) for col in i.keys() if col in yearCol])) for i in accountInfo]\n",
    "\n",
    "#get trans info for is_employer edge\n",
    "transIdInfo_IsEmployer = [i for i in tempGraphDict['links'] if i['type'] == 'IS_EMPLOYER']\n",
    "\n",
    "#uid to NeoId dict\n",
    "uidToNeoIdDict = {j:i for i,j in neoIdtoUidDict.items()}"
   ]
  },
  {
   "cell_type": "code",
   "execution_count": 8,
   "metadata": {},
   "outputs": [],
   "source": [
    "#get address from es\n",
    "esUidList = list(neoIdtoUidDict.values())\n",
    "\n",
    "def multiSearch(fieldName, valueList):\n",
    "    #record head and body msg for request\n",
    "    searchBulk = StringIO()\n",
    "    for value in valueList:\n",
    "        #head\n",
    "        headMsg = {'index': indexName}\n",
    "        searchBulk.write('%s \\n' %json.dumps(headMsg))\n",
    "        #body\n",
    "        bodyMsg = {\"query\": {'match':{fieldName:value}}}\n",
    "        searchBulk.write('%s \\n' %json.dumps(bodyMsg))\n",
    "    \n",
    "    #start multiSearch\n",
    "    res = es.msearch(index = indexName, body = searchBulk.getvalue())\n",
    "    \n",
    "    #extract hits value\n",
    "    result = [i['hits']['hits'] for i in res['responses']]\n",
    "    \n",
    "    return result\n",
    "\n",
    "#connect es\n",
    "es = Elasticsearch([{'host': 'localhost', 'port':9200}])\n",
    "\n",
    "#get all indices in es\n",
    "# sorted(list(es.indices.get_alias('*').keys()))\n",
    "\n",
    "#query example\n",
    "# indexName = 'entity_db'\n",
    "# queryAll = {'match_all':{}}\n",
    "# res = es.search(index = indexName, size = 3, body = {'query':queryAll})\n",
    "# print(res)\n",
    "\n",
    "#query es\n",
    "indexName = 'entity_db'\n",
    "addressResult = multiSearch('uid', esUidList)"
   ]
  },
  {
   "cell_type": "code",
   "execution_count": 10,
   "metadata": {},
   "outputs": [],
   "source": [
    "#uid to address dict\n",
    "#only 518 uid can get address - len(uidToAddressDict)\n",
    "uidToAddressDict = {i[0]['_source']['uid']: i[0]['_source']['detail']['ADDRESS'] for i in addressResult\n",
    "                   if 'ADDRESS' in i[0]['_source']['detail'].keys()}\n",
    "\n",
    "jsonFile = \"D:/Users/figohjs/Documents/Network/data/interim/2020-08-21_482ID_Address.json\"\n",
    "with open(jsonFile, 'w') as file:\n",
    "    json.dump(uidToAddressDict, file) \n",
    "    \n",
    "# jsonFile = \"D:/Users/figohjs/Documents/Network/data/interim/2020-08-21_482ID_Address.json\"\n",
    "# with open(jsonFile, 'r') as f:\n",
    "#     uidToAddressDict = json.load(f)"
   ]
  },
  {
   "cell_type": "code",
   "execution_count": 88,
   "metadata": {},
   "outputs": [],
   "source": [
    "def checkTargetSharingAddress(esUidArray):\n",
    "    resultArray = []\n",
    "    #for each list of target uids\n",
    "    for uidArray in esUidArray:\n",
    "        addressDict = {}\n",
    "        cleanAddressArray = []\n",
    "        addressArray = [(uid, uidToAddressDict[uid]) for uid in uidArray if uid in uidToAddressDict.keys()]\n",
    "        #clean and standardize each list of address for each uid\n",
    "        regexSpecialChar = '\\/|\\,|\\:|\\(|\\)|\\?|\\*|\\-|\\[|\\]|\\.|\\+|\\&|\\=|\\%|\\-'\n",
    "        for i in addressArray:\n",
    "            cleanAddress = set([re.sub(\"\\s+\", \" \", re.sub(regexSpecialChar, '', j.lower())) for j in i[1]])\n",
    "            addressDict[i[0]] = cleanAddress\n",
    "            cleanAddressArray.append(cleanAddress)\n",
    "            \n",
    "        #get count for each unique address\n",
    "        addressCountDict = dict(pd.Series([j for i in cleanAddressArray for j in i]).value_counts())\n",
    "        sharedAddressList = [i for i, j in addressCountDict.items() if j > 1]\n",
    "        \n",
    "        #if sharedAddressList is not empty\n",
    "        if len(sharedAddressList)!=0:\n",
    "            for sharedAddress in sharedAddressList:\n",
    "                uidList = []\n",
    "                for i,j in addressDict.items():\n",
    "                    if sharedAddress in j:\n",
    "                        uidList.append(i)\n",
    "                        commonAddress = sharedAddress\n",
    "            resultArray.append((uidList, 1, commonAddress))\n",
    "        else:\n",
    "            resultArray.append(('', 0, ''))\n",
    "        \n",
    "    return resultArray"
   ]
  },
  {
   "cell_type": "code",
   "execution_count": 89,
   "metadata": {},
   "outputs": [],
   "source": [
    "targetSharingAddressTuple = checkTargetSharingAddress(df['targetMuleAccountESuid'].values)\n",
    "\n",
    "#1 if targets share address, else 0\n",
    "df['targetSharingAddress'] = [i[1] for i in targetSharingAddressTuple]\n",
    "\n",
    "#list of target uid sharing address\n",
    "df['targetUidSharingAddress'] = [i[0] for i in targetSharingAddressTuple]\n",
    "\n",
    "#common address if targets share\n",
    "df['commonAddress'] = [i[2] for i in targetSharingAddressTuple]"
   ]
  },
  {
   "cell_type": "code",
   "execution_count": 90,
   "metadata": {},
   "outputs": [
    {
     "data": {
      "text/plain": [
       "0    373\n",
       "1      4\n",
       "Name: targetSharingAddress, dtype: int64"
      ]
     },
     "execution_count": 90,
     "metadata": {},
     "output_type": "execute_result"
    }
   ],
   "source": [
    "df['targetSharingAddress'].value_counts()"
   ]
  },
  {
   "cell_type": "markdown",
   "metadata": {},
   "source": [
    "## Build table"
   ]
  },
  {
   "cell_type": "code",
   "execution_count": 351,
   "metadata": {},
   "outputs": [],
   "source": [
    "pandaDict = {}\n",
    "pandaDict['NeoIds'] = [i for i in subGraphsList]\n",
    "pandaDict['NumNodes'] = [len(i) for i in subGraphsList]\n",
    "pandaDict['NumConnection'] = [len(i) - 1 for i in subGraphsList]\n",
    "df = pd.DataFrame(pandaDict)\n",
    "\n",
    "#calculate number of Str\n",
    "df['numStr'] = df['NeoIds'].map(lambda x:len(set(x) & set(strNodeNeoIds)))\n",
    "\n",
    "#get strAmount for each neoIds and sum it for each subnet\n",
    "df['strAmount'] = df['NeoIds'].map(lambda x:sum([float(i[1]) for i in strAmountTuple if i[0] in x]))\n",
    "\n",
    "#get ctrAmount for each neoIds and sum it for each subnet\n",
    "df['ctrAmount'] = df['NeoIds'].map(lambda x:sum([float(i[1]) for i in ctrAmountTuple if i[0] in x]))\n",
    "\n",
    "#get all transaction id for each subnet\n",
    "df['TransIds'] = df['NeoIds'].map(lambda x:[i['transId'] for i in tempGraphDict['links'] \n",
    "                                            if i['source'] in x and i['target'] in x] )\n",
    "\n",
    "#target mule account ID\n",
    "df['targetMuleAccountID'] = df['NeoIds'].map(lambda x:set([neoIdtoIdDictOnlyTarget[i] \n",
    "                                                       for i in x if i in neoIdtoIdDictOnlyTarget.keys()]))\n",
    "\n",
    "#target mule account neoIds\n",
    "df['targetMuleAccountNeoIds'] = df['NeoIds'].map(lambda x:set([i for i in x if i in neoIdtoIdDictOnlyTarget.keys()]))\n",
    "\n",
    "#target mule account es uid\n",
    "df['targetMuleAccountESuid'] = df['NeoIds'].map(lambda x:set([neoIdtoUidDictOnlyTarget[i] \n",
    "                                                       for i in x if i in neoIdtoUidDictOnlyTarget.keys()]))\n",
    "\n",
    "def findNumConnIsEmployer(targetAllList, transAllList):\n",
    "    uniqueTransId = []\n",
    "    numConArray = []\n",
    "    for no, targetList in enumerate(targetAllList):\n",
    "        numCon = 0\n",
    "        for transNode in transIdInfo_IsEmployer:\n",
    "            if transNode['transId'] in set(transAllList[no]) and transNode['source'] in targetList and transNode['transId'] not in uniqueTransId:\n",
    "                uniqueTransId.append(transNode['transId'])\n",
    "                numCon += 1\n",
    "        numConArray.append(numCon)\n",
    "    return numConArray\n",
    "        \n",
    "def findNumConnIsEmployee(targetAllList, transAllList):\n",
    "    uniqueTransId = []\n",
    "    numConArray = []\n",
    "    for no, targetList in enumerate(targetAllList):\n",
    "        numCon = 0\n",
    "        for transNode in transIdInfo_IsEmployer:\n",
    "            if transNode['transId'] in set(transAllList[no]) and transNode['target'] in targetList and transNode['transId'] not in uniqueTransId:\n",
    "                uniqueTransId.append(transNode['transId'])\n",
    "                numCon += 1\n",
    "        numConArray.append(numCon)\n",
    "    return numConArray\n",
    "\n",
    "# def getHighestNumConnSameContactOrEmail(targetNeoIdsList):\n",
    "#     resultList = []\n",
    "#     for targetNeoIds in targetNeoIdsList:\n",
    "#         #extract all contract list info for all nodes in a subgraph\n",
    "#         contactListRaw = [i['contact_list'] for i in tempGraphDict['nodes']\n",
    "#                           if 'contact_list' in i.keys() and i['NeoId'] in targetNeoIds]\n",
    "\n",
    "#         #remove empty list\n",
    "#         contactListRaw = [i for i in contactListRaw if i!=[]]\n",
    "\n",
    "#         #get email list\n",
    "#         emailList = [j for i in contactListRaw for j in set(i) if re.search('@', j)]\n",
    "\n",
    "#         if len(emailList)!=0:\n",
    "#             #calculate frequency by email\n",
    "#             summaryEmail = pd.Series(emailList).value_counts()\n",
    "#             highestNumEmail = summaryEmail.values[0]\n",
    "#         else:\n",
    "#             highestNumEmail = 0\n",
    "\n",
    "#         #extract only contact list\n",
    "#         contactList = [j for i in contactListRaw for j in i if j not in emailList]\n",
    "\n",
    "#         if len(contactList)!=0:\n",
    "#             #calculate frequency by contact\n",
    "#             summaryContact = pd.Series(contactList).value_counts()\n",
    "#             #get top frequency\n",
    "#             highestNumContact = summaryContact.values[0]\n",
    "#         else:\n",
    "#             highestNumContact = 0\n",
    "        \n",
    "#         #store final result in d list\n",
    "#         resultList.append([highestNumEmail, highestNumContact])\n",
    "    \n",
    "#     return resultList\n",
    "\n",
    "#get highest num of shared emails and contacts\n",
    "# df['highestNumsShared'] = getHighestNumConnSameContactOrEmail(df['NeoIds'].values)\n",
    "\n",
    "#number of mule account in the list can be found in a subnetwork\n",
    "df['numberTarget'] = df['targetMuleAccountID'].map(lambda x:len(x))\n",
    "\n",
    "#find if there is any direct/indirect connection to offence\n",
    "df['connToOffence'] = df['NeoIds'].map(lambda x:1 if len([i for i in x if i in nodeOffenceNeoIdList]) > 0 else 0) \n",
    "\n",
    "#find number of connection as employer\n",
    "df['numConnIsEmployer'] = findNumConnIsEmployer(df['targetMuleAccountNeoIds'].values, df['TransIds'].values)\n",
    "\n",
    "#find number of connection as employee\n",
    "df['numConnIsEmployee'] = findNumConnIsEmployee(df['targetMuleAccountNeoIds'].values, df['TransIds'].values)\n",
    "\n",
    "# #highest number of either shared contact or email\n",
    "# df['highestNumSharedEither'] = df['highestNumsShared'].map(lambda x:max(x))\n",
    "\n",
    "contactNeoIdSet = set([i['NeoId'] for i in tempGraphDict['nodes'] if i['label'] == 'Contact'])\n",
    "#rel info for rel type = has_contact\n",
    "contactTransInfo = [i for i in tempGraphDict['links'] if i['type'] == 'HAS_CONTACT'] \n",
    "df['contactList'] = df['TransIds'].map(lambda x:[j['target'] for i in x for j in contactTransInfo if i == j['transId']])\n",
    "df['sharedContact'] = df['contactList'].map(lambda x:len(set(x))!=len(x))\n",
    "\n",
    "#check if target mule account(s) sharing contact\n",
    "def checkTargetSharingContact(transIdArray, targetNeoIdArray):\n",
    "    resultBool = []\n",
    "    for i in zip(transIdArray, targetNeoIdArray):\n",
    "        #loop through contact transID if it is found in transID for each row\n",
    "        targetArray = [trans['target'] for trans in contactTransInfo \n",
    "                       if trans['transId'] in i[0] and trans['source'] in i[1]]\n",
    "        \n",
    "        #1 if has shared contact else 0\n",
    "        if len(set(targetArray)) != len(targetArray):\n",
    "            resultBool.append(1)\n",
    "        else:\n",
    "            resultBool.append(0)\n",
    "            \n",
    "    return resultBool\n",
    "\n",
    "df['targetSharingContact'] = checkTargetSharingContact(df['TransIds'].values,\n",
    "                                                      df['targetMuleAccountNeoIds'].values)\n",
    "\n",
    "#get number of targets that are connected with is_employer as employer\n",
    "def findNumTargetConnIsEmployer(transIdArray, targetNeoIdArray):\n",
    "\n",
    "    numTargetArray = []\n",
    "    for no, targetList in enumerate(targetNeoIdArray):\n",
    "        uniqueTargetIds = []\n",
    "        for transNode in transIdInfo_IsEmployer:\n",
    "            if transNode['transId'] in set(transIdArray[no]) and transNode['source'] in targetList and transNode['source'] not in uniqueTargetIds:\n",
    "                uniqueTargetIds.append(transNode['source'])\n",
    "        if len(uniqueTargetIds)!=0:\n",
    "            numTargetArray.append(len(uniqueTargetIds))\n",
    "        else:\n",
    "            numTargetArray.append(0)\n",
    "    return numTargetArray\n",
    "\n",
    "df['numTargetConAsEmployer'] = findNumTargetConnIsEmployer(df['TransIds'].values,\n",
    "                                                      df['targetMuleAccountNeoIds'].values)"
   ]
  },
  {
   "cell_type": "code",
   "execution_count": 352,
   "metadata": {},
   "outputs": [],
   "source": [
    "def checkTargetSharingAddress(esUidArray):\n",
    "    resultArray = []\n",
    "    #for each list of target uids\n",
    "    for uidArray in esUidArray:\n",
    "        addressDict = {}\n",
    "        cleanAddressArray = []\n",
    "        #addressArray = [(uid, list of address)]\n",
    "        addressArray = [(uid, uidToAddressDict[uid]) for uid in uidArray if uid in uidToAddressDict.keys()]\n",
    "        #clean and standardize each list of address for each uid\n",
    "        regexSpecialChar = '\\/|\\,|\\:|\\(|\\)|\\?|\\*|\\-|\\[|\\]|\\.|\\+|\\&|\\=|\\%|\\-'\n",
    "        for i in addressArray:\n",
    "            cleanAddress = set([re.sub(\"\\s+\", \" \", re.sub(regexSpecialChar, '', j).lower()) for j in i[1]])\n",
    "            #uid: set of clean address\n",
    "            addressDict[i[0]] = cleanAddress\n",
    "            cleanAddressArray.append(cleanAddress)\n",
    "            \n",
    "        #get count for each unique address\n",
    "        addressCountDict = dict(pd.Series([j for i in cleanAddressArray for j in i]).value_counts())\n",
    "        #get all address that have count > 1\n",
    "        sharedAddressList = [i for i, j in addressCountDict.items() if j > 1]\n",
    "        \n",
    "        #if sharedAddressList is not empty\n",
    "        if len(sharedAddressList)!=0:\n",
    "            uidList = []\n",
    "            commonAddressList = []\n",
    "            #for each shared address\n",
    "            for sharedAddress in sharedAddressList:\n",
    "                uidList.append([i for i,j in addressDict.items() if sharedAddress in j])\n",
    "                #there can be more than 1 common address\n",
    "                if sharedAddress not in commonAddressList:\n",
    "                    commonAddressList.append(sharedAddress)\n",
    "            #store results                \n",
    "            resultArray.append((uidList, 1, commonAddressList))\n",
    "        else:\n",
    "            resultArray.append(('', 0, ''))\n",
    "        \n",
    "    return resultArray\n",
    "\n",
    "targetSharingAddressTuple = checkTargetSharingAddress(df['targetMuleAccountESuid'].values)\n",
    "\n",
    "#1 if targets share address, else 0\n",
    "df['targetSharingAddress'] = [i[1] for i in targetSharingAddressTuple]\n",
    "\n",
    "#list of target uid sharing address\n",
    "df['targetUidSharingAddress'] = [i[0] for i in targetSharingAddressTuple]\n",
    "\n",
    "#common address if targets share\n",
    "df['commonAddress'] = [i[2] for i in targetSharingAddressTuple]\n",
    "\n",
    "#address to list of uid dict\n",
    "# addressToUidDict = {i[2]:i[0] for i in targetSharingAddressTuple if i[1] == 1}\n",
    "addressToUidDict = {j:i[0][no] for i in targetSharingAddressTuple for no, j in enumerate(i[2]) if i[1] == 1}\n",
    "\n",
    "#extract all neoIds from tempGraphDict\n",
    "nodeNeoIdList = [i['NeoId'] for i in tempGraphDict['nodes']]\n",
    "\n",
    "#extract all transIds from tempGraphDict\n",
    "nodeTransIdList = [i['transId'] for i in tempGraphDict['links']]\n",
    "\n",
    "df['targetSharingContactOrAddress'] = df.apply(lambda x:0 if x['targetSharingAddress'] == 0 \n",
    "                                               and x['targetSharingContact'] == 0\n",
    "                                              else 1, axis = 1)"
   ]
  },
  {
   "cell_type": "code",
   "execution_count": 342,
   "metadata": {},
   "outputs": [
    {
     "data": {
      "text/plain": [
       "0    360\n",
       "1     17\n",
       "Name: targetSharingContact, dtype: int64"
      ]
     },
     "execution_count": 342,
     "metadata": {},
     "output_type": "execute_result"
    }
   ],
   "source": [
    "df['targetSharingContact'].value_counts()"
   ]
  },
  {
   "cell_type": "code",
   "execution_count": 343,
   "metadata": {},
   "outputs": [
    {
     "data": {
      "text/plain": [
       "0    359\n",
       "1     18\n",
       "Name: targetSharingContactOrAddress, dtype: int64"
      ]
     },
     "execution_count": 343,
     "metadata": {},
     "output_type": "execute_result"
    }
   ],
   "source": [
    "df['targetSharingContactOrAddress'].value_counts()"
   ]
  },
  {
   "cell_type": "code",
   "execution_count": 329,
   "metadata": {},
   "outputs": [],
   "source": [
    "#create address nodes and connect entities to address nodes \n",
    "allAddressNodes = [j for i in targetSharingAddressTuple for j in i[2] if i[1] != 0]\n",
    "\n",
    "tempNodeList = []\n",
    "tempLinkList = []\n",
    "\n",
    "#create dict to insert trans Id and node Id into df\n",
    "addressTransDict = {}\n",
    "addressNodeDict = {}\n",
    "\n",
    "for address in allAddressNodes:\n",
    "    randomNodeId = randint(1, len(nodeNeoIdList))\n",
    "    if randomNodeId in nodeNeoIdList:\n",
    "        while randomNodeId in nodeNeoIdList:\n",
    "            randomNodeId = randint(1, len(nodeNeoIdList))  \n",
    "    #update node info\n",
    "    tempNodeDict = {}\n",
    "    tempNodeDict['NeoId'] = randomNodeId\n",
    "    tempNodeDict['label'] = 'Address'\n",
    "    tempNodeDict['pName'] = address\n",
    "    tempNodeList.append(tempNodeDict)\n",
    "    #store address to node neo id \n",
    "    addressNodeDict[address] = randomNodeId\n",
    "    \n",
    "    #to store in addresstransDict\n",
    "    transList = []\n",
    "    for uid in addressToUidDict[address]:\n",
    "        randomTransId = randint(1, len(nodeTransIdList))\n",
    "        if randomTransId in nodeTransIdList:\n",
    "            while randomTransId in nodeTransIdList:\n",
    "                randomTransId = randint(1, len(nodeTransIdList))\n",
    "        #update link info\n",
    "        tempLinkDict = {}\n",
    "        tempLinkDict['source'] = uidToNeoIdDict[uid]\n",
    "        tempLinkDict['target'] = randomNodeId\n",
    "        tempLinkDict['type'] = 'SAME_ADDRESS'\n",
    "        tempLinkDict['transId'] = randomTransId\n",
    "        tempLinkList.append(tempLinkDict)\n",
    "        transList.append(randomTransId)\n",
    "        \n",
    "    addressTransDict[address] =   transList"
   ]
  },
  {
   "cell_type": "code",
   "execution_count": 362,
   "metadata": {},
   "outputs": [],
   "source": [
    "def addNodeIds(x):\n",
    "    tempList = [addressNodeDict[address] for address in x['commonAddress'] if x['targetSharingAddress'] == 1]\n",
    "    \n",
    "    if len(tempList)!=0:\n",
    "        unionSet = x['NeoIds'].union(set(tempList))\n",
    "        return unionSet\n",
    "    else:\n",
    "        return x['NeoIds']\n",
    "        \n",
    "df['NeoIds'] = df.apply(addNodeIds, axis = 1)\n",
    "\n",
    "#add transid for targets sharing common address\n",
    "def addTransIds(x):\n",
    "    tempList = []\n",
    "    #if sharing address is true\n",
    "    if x['sharedContact'] == 1:\n",
    "        for address in x['commonAddress']:\n",
    "            tempList += addressTransDict[address]\n",
    "        return x['TransIds'] + tempList\n",
    "    else:\n",
    "        return x['TransIds']\n",
    "\n",
    "df['TransIds'] = df.apply(addTransIds, axis = 1)"
   ]
  },
  {
   "cell_type": "code",
   "execution_count": 335,
   "metadata": {},
   "outputs": [],
   "source": [
    "jsonFile = \"D:/Users/figohjs/Documents/Network/data/interim/2020-08-04_482ID_SubNet.json\"\n",
    "with open(jsonFile, 'r') as f:\n",
    "    tempGraphDict = json.load(f)\n",
    "\n",
    "#update nodes in tempGraphDict\n",
    "for node in tempNodeList:\n",
    "#     print(node)\n",
    "    tempGraphDict['nodes'].append(node)\n",
    "\n",
    "#update links in tempGraphDict\n",
    "for link in tempLinkList:\n",
    "#     print(link)\n",
    "    tempGraphDict['links'].append(link)"
   ]
  },
  {
   "cell_type": "code",
   "execution_count": 334,
   "metadata": {},
   "outputs": [],
   "source": [
    "jsonFile = \"D:/Users/figohjs/Documents/Network/data/interim/2020-08-04_482ID_SubNet.json\"\n",
    "with open(jsonFile, 'r') as f:\n",
    "    tempGraphDict = json.load(f)"
   ]
  },
  {
   "cell_type": "code",
   "execution_count": 336,
   "metadata": {},
   "outputs": [],
   "source": [
    "jsonFile = \"D:/Users/figohjs/Documents/Network/data/interim/2020-08-26_482IDAddress_SubNet.json\"\n",
    "with open(jsonFile, 'w') as file:\n",
    "    json.dump(tempGraphDict, file) "
   ]
  },
  {
   "cell_type": "code",
   "execution_count": 369,
   "metadata": {},
   "outputs": [],
   "source": [
    "#save df\n",
    "# csvFile = \"D:/Users/figohjs/Documents/Network/data/interim/2020-08-02_482ID_SubGraphDF.csv\"\n",
    "csvFile = \"D:/Users/figohjs/Documents/Network/data/interim/2020-08-26_482ID_SubGraphDF.csv\"\n",
    "df.to_csv(csvFile, index = False)"
   ]
  },
  {
   "cell_type": "code",
   "execution_count": null,
   "metadata": {},
   "outputs": [],
   "source": [
    "#load df\n",
    "csvFile = \"D:/Users/figohjs/Documents/Network/data/interim/2020-07-29_377SubgraphsDF.csv\"\n",
    "df = pd.read_csv(csvFile)"
   ]
  },
  {
   "cell_type": "code",
   "execution_count": null,
   "metadata": {},
   "outputs": [],
   "source": []
  }
 ],
 "metadata": {
  "kernelspec": {
   "display_name": "Python 3",
   "language": "python",
   "name": "python3"
  },
  "language_info": {
   "codemirror_mode": {
    "name": "ipython",
    "version": 3
   },
   "file_extension": ".py",
   "mimetype": "text/x-python",
   "name": "python",
   "nbconvert_exporter": "python",
   "pygments_lexer": "ipython3",
   "version": "3.7.6"
  }
 },
 "nbformat": 4,
 "nbformat_minor": 4
}
