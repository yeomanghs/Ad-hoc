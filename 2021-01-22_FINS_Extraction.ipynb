{
 "cells": [
  {
   "cell_type": "code",
   "execution_count": 3,
   "metadata": {},
   "outputs": [],
   "source": [
    "import cx_Oracle\n",
    "import os\n",
    "import csv\n",
    "from timeit import default_timer as timer"
   ]
  },
  {
   "cell_type": "code",
   "execution_count": 12,
   "metadata": {},
   "outputs": [],
   "source": [
    "startTime = timer()\n",
    "\n",
    "csv_file = open(\"D:\\\\Users\\\\deyanlin\\\\Desktop\\\\org.csv\", \"w+\", encoding='utf-8')\n",
    "writer = csv.writer(csv_file, delimiter=',', lineterminator=\"\\n\", quoting=csv.QUOTE_NONNUMERIC)"
   ]
  },
  {
   "cell_type": "code",
   "execution_count": 13,
   "metadata": {},
   "outputs": [],
   "source": [
    "# need to install the oracle client\n",
    "os.environ[\"PATH\"] += os.pathsep + \"D:\\\\Users\\\\deyanlin\\\\Documents\\\\instantclient_19_5\"\n",
    "\n",
    "dsn_tns = cx_Oracle.makedsn('10.103.3.27', '1524', service_name='FINSDB')\n",
    "\n",
    "conn = cx_Oracle.connect(user=r'deyanlin', password='pwd#Deya12', dsn=dsn_tns)\n",
    "c = conn.cursor()\n",
    "\n",
    "#columns = \"A.\" + \",A.\".join(str_columns) + \",B.OTHER_SUSPICION\"\n",
    "\n",
    "# c.execute(\"SELECT %s from FINS.STR_ENTITY_ADDRESS_SUSP_VW A, FINS.STR B WHERE A.RECORD_ID = B.RECORD_ID AND A.REPORTED_DATE >= to_date('2019-12-01 20:00:00', 'YYYY-MM-DD HH24:MI:SS') AND A.REPORTED_DATE <= to_date('2019-12-02 21:59:59',  'YYYY-MM-DD HH24:MI:SS')\" % (columns))\n",
    "df = c.execute(\"SELECT A.ORG_ID,A.ORG_NAME,B.ORG_GROUP_NAME FROM FINS.ORGANIZATION A LEFT JOIN FINS.ORG_GROUP B ON B.ORG_GROUP_ID=A.ORG_GROUP_ID\")\n",
    "writer.writerow([i[0] for i in c.description ]) # heading row\n",
    "\n",
    "numRows = 500\n",
    "while True:\n",
    "    rows = c.fetchmany(numRows)\n",
    "    if not rows:\n",
    "        break\n",
    "    \n",
    "    for row in rows:\n",
    "        writer.writerow(row)\n",
    "        \n",
    "csv_file.close()\n",
    "conn.close()\n",
    "\n"
   ]
  },
  {
   "cell_type": "markdown",
   "metadata": {},
   "source": [
    "### Jiun"
   ]
  },
  {
   "cell_type": "code",
   "execution_count": 1,
   "metadata": {},
   "outputs": [],
   "source": [
    "import cx_Oracle\n",
    "import os\n",
    "import csv\n",
    "from timeit import default_timer as timer"
   ]
  },
  {
   "cell_type": "code",
   "execution_count": 2,
   "metadata": {},
   "outputs": [],
   "source": [
    "startTime = timer()\n",
    "\n",
    "csv_file = open(\"D:\\\\Users\\\\figohjs\\\\Documents\\\\Extraction\\\\org.csv\", \"w+\", encoding='utf-8')\n",
    "writer = csv.writer(csv_file, delimiter=',', lineterminator=\"\\n\", quoting=csv.QUOTE_NONNUMERIC)"
   ]
  },
  {
   "cell_type": "code",
   "execution_count": 3,
   "metadata": {},
   "outputs": [],
   "source": [
    "# need to install the oracle client\n",
    "os.environ[\"PATH\"] += os.pathsep + \"D:\\\\Users\\\\figohjs\\\\Documents\\\\Extraction\\\\instantclient_19_5\"\n",
    "\n",
    "dsn_tns = cx_Oracle.makedsn('10.103.3.27', '1524', service_name='FINSDB')\n",
    "\n",
    "conn = cx_Oracle.connect(user=r'deyanlin', password='pwd#Deya12', dsn=dsn_tns)\n",
    "c = conn.cursor()\n",
    "\n",
    "#columns = \"A.\" + \",A.\".join(str_columns) + \",B.OTHER_SUSPICION\"\n",
    "\n",
    "# c.execute(\"SELECT %s from FINS.STR_ENTITY_ADDRESS_SUSP_VW A, FINS.STR B WHERE A.RECORD_ID = B.RECORD_ID AND A.REPORTED_DATE >= to_date('2019-12-01 20:00:00', 'YYYY-MM-DD HH24:MI:SS') AND A.REPORTED_DATE <= to_date('2019-12-02 21:59:59',  'YYYY-MM-DD HH24:MI:SS')\" % (columns))\n",
    "df = c.execute(\"SELECT A.ORG_ID,A.ORG_NAME,B.ORG_GROUP_NAME FROM FINS.ORGANIZATION A LEFT JOIN FINS.ORG_GROUP B ON B.ORG_GROUP_ID=A.ORG_GROUP_ID\")\n",
    "writer.writerow([i[0] for i in c.description ]) # heading row\n",
    "\n",
    "numRows = 500\n",
    "while True:\n",
    "    rows = c.fetchmany(numRows)\n",
    "    if not rows:\n",
    "        break\n",
    "    \n",
    "    for row in rows:\n",
    "        writer.writerow(row)\n",
    "        \n",
    "csv_file.close()\n",
    "conn.close()"
   ]
  },
  {
   "cell_type": "code",
   "execution_count": null,
   "metadata": {},
   "outputs": [],
   "source": []
  }
 ],
 "metadata": {
  "kernelspec": {
   "display_name": "TestEnv",
   "language": "python",
   "name": "testenv"
  },
  "language_info": {
   "codemirror_mode": {
    "name": "ipython",
    "version": 3
   },
   "file_extension": ".py",
   "mimetype": "text/x-python",
   "name": "python",
   "nbconvert_exporter": "python",
   "pygments_lexer": "ipython3",
   "version": "3.7.6"
  }
 },
 "nbformat": 4,
 "nbformat_minor": 2
}
